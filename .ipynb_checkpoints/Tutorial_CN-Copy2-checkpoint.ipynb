{
 "cells": [
  {
   "cell_type": "markdown",
   "id": "11e730a2",
   "metadata": {},
   "source": [
    "## Water Demand Tutorial"
   ]
  },
  {
   "cell_type": "code",
   "execution_count": null,
   "id": "3c5635d1",
   "metadata": {},
   "outputs": [],
   "source": [
    "%matplotlib inline\n",
    "\n",
    "import os\n",
    "import pandas as pd\n",
    "import numpy as np\n",
    "import geopandas as gpd\n",
    "import matplotlib.pyplot as plt\n",
    "from cartopy.feature import ShapelyFeature\n",
    "import cartopy.crs as ccrs\n",
    "import matplotlib.patches as mpatches\n",
    "import matplotlib.lines as mlines\n",
    "import folium\n",
    "import scipy\n",
    "import seaborn as sns\n",
    "\n",
    "# Set Seaborn style and color palette\n",
    "sns.set_style(\"darkgrid\")\n",
    "sns.set_palette(\"husl\")\n",
    "\n",
    "# generate matplotlib handles to create a legend of the features we put in our map.\n",
    "def generate_handles(labels, colors, edge='k', alpha=1):\n",
    "    lc = len(colors)  # get the length of the color list\n",
    "    handles = []\n",
    "    for i in range(len(labels)):\n",
    "        handles.append(mpatches.Rectangle((0, 0), 1, 1, facecolor=colors[i % lc], edgecolor=edge, alpha=alpha))\n",
    "    return handles\n",
    "\n",
    "\n",
    "# create a scale bar of length 20 km in the upper right corner of the map\n",
    "# adapted this question: https://stackoverflow.com/q/32333870\n",
    "# answered by SO user Siyh: https://stackoverflow.com/a/35705477\n",
    "def scale_bar(ax, location=(0.92, 0.95)):\n",
    "    x0, x1, y0, y1 = ax.get_extent()\n",
    "    sbx = x0 + (x1 - x0) * location[0]\n",
    "    sby = y0 + (y1 - y0) * location[1]\n",
    "\n",
    "    ax.plot([sbx, sbx - 20000], [sby, sby], color='k', linewidth=9, transform=ax.projection)\n",
    "    ax.plot([sbx, sbx - 10000], [sby, sby], color='k', linewidth=6, transform=ax.projection)\n",
    "    ax.plot([sbx-10000, sbx - 20000], [sby, sby], color='w', linewidth=6, transform=ax.projection)\n",
    "\n",
    "    ax.text(sbx, sby-4500, '20 km', transform=ax.projection, fontsize=8)\n",
    "    ax.text(sbx-12500, sby-4500, '10 km', transform=ax.projection, fontsize=8)\n",
    "    ax.text(sbx-24500, sby-4500, '0 km', transform=ax.projection, fontsize=8)"
   ]
  },
  {
   "cell_type": "code",
   "execution_count": null,
   "id": "355d7ca1",
   "metadata": {},
   "outputs": [],
   "source": [
    "# load the outline of UK for a backdrop\n",
    "outline = gpd.read_file(os.path.abspath('data_files/Outline.shp'))"
   ]
  },
  {
   "cell_type": "code",
   "execution_count": null,
   "id": "6e27428a",
   "metadata": {},
   "outputs": [],
   "source": [
    "# Load water company data as wrz, remove unnecessary columns\n",
    "wrz = gpd.read_file(os.path.abspath('data_files/WaterSupplyAreas_incNAVs v1_4.shp'))\n",
    "# List of columns to be removed\n",
    "columns_to_remove = ['Disclaimer', 'Disclaim2', 'Disclaim3', 'Provenance', 'Licence', 'WARNINGS', 'Revisions']\n",
    "\n",
    "# Drop the columns from the GeoDataFrame\n",
    "wrz = wrz.drop(columns=columns_to_remove)"
   ]
  },
  {
   "cell_type": "code",
   "execution_count": null,
   "id": "283d3c65",
   "metadata": {},
   "outputs": [],
   "source": [
    "wrz.head(10)"
   ]
  },
  {
   "cell_type": "code",
   "execution_count": null,
   "id": "fbff59c0",
   "metadata": {},
   "outputs": [],
   "source": [
    "myFig = plt.figure(figsize=(10, 10))  # create a figure of size 10x10 (representing the page size in inches)\n",
    "\n",
    "myCRS = ccrs.TransverseMercator(27700)  # create a Universal Transverse Mercator reference system to transform our data.\n",
    "\n",
    "ax = plt.axes(projection=myCRS)  # finally, create an axes object in the figure, using a UTM projection,\n",
    "# where we can actually plot our data."
   ]
  },
  {
   "cell_type": "code",
   "execution_count": null,
   "id": "cfdc824c",
   "metadata": {},
   "outputs": [],
   "source": [
    "# first, we just add the outline of Northern Ireland using cartopy's ShapelyFeature\n",
    "outline_feature = ShapelyFeature(outline['geometry'], myCRS, edgecolor='k', facecolor='w')\n",
    "xmin, ymin, xmax, ymax = outline.total_bounds\n",
    "ax.add_feature(outline_feature) # add the features we've created to the map."
   ]
  },
  {
   "cell_type": "code",
   "execution_count": null,
   "id": "c506a59d",
   "metadata": {},
   "outputs": [],
   "source": [
    "# using the boundary of the shapefile features, zoom the map to our area of interest\n",
    "ax.set_extent([xmin-5000, xmax+5000, ymin-5000, ymax+5000], crs=myCRS) # because total_bounds \n",
    "# gives output as xmin, ymin, xmax, ymax,\n",
    "# but set_extent takes xmin, xmax, ymin, ymax, we re-order the coordinates here.\n",
    "\n",
    "myFig ## re-draw the figure"
   ]
  },
  {
   "cell_type": "code",
   "execution_count": null,
   "id": "86ea87d1",
   "metadata": {},
   "outputs": [],
   "source": [
    "# get the number of unique water companies we have in the dataset\n",
    "num_wrz = len(wrz.COMPANY.unique())\n",
    "print('Number of unique features: {}'.format(num_wrz))"
   ]
  },
  {
   "cell_type": "code",
   "execution_count": null,
   "id": "38d695e7",
   "metadata": {},
   "outputs": [],
   "source": [
    "# pick colours for the individual water companies- generate random RGB colors\n",
    "num_colours = num_wrz  # Number of colours to generate\n",
    "company_colours = sns.color_palette(\"husl\", n_colors=num_colours)  # Use Seaborn color palette"
   ]
  },
  {
   "cell_type": "code",
   "execution_count": null,
   "id": "d272bd9d",
   "metadata": {},
   "outputs": [],
   "source": [
    "# get a list of unique names for the company boundaries\n",
    "company_names = list(wrz.COMPANY.unique())\n",
    "company_names.sort() # sort the companies alphabetically by name"
   ]
  },
  {
   "cell_type": "code",
   "execution_count": null,
   "id": "34632fd9",
   "metadata": {},
   "outputs": [],
   "source": [
    "# next, add the company outlines to the map using the colours that we've picked.\n",
    "for ii, name in enumerate(company_names):\n",
    "    feat = ShapelyFeature(wrz.loc[wrz['COMPANY'] == name, 'geometry'], # first argument is the geometry\n",
    "                          myCRS, # second argument is the CRS\n",
    "                          edgecolor='k', # outline the feature in black\n",
    "                          facecolor=company_colours[ii], # set the face color to the corresponding color from the list\n",
    "                          linewidth=1, # set the outline width to be 1 pt\n",
    "                          alpha=0.25) # set the alpha (transparency) to be 0.25 (out of 1)\n",
    "    ax.add_feature(feat) # once we have created the feature, we have to add it to the map using ax.add_feature()"
   ]
  },
  {
   "cell_type": "code",
   "execution_count": null,
   "id": "52362289",
   "metadata": {},
   "outputs": [],
   "source": [
    "#myFig # to show the updated figure"
   ]
  },
  {
   "cell_type": "code",
   "execution_count": null,
   "id": "a5b3f2d3",
   "metadata": {},
   "outputs": [],
   "source": [
    "# Add vertical gridlines\n",
    "ax.vlines(x=[100000, 200000, 300000, 400000, 500000, 600000, 700000],\n",
    "          ymin=ax.get_ylim()[0], ymax=ax.get_ylim()[1],\n",
    "          color='gray', linestyle=':', linewidth=0.5)\n",
    "\n",
    "# Add horizontal gridlines\n",
    "ax.hlines(y=[100000, 200000, 300000, 400000, 500000, 600000, 700000, 800000, 900000, 1000000, 1100000, 1200000],\n",
    "          xmin=ax.get_xlim()[0], xmax=ax.get_xlim()[1],\n",
    "          color='gray', linestyle=':', linewidth=0.5)\n",
    "\n",
    "# Add labels to x-axis\n",
    "x_ticks = [100000, 200000, 300000, 400000, 500000, 600000, 700000]\n",
    "for x in x_ticks:\n",
    "    ax.text(x, ax.get_ylim()[0] - 50000, str(x), ha='center', va='top', fontsize=8)\n",
    "\n",
    "# Add labels to y-axis\n",
    "y_ticks = [100000, 200000, 300000, 400000, 500000, 600000, 700000, 800000, 900000, 1000000, 1100000, 1200000]\n",
    "for y in y_ticks:\n",
    "    ax.text(ax.get_xlim()[0] - 50000, y, str(y), ha='right', va='center', fontsize=8)\n",
    "\n",
    "ax.set_xlabel('X Axis Label')\n",
    "ax.set_ylabel('Y Axis Label')\n",
    "\n",
    "myFig # to show the updated figure"
   ]
  },
  {
   "cell_type": "code",
   "execution_count": null,
   "id": "63d172da",
   "metadata": {},
   "outputs": [],
   "source": [
    "print(wrz.crs == outline.crs) # test if the crs is the same "
   ]
  },
  {
   "cell_type": "code",
   "execution_count": null,
   "id": "a72a1569",
   "metadata": {},
   "outputs": [],
   "source": [
    "wrz.loc[1]"
   ]
  },
  {
   "cell_type": "code",
   "execution_count": null,
   "id": "ad0a8f01",
   "metadata": {},
   "outputs": [],
   "source": [
    "# Append PCC for 2019 to 2020 to the wrz geodataframe\n",
    "\n",
    "# Load the CSV file\n",
    "pr24_hist_pcc = pd.read_csv('data_files/pr24_hist_pcc.csv')  \n",
    "\n",
    "# Perform the merge\n",
    "merged = wrz.merge(pr24_hist_pcc[['Company', '2019-20']], how='left', left_on='Acronym', right_on='Company')\n",
    "\n",
    "# Drop the unnecessary columns & rename the merged column\n",
    "merged.drop(['Company'], axis=1, inplace=True)\n",
    "merged.rename(columns={'2019-20': '2019-20_from_CSV'}, inplace=True)\n",
    "\n",
    "# Update the wrz GeoDataFrame with the merged column\n",
    "wrz['2019-20'] = merged['2019-20_from_CSV']"
   ]
  },
  {
   "cell_type": "code",
   "execution_count": null,
   "id": "142512d4",
   "metadata": {},
   "outputs": [],
   "source": [
    "#Add chloropleth map\n",
    "# Create the chloropleth map\n",
    "wrz.plot(column='2019-20', cmap='viridis', linewidth=0.8, edgecolor='black', legend=True, figsize=(10, 10))\n",
    "\n",
    "# Set plot title and axis labels\n",
    "plt.title('Chloropleth Map of 2019-20')\n",
    "plt.xlabel('Longitude')\n",
    "plt.ylabel('Latitude')\n",
    "\n",
    "# Show the plot\n",
    "plt.show()"
   ]
  },
  {
   "cell_type": "code",
   "execution_count": null,
   "id": "96a96075",
   "metadata": {},
   "outputs": [],
   "source": [
    "wrz.loc[1]"
   ]
  },
  {
   "cell_type": "code",
   "execution_count": null,
   "id": "3a602134",
   "metadata": {},
   "outputs": [],
   "source": [
    "# Append PCC for 2011 to 2012 to the wrz geodataframe\n",
    "# Load the GeoDataFrame\n",
    "# wrz = gpd.read_file(os.path.abspath('data_files/WaterSupplyAreas_incNAVs v1_4.shp'))  \n",
    "\n",
    "# Load the CSV file\n",
    "pr24_hist_pcc = pd.read_csv('data_files/pr24_hist_pcc.csv') \n",
    "\n",
    "# Perform the merge\n",
    "merged = wrz.merge(pr24_hist_pcc[['Company', '2011-12']], how='left', left_on='Acronym', right_on='Company')\n",
    "\n",
    "# Drop the unnecessary columns\n",
    "merged.drop(['Company'], axis=1, inplace=True)\n",
    "\n",
    "# Rename the merged column\n",
    "merged.rename(columns={'2011-12': '2011-12_from_CSV'}, inplace=True)\n",
    "\n",
    "# Update the wrz GeoDataFrame with the merged column\n",
    "wrz['2011-12'] = merged['2011-12_from_CSV']\n",
    "\n",
    "# Update the wrz GeoDataFrame with the merged column\n",
    "wrz['2011-12'] = merged['2011-12_from_CSV']\n",
    "\n",
    "# Check the updated GeoDataFrame\n",
    "wrz.loc[1]"
   ]
  },
  {
   "cell_type": "code",
   "execution_count": null,
   "id": "520a45f3",
   "metadata": {},
   "outputs": [],
   "source": [
    "# Create the chloropleth map\n",
    "wrz.plot(column='2011-12', cmap='viridis', linewidth=0.8, edgecolor='black', legend=True, figsize=(10, 10))\n",
    "\n",
    "# Set plot title and axis labels\n",
    "plt.title('Chloropleth Map of 2011-12')\n",
    "plt.xlabel('Longitude')\n",
    "plt.ylabel('Latitude')\n",
    "\n",
    "# Show the plot\n",
    "plt.show()"
   ]
  },
  {
   "cell_type": "code",
   "execution_count": null,
   "id": "bbfff445",
   "metadata": {},
   "outputs": [],
   "source": [
    "legend_kwds={'caption': 'Per Capita Water Consumption'} # set the caption to a longer explanation"
   ]
  },
  {
   "cell_type": "code",
   "execution_count": null,
   "id": "abc1ba55",
   "metadata": {},
   "outputs": [],
   "source": [
    "# Create a Folium map using the existing GeoDataFrame\n",
    "m = folium.Map()\n",
    "\n",
    "m = merged.explore('2019-20', # show the PCC for this period column\n",
    "                   cmap='YlOrRd', # use the 'plasma' colormap from matplotlib\n",
    "                   legend_kwds={'caption': 'PCC for 2019-20'} # set the caption to a longer explanation\n",
    "                  )\n",
    "\n",
    "airport_args = {\n",
    "    'm': m, # add the markers to the same map we just created\n",
    "    'marker_type': 'marker', # use a marker for the points, instead of a circle\n",
    "    'popup': True, # show the information as a popup when we click on the marker\n",
    "    'legend': False, # don't show a separate legend for the point layer\n",
    "    'marker_kwds': {'icon': folium.Icon(color='red', icon='dot', prefix='fa')} # make the markers red with a dot icon from FA\n",
    "}\n",
    "m"
   ]
  },
  {
   "cell_type": "code",
   "execution_count": null,
   "id": "43c768c8",
   "metadata": {},
   "outputs": [],
   "source": []
  }
 ],
 "metadata": {
  "celltoolbar": "Raw Cell Format",
  "kernelspec": {
   "display_name": "Python 3 (ipykernel)",
   "language": "python",
   "name": "python3"
  },
  "language_info": {
   "codemirror_mode": {
    "name": "ipython",
    "version": 3
   },
   "file_extension": ".py",
   "mimetype": "text/x-python",
   "name": "python",
   "nbconvert_exporter": "python",
   "pygments_lexer": "ipython3",
   "version": "3.11.0"
  }
 },
 "nbformat": 4,
 "nbformat_minor": 5
}
