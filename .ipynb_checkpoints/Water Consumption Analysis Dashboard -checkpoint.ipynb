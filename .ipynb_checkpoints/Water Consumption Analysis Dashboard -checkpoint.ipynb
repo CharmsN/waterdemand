{
 "cells": [
  {
   "cell_type": "markdown",
   "id": "5219ced5",
   "metadata": {},
   "source": [
    "# Understanding Water Consumption : Multi-factor Analysis "
   ]
  },
  {
   "cell_type": "markdown",
   "id": "e0126001",
   "metadata": {},
   "source": [
    "## Introduction \n",
    "\n",
    "There are many reasons why understanding of household water consumption drivers is critical, these include increasing w  scarcity due to, amongst other factors, population growth, climate change, and changing weather patterns. By understanding the drivers of household water consumption, policymakers and water companies can develop effective strategies to manage water resources, reduce wastage, and ensure sustainable water supplies for the future. Increased abstraction for consumption places pressure on freshwater ecosystems, reduces river flows, and depletes groundwater resources whilst production, treatment and distribution of potable water increases energy consumption, increases carbon emissions all of which come with financial and non-financial costs. Infrastructure planning, policy amendments and behavioural change educational campaigns and initiatives require detailed understanding of the drivers of ever increasing water consumption if  water scarcity, escalating costs and environmental impacts are to be managed so that net zero positions can be reached and behavioural change can be embedded in order to ensure sustainable water management for the future.\n",
    "\n",
    "Literature searches on remote sensing to understand and manage water demand yeld limited results. In March 2023 the scientific journals Water, Environments, Forests and Remote Sensing, called for submission of papers on the topic “Remote Sensing in Water Resources Management Models” (Ref https://www.mdpi.com/topics/Remote_Sensing_Water) indicating that there is a desire for further research focused on water resource management in general. \n",
    "\n",
    "A standard method for tracking water consumption is through calculation of per capita consumption (PCC) (litres of water used per person per day). One of the many performance commitments for water companies, is to reduce their PCC by an agreed numebr of litres per year, the gold standard being 100 litres per person per day. Calculation of PCC relies heavily on accurate population statistics at a district metered area level and metering of all households. Not all households within the UK are metered with meter penetration being below 60% in some areas. Where meter data exists, meter reading can prove challenging.  To date evidence shared with households on the impact of water consumption on their environment have been restricted to theoretical statements. A more robust method of depicting water consumption at a district metered area level, without the need to meter every household, would provide evidence to communities of their overall impact on water consumption and provide valuable input into behavioural change campaigns whilst also providing water companies insight into which areas to target smart meter installations as a longer term solution to achieving individual accountability for increasing household consumption.   \n",
    "\n",
    "The focus of water companies to reduce household consumption relies heavy on behavioural change interventions to encourage lower water consumption, kickback from consumers is that water companies are not doing their bit in reducing leakage - this results in people being less motivated to reduce their water consumption.  \n",
    "\n",
    "The components of this dashboard will provide a simple to use interface to non-technical users whilst encouraging  technical developers to further explore how measurements such as built up indices, landuse classification. correlation of building age with high consumption (the hypothesis being that older households may have unknown customer side leakage) can be be used to understand drivers of PCC and to share impirical evidence with consumers to encourage adoption of sustainable water efficient behaviours. Data used is publically available data, the intention being to supplement this further with Google Earth Engine analysis and water company specific data with a view of challenging the hypothesis that increasing household consumption is the root cause of increasing water demand in areas with recorded high PCC.  \n",
    "\n",
    "Prediction of water consumption based on population (https://link.springer.com/article/10.1007/s11356-021-12368-0)\n",
    "\n",
    "\n",
    "https://www.researchgate.net/publication/363059307_Assessing_the_causality_relationship_and_time_series_model_for_electricity_consumption_per_capita_and_human_development_in_Colombia\n",
    "\n",
    "Relationship between urban ecological water demand and land use structure in rapid urbanization area\n",
    "https://www.researchgate.net/publication/289350922_Relationship_between_urban_ecological_water_demand_and_land_use_structure_in_rapid_urbanization_area\n",
    "\n",
    "https://www.researchgate.net/publication/344333563_Land-Use_Change_and_Future_Water_Demand_in_California%27s_Central_Coast"
   ]
  },
  {
   "cell_type": "code",
   "execution_count": null,
   "id": "097864d6",
   "metadata": {},
   "outputs": [],
   "source": []
  },
  {
   "cell_type": "markdown",
   "id": "05b78868",
   "metadata": {},
   "source": [
    "## Set-up and Installation "
   ]
  },
  {
   "cell_type": "markdown",
   "id": "fd580adb",
   "metadata": {},
   "source": [
    "<summary>"
   ]
  },
  {
   "cell_type": "markdown",
   "id": "a9740f0a",
   "metadata": {},
   "source": [
    "<summary>"
   ]
  },
  {
   "cell_type": "markdown",
   "id": "d0084b97",
   "metadata": {},
   "source": [
    "## Repository Link"
   ]
  },
  {
   "cell_type": "markdown",
   "id": "4acfe24d",
   "metadata": {},
   "source": [
    "## Methodology \n",
    "\n"
   ]
  },
  {
   "cell_type": "markdown",
   "id": "c47543c7",
   "metadata": {},
   "source": [
    "## Section 1\n",
    "\n",
    "http://localhost:8888/notebooks/waterdemand/Tutorial_CN.ipynb#   "
   ]
  },
  {
   "cell_type": "markdown",
   "id": "3f0ce3cd",
   "metadata": {},
   "source": [
    "Data sources: \n"
   ]
  },
  {
   "cell_type": "markdown",
   "id": "cfd65609",
   "metadata": {},
   "source": [
    "The water company boundaries can be visualised using the function wrz_boundaries within the water_company_boundaries module (data source is xxxx). The number of companies and the chloropleth map are returned."
   ]
  },
  {
   "cell_type": "code",
   "execution_count": null,
   "id": "0b64eae4",
   "metadata": {},
   "outputs": [],
   "source": [
    "from water_company_boundaries import wrz_boundaries \n",
    "\n",
    "company_data = 'data_files/WaterSupplyAreas_incNAVs v1_4.shp'\n",
    "wrz_boundaries(company_data)  # calls the function to create a chloropleth map of English and Welsh the Water Supply Areas\n",
    "# if the report is too long at the end, this can be changed so the code creates an image and we return the image that can be resized"
   ]
  },
  {
   "cell_type": "markdown",
   "id": "6277596b",
   "metadata": {},
   "source": [
    "To see which water companies have the highest per capita consumption, we can create a chloropleth map to show the PCC in litres per day. Data is available for a number of years, for instance 2019-20, 2011-12 etc. The code below will display the PCC for the '2019-20' period, Figures x and y shows the comparison between periods. "
   ]
  },
  {
   "cell_type": "code",
   "execution_count": null,
   "id": "b990642e",
   "metadata": {},
   "outputs": [],
   "source": [
    "from chloropleth import chloropleth_pcc \n",
    "\n",
    "pcc_period = '2019-20'\n",
    "chloropleth_pcc(pcc_period)"
   ]
  },
  {
   "cell_type": "markdown",
   "id": "2357c828",
   "metadata": {},
   "source": [
    "Embed the images and table outputs here....."
   ]
  },
  {
   "cell_type": "markdown",
   "id": "8019855d",
   "metadata": {},
   "source": [
    "<div style=\"display:flex\">\n",
    "    <img src=\"data_files/2019_20_pcc.jpg\" style=\"width:50%\">\n",
    "    <img src=\"data_files/2011_12_pcc.jpg\" style=\"width:50%\">\n",
    "</div>"
   ]
  },
  {
   "cell_type": "markdown",
   "id": "f25fa6db",
   "metadata": {},
   "source": [
    "What would be useful is to see all the above in one interactive view, this can be achieved by creating a Folium map as displayed in Figure z. This map view is valuable to behavioural change experts as they are able to zoom into areas of high consumption to identify environmental areas of interest to use as strategic nudges (reference nudging and choice architecture) to influence individuals to adopt desired behaviours without feeling coerced.   "
   ]
  },
  {
   "cell_type": "markdown",
   "id": "9810de1c",
   "metadata": {},
   "source": [
    "The code snippet below creates an interactive map showing PCC for each water company area. The code can be amended to show different periods or data as required."
   ]
  },
  {
   "cell_type": "code",
   "execution_count": null,
   "id": "a1226c31",
   "metadata": {},
   "outputs": [],
   "source": [
    "from folium_pcc import folium_pcc_map\n",
    "from IPython import display\n",
    "\n",
    "pcc_map = folium_pcc_map()\n",
    "display.display(pcc_map)"
   ]
  },
  {
   "cell_type": "markdown",
   "id": "676f47cd",
   "metadata": {},
   "source": [
    "### Figure v:  Interactive Folium map of per capita water consumption per water company area. "
   ]
  },
  {
   "cell_type": "markdown",
   "id": "17bffa83",
   "metadata": {},
   "source": [
    "Once an area has been selected for further review, the sentinel satelite image can be downloaded. This image can be used to review landuse, calculate built up indices etc. "
   ]
  },
  {
   "cell_type": "markdown",
   "id": "173bbc65",
   "metadata": {},
   "source": [
    "First, we need to import the required packages and functions required to retrive the image:"
   ]
  },
  {
   "cell_type": "code",
   "execution_count": null,
   "id": "19068b0a",
   "metadata": {},
   "outputs": [],
   "source": [
    "#%matplotlib inline\n",
    "\n",
    "import download_sat_image_company\n",
    "from IPython.display import Image\n",
    "from chloropleth import chloropleth_pcc\n",
    "import folium_pcc\n",
    "import folium\n",
    "from IPython.display import HTML"
   ]
  },
  {
   "cell_type": "markdown",
   "id": "e7bcc6b7",
   "metadata": {},
   "source": [
    "Then we select the water company area to review. The water company name can be selected from the interactive map by looking at the AreaServed field. For this example, Bournemouth is selected as it has a high PCC. "
   ]
  },
  {
   "cell_type": "code",
   "execution_count": null,
   "id": "ca63046b",
   "metadata": {},
   "outputs": [],
   "source": [
    "import download_sat_image_company\n",
    "from IPython.display import Image\n",
    "\n",
    "# select water company to review in further detail:\n",
    "company_detail ='Bournemouth'\n",
    "date_start='20200601'\n",
    "date_end='20230101'\n",
    "img_name='img3.png'\n",
    "download_sat_image_company.download_best_overlap_image(company_detail,date_start,date_end,img_name)\n"
   ]
  },
  {
   "cell_type": "markdown",
   "id": "377fed87",
   "metadata": {},
   "source": [
    "This image can be used to ...."
   ]
  },
  {
   "cell_type": "markdown",
   "id": "a089f1b0",
   "metadata": {},
   "source": [
    "For now, the Corine data from xxx will be used to understand the correlation between water consumption and landuse"
   ]
  },
  {
   "cell_type": "code",
   "execution_count": null,
   "id": "b75d7331",
   "metadata": {},
   "outputs": [],
   "source": [
    "import cv2\n",
    "import numpy as np\n",
    "from sklearn.cluster import KMeans\n",
    "from sklearn.decomposition import PCA\n",
    "from collections import Counter\n",
    "import imageio\n",
    "\n",
    "imagepath1='data_files/S2A_MSIL2A_20201212T111451_N0214_R137_T30UWB_20201212T140141.jpeg'\n",
    "imagepath2='data_files/S2B_MSIL2A_20221207T111339_N0509_R137_T30UWB_20221207T125110.jpeg'\n",
    "\n",
    "def find_vector_set(diff_image, new_size):\n",
    "    i = 0\n",
    "    j = 0\n",
    "    vector_set = np.zeros((int(new_size[0] * new_size[1] / 25), 25))\n",
    "    print('\\nvector_set shape', vector_set.shape)\n",
    "\n",
    "    while i < vector_set.shape[0]:\n",
    "        while j < new_size[0]:\n",
    "            k = 0\n",
    "            while k < new_size[1]:\n",
    "                block = diff_image[j:j+5, k:k+5]\n",
    "                feature = block.ravel()\n",
    "                vector_set[i, :] = feature\n",
    "                k = k + 5\n",
    "            j = j + 5\n",
    "        i = i + 1\n",
    "\n",
    "    mean_vec = np.mean(vector_set, axis=0)\n",
    "    vector_set = vector_set - mean_vec\n",
    "\n",
    "    return vector_set, mean_vec"
   ]
  },
  {
   "cell_type": "code",
   "execution_count": null,
   "id": "5c76b1d8",
   "metadata": {},
   "outputs": [],
   "source": [
    "def find_FVS(EVS, diff_image, mean_vec, new):\n",
    "    i = 2\n",
    "    feature_vector_set = []\n",
    "\n",
    "    while i < new[0] - 2:\n",
    "        j = 2\n",
    "        while j < new[1] - 2:\n",
    "            block = diff_image[i-2:i+3, j-2:j+3]\n",
    "            feature = block.flatten()\n",
    "            feature_vector_set.append(feature)\n",
    "            j = j + 1\n",
    "        i = i + 1\n",
    "\n",
    "    FVS = np.dot(feature_vector_set, EVS)\n",
    "    FVS = FVS - mean_vec\n",
    "    print(\"\\nfeature vector space size\", FVS.shape)\n",
    "    return FVS"
   ]
  },
  {
   "cell_type": "code",
   "execution_count": null,
   "id": "1d84ff83",
   "metadata": {},
   "outputs": [],
   "source": [
    "def clustering(FVS, components, new):\n",
    "    kmeans = KMeans(components, verbose=0)\n",
    "    kmeans.fit(FVS)\n",
    "    output = kmeans.predict(FVS)\n",
    "    count = Counter(output)\n",
    "\n",
    "    least_index = min(count, key=count.get)\n",
    "    print(new[0], new[1])\n",
    "    change_map = np.reshape(output, (new[0] - 4, new[1] - 4))\n",
    "\n",
    "    return least_index, change_map"
   ]
  },
  {
   "cell_type": "code",
   "execution_count": null,
   "id": "759c272b",
   "metadata": {},
   "outputs": [],
   "source": [
    "def find_PCAKmeans(imagepath1, imagepath2):\n",
    "    print('Operating')\n",
    "\n",
    "    image1 = imageio.imread(imagepath1)\n",
    "    image2 = imageio.imread(imagepath2)\n",
    "    print(image1.shape, image2.shape)\n",
    "    new_size = np.asarray(image1.shape) // 5 * 5\n",
    "    image1 = imageio.imresize(image1, new_size).astype(np.int16)\n",
    "    image2 = imageio.imresize(image2, new_size).astype(np.int16)\n",
    "\n",
    "    diff_image = np.abs(image1 - image2)\n",
    "    imageio.imsave('diff.jpg', diff_image)\n",
    "    print('\\nBoth images resized to', new_size)\n",
    "\n",
    "    vector_set, mean_vec = find_vector_set(diff_image, new_size)\n",
    "\n",
    "    pca = PCA()\n",
    "    pca.fit(vector_set)\n",
    "    EVS = pca.components_\n",
    "\n",
    "    FVS = find_FVS(EVS, diff_image, mean_vec, new_size)\n",
    "\n",
    "    print('\\ncomputing k means')\n",
    "\n",
    "    components = 3\n",
    "    least_index, change_map = clustering(FVS, components, new_size)\n",
    "\n",
    "    change_map[change_map == least_index] = 255\n",
    "    change_map[change_map != 255] = 0"
   ]
  },
  {
   "cell_type": "markdown",
   "id": "1643a3b9",
   "metadata": {},
   "source": [
    "### Looking at the correlation between water consumption and land use: "
   ]
  },
  {
   "cell_type": "code",
   "execution_count": null,
   "id": "f9559dc5",
   "metadata": {},
   "outputs": [],
   "source": [
    "import correlation_landuse\n",
    "\n",
    "!python correlation_landuse.py"
   ]
  },
  {
   "cell_type": "markdown",
   "id": "4400b4db",
   "metadata": {},
   "source": [
    "The results indicate that there is a very strong correlation between population and household water consumption. There is also a good correlation, though not as strong, between the area for urban landuse and household water consumption. The next step would be to check the correlation between household populations as reported by water companies and that reported by Ordinance Survey. If granular water consumption data can be obtained (for instance logger data for inflows and outflows of water at a district metered area) this can be analysed in conjunction with built up and vegetative health indices to see if these can be used as a predictor of higher than average water consumption volumes. "
   ]
  },
  {
   "cell_type": "markdown",
   "id": "2cd50a39",
   "metadata": {},
   "source": [
    "**Next Steps**: These statistics can also be calculated for non-household water consumption to see if there is a variation between non-household and household correlation co-efficients. "
   ]
  },
  {
   "cell_type": "markdown",
   "id": "64c23344",
   "metadata": {},
   "source": [
    "plot the population statistics from census data to see if they show the same pattern as pcc"
   ]
  }
 ],
 "metadata": {
  "kernelspec": {
   "display_name": "Python 3 (ipykernel)",
   "language": "python",
   "name": "python3"
  },
  "language_info": {
   "codemirror_mode": {
    "name": "ipython",
    "version": 3
   },
   "file_extension": ".py",
   "mimetype": "text/x-python",
   "name": "python",
   "nbconvert_exporter": "python",
   "pygments_lexer": "ipython3",
   "version": "3.11.3"
  }
 },
 "nbformat": 4,
 "nbformat_minor": 5
}
