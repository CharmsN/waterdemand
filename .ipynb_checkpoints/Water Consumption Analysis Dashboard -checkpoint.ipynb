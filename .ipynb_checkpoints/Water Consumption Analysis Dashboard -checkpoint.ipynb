{
 "cells": [
  {
   "cell_type": "markdown",
   "id": "5219ced5",
   "metadata": {},
   "source": [
    "# Understanding Water Consumption : Multi-factor Analysis "
   ]
  },
  {
   "cell_type": "markdown",
   "id": "e0126001",
   "metadata": {},
   "source": [
    "## Introduction \n",
    "\n",
    "Literature searches on remote sensing to understand and manage water demand yeld limited results. In March 2023 the scientific journals Water, Environments, Forests and Remote Sensing, called for submission of papers on the topic “Remote Sensing in Water Resources Management Models” (Ref https://www.mdpi.com/topics/Remote_Sensing_Water)\n",
    "\n",
    "A standard method for tracking water consumption is through calculation of per capita consumption (PCC) (litres of water used per person per day). A performance commitment for water companies, is to reduce their PCC by an agreed numebr of litres per year, the gold standard being 100 litres per person per day. Calculation of PCC relies heavily on accurate population statistics and metering of households. Not all households within the UK are metered (ie meter penetration is <100%) meaning that PCC calculations are skewed by inaccurate data at a household level.  \n",
    "\n",
    "The focus of water companies to reduce household consumption relies heavy on behavioural change interventions to encourage lower water consumption, kickback from consumers is that water companies are not doing their bit in reducing leakage - this results in people being less motivated to reduce their water consumption.  \n",
    "\n",
    "Behavioural change has shown that linking water consumption increase to detrimental impacts on local environment are more effective than generalised commentary on climate change. Water companies find it challenging to provdie the data to the right people to drive such behavioural change initiatives. This dashboard will provide a simple to use interface to non-technical users whilst encouraging  technical developers to explore how measurements such as built up indices, landuse classification. correlation of building age with high consumption (the hypothesis being that older households may have unknown customer side leakage) can be be used to understand drivers of PCC and to share impirical evidence with consumers to encourage adoption of sustainable water efficient behaviours.\n",
    "\n",
    "The aim of this dashboard is to create standard views that are currently used by water companies to visualise PCC and supplementing this with CORINE landuse data to stimulate exploration of the use of GIS and remotie sensing techniques and methods to better understand drivers of high water consumption and challenge the hypothesis that household behaviour is the root cause of increasing water demand in areas with recorded high PCC.  \n",
    "\n",
    "Prediction of water consumption based on population (https://link.springer.com/article/10.1007/s11356-021-12368-0)\n",
    "\n",
    "\n",
    "https://www.researchgate.net/publication/363059307_Assessing_the_causality_relationship_and_time_series_model_for_electricity_consumption_per_capita_and_human_development_in_Colombia\n",
    "\n",
    "Relationship between urban ecological water demand and land use structure in rapid urbanization area\n",
    "https://www.researchgate.net/publication/289350922_Relationship_between_urban_ecological_water_demand_and_land_use_structure_in_rapid_urbanization_area\n",
    "\n",
    "https://www.researchgate.net/publication/344333563_Land-Use_Change_and_Future_Water_Demand_in_California%27s_Central_Coast"
   ]
  },
  {
   "cell_type": "markdown",
   "id": "05b78868",
   "metadata": {},
   "source": [
    "## Set-up and Installation "
   ]
  },
  {
   "cell_type": "markdown",
   "id": "d0084b97",
   "metadata": {},
   "source": [
    "## Repository Link"
   ]
  },
  {
   "cell_type": "markdown",
   "id": "4acfe24d",
   "metadata": {},
   "source": [
    "## Methodology \n",
    "\n"
   ]
  },
  {
   "cell_type": "markdown",
   "id": "c47543c7",
   "metadata": {},
   "source": [
    "## Section 1\n",
    "\n",
    "http://localhost:8888/notebooks/waterdemand/Tutorial_CN.ipynb#   "
   ]
  },
  {
   "cell_type": "markdown",
   "id": "2357c828",
   "metadata": {},
   "source": [
    "Embed the images and table outputs here....."
   ]
  },
  {
   "cell_type": "code",
   "execution_count": null,
   "id": "9ebdf4d6",
   "metadata": {},
   "outputs": [],
   "source": [
    "Creating an interactive map for water consumption, this can be created for leakage, etc\n",
    "\n",
    "from IPython.display import IFrame\n",
    "\n",
    "# Embed the map as an iframe\n",
    "src = \"./data_files/pcc_popups.html\"\n",
    "iframe = IFrame(src=src, width=\"100%\", height=\"500\")\n",
    "\n",
    "# Display the iframe in the notebook\n",
    "display(iframe)"
   ]
  },
  {
   "cell_type": "markdown",
   "id": "8019855d",
   "metadata": {},
   "source": [
    "<div style=\"display:flex\">\n",
    "    <img src=\"data_files/2019_20_pcc.jpg\" style=\"width:50%\">\n",
    "    <img src=\"data_files/2011_12_pcc.jpg\" style=\"width:50%\">\n",
    "</div>"
   ]
  },
  {
   "cell_type": "code",
   "execution_count": null,
   "id": "fc37fe0b",
   "metadata": {},
   "outputs": [],
   "source": [
    "from IPython.display import IFrame\n",
    "\n",
    "# Embed the map as an iframe\n",
    "src = \"./data_files/pcc_popups.html\"\n",
    "iframe = IFrame(src=src, width=\"100%\", height=\"500\")\n",
    "\n",
    "# Display the iframe in the notebook\n",
    "display(iframe)"
   ]
  },
  {
   "cell_type": "markdown",
   "id": "06a7ef0e",
   "metadata": {},
   "source": []
  }
 ],
 "metadata": {
  "kernelspec": {
   "display_name": "Python 3 (ipykernel)",
   "language": "python",
   "name": "python3"
  },
  "language_info": {
   "codemirror_mode": {
    "name": "ipython",
    "version": 3
   },
   "file_extension": ".py",
   "mimetype": "text/x-python",
   "name": "python",
   "nbconvert_exporter": "python",
   "pygments_lexer": "ipython3",
   "version": "3.11.3"
  }
 },
 "nbformat": 4,
 "nbformat_minor": 5
}
