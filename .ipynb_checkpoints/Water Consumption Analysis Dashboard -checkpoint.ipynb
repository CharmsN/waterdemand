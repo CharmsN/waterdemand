{
 "cells": [
  {
   "cell_type": "markdown",
   "id": "5219ced5",
   "metadata": {},
   "source": [
    "# Understanding Water Consumption"
   ]
  },
  {
   "cell_type": "markdown",
   "id": "a51d7ddc",
   "metadata": {},
   "source": [
    "# Introduction "
   ]
  },
  {
   "cell_type": "markdown",
   "id": "7459e663",
   "metadata": {},
   "source": [
    "### Background information on water companies in the UK:"
   ]
  },
  {
   "cell_type": "markdown",
   "id": "589783ad",
   "metadata": {},
   "source": [
    "Water companies in the UK were privatised in 1989 and, as most water companies are regional monopolies, household customers cannot select their water company.  Water companies are governed by Ofwat, the economic regulator, and must submit returns as part of a 5-year cycle price review process. The current regulatory period is known as PR19, the next regulatory period will be PR24. \n",
    "\n",
    "https://commonslibrary.parliament.uk/research-briefings/cbp-8931/#:~:text=The%20water%20industry%20in%20England%20and%20Wales%20was,or%20switch%20their%20supplier%20and%20competition%20is%20limited.\n"
   ]
  },
  {
   "cell_type": "markdown",
   "id": "e0126001",
   "metadata": {},
   "source": [
    "Increasing water scarcity due to, amongst other factors, population growth, climate change, and changing weather patterns make understanding of household water consumption drivers critical for water resource management. By understanding the drivers of household water consumption, policymakers and water companies can develop effective strategies to manage water resources, reduce wastage, and ensure sustainable water supplies for the future. \n",
    "\n",
    "Increased abstraction, for both household consumption and non-household use, places pressure on freshwater ecosystems, reduces river flows, and depletes groundwater resources whilst production, treatment and distribution of potable water increases energy consumption, increases carbon emissions all of which come with financial and non-financial costs. Infrastructure planning, policy amendments and behavioural change educational campaigns and initiatives require detailed understanding of the drivers of ever increasing water consumption if  water scarcity, escalating costs and environmental impacts are to be managed so that net zero positions can be reached and behavioural change can be embedded in order to ensure sustainable water management for the future.\n",
    "\n",
    "In March 2023 the scientific journals Water, Environments, Forests and Remote Sensing, called for submission of papers on the topic “Remote Sensing in Water Resources Management Models” (Ref https://www.mdpi.com/topics/Remote_Sensing_Water) indicating that there is a desire for further research focused on water resource management in general. \n",
    "\n",
    "A standard method for tracking water consumption is through calculation of per capita consumption (PCC) (litres of water used per person per day). One of the many performance commitments for water companies, is to reduce their PCC by an agreed number of litres per person per day, the gold standard being 100 litres per person per day. Calculation of PCC relies heavily on accurate population statistics at a district metered area (DMA) level and metering of all households. \n",
    "\n",
    "Not all households within the UK are metered with meter penetration being below 60% in some areas. Where meter data exists, meter reading can prove challenging due to limited access to properties, the high cost of manual and drive by meter readings and reluctance of customers to actively share details of their personal water consumption with water companies.  To date, evidence shared with households on the impact of water consumption on their environment has been restricted mostly to theoretical statements or less than robust statistics. \n",
    "\n",
    "The focus of water companies to reduce household consumption relies heavy on behavioural change interventions to encourage lower water consumption, kickback from consumers is that water companies are not doing their bit in reducing leakage - this results in people being less motivated to reduce their water consumption. \n",
    "\n",
    "A more scientific method of depicting water consumption at a DMA level, without the need to meter every household, would provide evidence to communities of their overall impact on water consumption and provide valuable input into behavioural change campaigns, whilst also providing water companies insight into which areas to target high cost infrastructure spend such as smart metering programmes, as a longer term solution to achieving individual accountability for decreasing household consumption.   \n",
    " \n",
    "This tutorial provide some very basic tools that can be shared with non-technical users whilst also encouraging researchers and  developers to further explore how measurements such as built up indices, landuse classification. correlation of building age with high consumption (the hypothesis being that older households may have unknown customer side leakage) can be be used to understand drivers of PCC. \n",
    "\n",
    "Sharing impirical evidence with consumers may encourage adoption of sustainable water efficient behaviours. \n",
    "\n",
    "Data used is publically available data, the intention being to supplement this further with more advanced python scripting in the future, Google Earth Engine analysis and water company specific data. In addition to exploring drivers of consumption, challenging the hypothesis that increasing household consumption is the root cause of increasing water demand in areas with recorded high PCC by uncovering the relationship between leakage, non-household and household consumption and how this correlates with land use changes over time.  \n",
    "<br>\n",
    "<br>\n",
    "**Literature review:**<br> \n",
    "<br>\n",
    "Prediction of water consumption based on population (https://link.springer.com/article/10.1007/s11356-021-12368-0)\n",
    "\n",
    "https://www.researchgate.net/publication/363059307_Assessing_the_causality_relationship_and_time_series_model_for_electricity_consumption_per_capita_and_human_development_in_Colombia\n",
    "\n",
    "Relationship between urban ecological water demand and land use structure in rapid urbanization area\n",
    "https://www.researchgate.net/publication/289350922_Relationship_between_urban_ecological_water_demand_and_land_use_structure_in_rapid_urbanization_area\n",
    "\n",
    "https://www.researchgate.net/publication/344333563_Land-Use_Change_and_Future_Water_Demand_in_California%27s_Central_Coast"
   ]
  },
  {
   "cell_type": "markdown",
   "id": "5c487153",
   "metadata": {},
   "source": [
    "**Note:**\n",
    "<br>\n",
    "The tools described in this tutorial do not provide an end to end solution for understanding water consumption, they support the process and are intended to stimulate further exploration of  water consumption drives with a view of discovering alternate methods for monitoring and managing household water consumption.  "
   ]
  },
  {
   "cell_type": "markdown",
   "id": "05b78868",
   "metadata": {},
   "source": [
    "## Set-up and Installation "
   ]
  },
  {
   "cell_type": "markdown",
   "id": "57238a03",
   "metadata": {},
   "source": [
    "Clone the repository: \n",
    "How\n",
    "URL to repository\n",
    "Desired director to clone it to \n",
    "\n",
    "Create and activate the conda environment: \n",
    "Separate environement\n",
    "Instructions on how to create and activate it \n",
    "\n",
    "Install dependencies: \n",
    "List dependencies for your code\n",
    "Requirements.txt file in   repository with the necessary packages and versions. install using conda install \n",
    "\n",
    "Data requirements: \n",
    "Details of data required \n",
    "Instructions on where to obtain them, links, sample data\n",
    "\n",
    "Execution instructions: \n",
    "Main entry point / specific script to execute. \n",
    "\n",
    "Examples and tutorials: \n",
    "Example use cases to demonstrate the code. \n",
    "Step-by-step instructions and sample input/output to help\n",
    "\n",
    "Troubleshooting and support: \n",
    "Common issues and guidance on how to resolve them\n"
   ]
  },
  {
   "cell_type": "markdown",
   "id": "fd580adb",
   "metadata": {},
   "source": [
    "<summary>"
   ]
  },
  {
   "cell_type": "markdown",
   "id": "a9740f0a",
   "metadata": {},
   "source": [
    "<summary>"
   ]
  },
  {
   "cell_type": "markdown",
   "id": "d0084b97",
   "metadata": {},
   "source": [
    "## Repository Link"
   ]
  },
  {
   "cell_type": "markdown",
   "id": "b8d3123f",
   "metadata": {},
   "source": [
    "Tools covered in this tutorial are: \n",
    "Creating a chloropleth map of water company boundaries given a Shapefile\n",
    "Amending the chloropleth map to create a map showing per capita consumption for a selected period given consumption data\n",
    "Creating an interactive folium map showing per capita consumption for a given period for each water company\n",
    "Selecting and download a satellite image using the SentinelAPI for a given time period for a given water company area\n",
    "Pearson's correlation analysis to determine whether there is a correlation between household water consumption and land use and population and household consumption\n",
    "Stacking image bands to create a composite image (3 bands)\n",
    "Principle Component Analysis using two jpeg images"
   ]
  },
  {
   "cell_type": "markdown",
   "id": "3f0ce3cd",
   "metadata": {},
   "source": [
    "Data sources: \n"
   ]
  },
  {
   "cell_type": "markdown",
   "id": "6043ee55",
   "metadata": {},
   "source": [
    "## Creating a chloropleth map of water company boundaries given a shape file"
   ]
  },
  {
   "cell_type": "markdown",
   "id": "cfd65609",
   "metadata": {},
   "source": [
    "***Methodology:***\n",
    "\n",
    "Water company boundaries can be visualised using the function wrz_boundaries within the water_company_boundaries module (data source is xxxx). The number of companies and the chloropleth map are returned.\n",
    "\n",
    "Packages required to run this code include os, geopandas, pyplot from matplotlib and crs from cartopy.\n",
    "\n",
    "The function wrz_boundaries is defined within the water_company_boundaries module. This function generates a plot displaying the boundaries of water companies in England and Wales based on the provided company data. The function reads the company data from a given file (the pathway to the file is hardcoded), creates a GeoDataFrame using GeoPandas, and plots the boundaries of the water companies on a map. Each company is represented by a different color. The resulting plot provides a visual representation of the geographic distribution of water companies. \n",
    "\n",
    "The co-ordinate reference system for the plot is set to Transverse Mercator, British National Grid (27700) using crs from cartopy. Pyplot is used to plot the map. \n",
    "\n",
    "The colour scheme can be changed, some examples being 'jet' (blue to red through green and yellow) and 'cividis' (best choice for people with color vision deficiencies as it transitions from dark to light and has noticeable variations in brightness and hue). This function is hardcoded to 'viridis'. More detail on selection choices can be found in the matplotlib documentation library. (https://matplotlib.org/stable/tutorials/colors/colormaps.html) \n",
    "     \n",
    "The function plots the company data (COMPANY) which is hardcoded. The data source, however is a variable called company_data. The example data is available in the 'waterdemand' Github repository or can be downloaded from the Commons Library (\n",
    "https://commonslibrary.parliament.uk/constituency-information-water-companies/#watercompanies). The output for the function is a chloropleth plot of the water resource boundaries for all water companies in England and Wales. \n",
    "\n",
    "The Title of the graph is hardcoded within the function. \n",
    "\n",
    "***A refinement to this code would be to create variable for the column to plot and for the title, to add gridlines and to all a scalebar.***\n"
   ]
  },
  {
   "cell_type": "markdown",
   "id": "c9e7f22c",
   "metadata": {},
   "source": [
    "**Calling the function module:**"
   ]
  },
  {
   "cell_type": "code",
   "execution_count": null,
   "id": "64d335c2",
   "metadata": {},
   "outputs": [],
   "source": [
    "from water_company_boundaries import wrz_boundaries\n",
    "company_data = 'data_files/WaterSupplyAreas_incNAVs v1_4.shp'  \n",
    "wrz_boundaries(company_data)  # calls the function to create a chloropleth map of English and Welsh the Water Supply Areas"
   ]
  },
  {
   "cell_type": "markdown",
   "id": "3eadecd5",
   "metadata": {},
   "source": [
    "The above code also creates a png image called wrz.png which is written to the data_files folder within the waterdemand directory.\n",
    "\n",
    "<div style=\"display:flex\">\n",
    "    <img src=\"data_files/wrz.png\" style=\"width:60%\">\n",
    "    <div style=\"margin-left:5px\">\n",
    "    \n",
    "     \n",
    "        \n",
    "<br>\n",
    "<br>\n",
    "<br>\n",
    "<br>\n",
    "Images such as this can be used as input into behavioural change campaigns and strategic water resource management, for example,  or to identify areas that require further investigation. \n",
    "        <br>\n",
    "        <br>\n",
    "Although this map is at a water resource zone level, this script can be easily modified to show district metered areas if required. \n",
    "\n",
    "</div>\n"
   ]
  },
  {
   "cell_type": "markdown",
   "id": "e5565639",
   "metadata": {},
   "source": [
    "## Amending the chloropleth map to create a map showing per capita consumption for a selected period given consumption data"
   ]
  },
  {
   "cell_type": "markdown",
   "id": "63261938",
   "metadata": {},
   "source": [
    "***Methodology:***\n",
    "\n",
    "Using the above chloropleth map as a starting point, other data can be merged with the water company shape file to map, for instance, per capita consumption for a selected period.  \n",
    "\n",
    "Packages required to run this code include os, pandas, geopandas, pyplot from matplotlib and crs from cartopy.\n",
    "\n",
    "This function is hard-coded to use the same water resource boundaries as given above. Consumption data is from Ofwat PR24 submission open data available from  https://www.ofwat.gov.uk/publication/historical-performance-trends-for-pr24-v2-0/.\n",
    "\n",
    "***Note: The code can be amended to visualise total household consumption, leakage etc as this information is available within the provided dataset.*** \n",
    "\n",
    "The function loads geographical (using geopandas) and statistical (using pandas) data, merges them based on water company acronyms, and creates a chloropleth map using the GeoDataFrame created from the merge. The map shows the variation in PCC across different areas, helping to visualize the differences in water consumption patterns and to identify areas of high consumption which can then be looked at in further detail. \n",
    "\n",
    "The input for this function is a string called pcc_period which gives the time period for which the PCC data is being visualized. The format for the data is YYYY-YY, for example '2019-20' or '2011-12'.\n",
    "\n",
    "The function returns the chloropleth map, which displays the average per capita consumption per water company area for the selected period. \n",
    "\n",
    "The title is hardcoded into the function. \n",
    "\n",
    "***Further enhancements to this code would be to create a template which could be populated with the required data to allow visualisation of a district metered area (DMA) within a water company boundary and to create a variable for the title.***\n",
    "\n",
    "**Caution:** \n",
    "<br>\n",
    "If an image has been generated and amendments are required to the image, the image must be deleted from the directory prior to rerunning to code if the name of the output image is to remain the same.\n",
    "\n",
    "The function module is called as follows: \n"
   ]
  },
  {
   "cell_type": "code",
   "execution_count": null,
   "id": "f8fac467",
   "metadata": {},
   "outputs": [],
   "source": [
    "from chloropleth import chloropleth_pcc \n",
    "\n",
    "pcc_period = '2019-20'\n",
    "chloropleth_pcc(pcc_period)"
   ]
  },
  {
   "cell_type": "markdown",
   "id": "2357c828",
   "metadata": {},
   "source": [
    "Below are examples of two periods showing the change in PCC."
   ]
  },
  {
   "cell_type": "markdown",
   "id": "8019855d",
   "metadata": {},
   "source": [
    "<div style=\"display:flex\">\n",
    "    <img src=\"data_files/2011_12pcc.jpg\" style=\"width:50%\">\n",
    "    <img src=\"data_files/2019_20pcc .jpg\" style=\"width:50%\">\n",
    "</div>"
   ]
  },
  {
   "cell_type": "markdown",
   "id": "4c8a8948",
   "metadata": {},
   "source": [
    "## Creating an interactive folium map showing per capita consumption for a given period for each water company"
   ]
  },
  {
   "cell_type": "markdown",
   "id": "870320d6",
   "metadata": {},
   "source": [
    "***Methodology:***\n",
    "\n",
    "An interactive view of the chloropleth map can be created using a Folium map (Figure 5). This map view is valuable to behavioural change experts as they are able to zoom into areas of high consumption to identify environmental areas of interest to use as strategic nudges (reference nudging and choice architecture) to influence individuals to adopt desired behaviours without feeling coerced.   \n",
    "\n",
    "As for the chloropleth maps detailed above, this function requires os, pandas and geopandas to run. In addition it requires folium to run. Folium creates an interactive map that can be viewed in a web browser. It also allows for customisable markers and icons, layer control and can be integrated with numpy and pandas libraries. Additional information on functionality can be found at https://python-visualization.github.io/folium/\n",
    "\n",
    "The function folium_map_pcc is imported from folium_pcc and creates a basic folium map showing PCC data for water companies. Although this is hardcoded, there is a standard function called folium_map within module std_folium_map, which will be covered later in this tutorial, that has input variables. The function module folium_map_pcc returns an interactive map representing PCC data. This can be amended to include other relevant data, for instance leakage, total household consumption an example. \n",
    "\n",
    "***This code has limited value but is simple and easy to use if needed by a person not familiar with python***\n",
    "\n",
    "The function module is called as follows: \n"
   ]
  },
  {
   "cell_type": "code",
   "execution_count": null,
   "id": "61e98732",
   "metadata": {},
   "outputs": [],
   "source": [
    "from folium_pcc import folium_pcc_map\n",
    "from IPython import display\n",
    "\n",
    "pcc_map = folium_pcc_map()\n",
    "display.display(pcc_map)"
   ]
  },
  {
   "cell_type": "markdown",
   "id": "13bf599e",
   "metadata": {},
   "source": [
    "<div style=\"display:flex\">\n",
    "    <img src=\"folium_.png\" style=\"width:80%\">\n",
    "</div>"
   ]
  },
  {
   "cell_type": "markdown",
   "id": "aeb3240b",
   "metadata": {},
   "source": [
    "                Figure 5:  Interactive Folium map of per capita water consumption per water company area. "
   ]
  },
  {
   "cell_type": "markdown",
   "id": "b11729d2",
   "metadata": {},
   "source": [
    "## Selecting and download a satellite image using the SentinelAPI for a given time period for a given water company area"
   ]
  },
  {
   "cell_type": "markdown",
   "id": "41be375e",
   "metadata": {},
   "source": [
    "<br>\n",
    "Once an area has been selected for further review, for instance Bournemouth which appears to have a high PCC, the sentinel satelite image can be downloaded to continue with further analysis. "
   ]
  },
  {
   "cell_type": "markdown",
   "id": "3e295ccf",
   "metadata": {},
   "source": [
    "***Methodology:***\n",
    "\n",
    "Once an area has been selected for further analysis, for instance the high consumption area of Bournemouth, a Sentinel Satellite image can be downloaded using the download_best_overlap_image function from the download_sat_image_company module.  \n",
    "    \n",
    "This function module uses the SentinelAPI (an application programming interface for accessing data from the European Space Agency's Sentinel satellites) to download the best overlapping image for the water company are selected within a specified date range.  The function uses geopandas (to select the area to search), sentinelsat (to retrieve the image), IPython (to display the image retrived) and os (to read the geodataframe into memory). \n",
    "\n",
    "Inputs to the function are company_detail (a string giving the water company area to cover - in the provided data set options are selected from the AreaServed column (viewed on the interactive popup in the folium map above), date_start and date end - the date range for the search (format 'YYYYMMDD')\n",
    "\n",
    "As provided in GitHub, the .py file provided has no output. To download or view the satellite image retrived, the relevant line in the code should be uncommented. \n",
    "\n",
    "The function is set to create a minimum rotated rectangle polygon to use as a search area and return images with less than 10% cloud cover, this can be adjusted as required. The best overlapping image is selected by calculating the percentage overlap of the search polygon and the images retrieved and sorting these in descending order so that the image with the highest overlap can be returned.  All matches or the best available match can be downloaded. The download can also be limited to the image bands only.    \n",
    "\n",
    "***Note:\n",
    "The downloads take considerable time and should only be executed if required. The longer the search period selected, the more images will be downloaded - high volumes can result in failure to download successfully.  It is possible that an error occurs during the execution, if this occurs adjust the selection date range to see if this resolves the issue. The use of the magic '%matplotlib' command will allow this code to run in Jupyter Notebook ***\n",
    "\n",
    "The function module is called as follows:"
   ]
  },
  {
   "cell_type": "code",
   "execution_count": null,
   "id": "bd8c0f0a",
   "metadata": {},
   "outputs": [],
   "source": [
    "#%matplotlib inline\n",
    "\n",
    "import download_sat_image_company\n",
    "from IPython.display import Image\n",
    "from chloropleth import chloropleth_pcc\n",
    "import folium_pcc\n",
    "import folium\n",
    "from IPython.display import HTML"
   ]
  },
  {
   "cell_type": "markdown",
   "id": "e7bcc6b7",
   "metadata": {},
   "source": [
    "Once the required packages are imported, the water company area and date range for the search are given. "
   ]
  },
  {
   "cell_type": "code",
   "execution_count": null,
   "id": "30ceef36",
   "metadata": {},
   "outputs": [],
   "source": [
    "# select water company to review in further detail:\n",
    "company_detail ='Bournemouth' # taken from the AreaServed column in the wrz geodataframe\n",
    "date_start='20200601' # start search from this date\n",
    "date_end='20230101' # end search at this date\n",
    "\n",
    "download_sat_image_company.download_best_overlap_image(company_detail,date_start,date_end) # call the function from this module"
   ]
  },
  {
   "cell_type": "markdown",
   "id": "377fed87",
   "metadata": {},
   "source": [
    "Satellite images retrieved should be preprocessed prior to conducting further analysis.  For the purposes of this tutorial the assumption is made that preprocessing has been completed. The results of the Principle Component Analysis that follow later in this tutorial will be severely negatively impacted by the failure to preprocess the images. "
   ]
  },
  {
   "cell_type": "markdown",
   "id": "a089f1b0",
   "metadata": {},
   "source": [
    "In the next steps, for illustrative purposes, the Corine landuse data from data.gov.uk will be used to understand the correlation between water consumption and landuse (https://www.data.gov.uk/dataset/cd2c59e7-afd9-471d-a056-c5845619dcd7/corine-land-cover-2018-for-the-uk-isle-of-man-jersey-and-guernsey)"
   ]
  },
  {
   "cell_type": "markdown",
   "id": "06634778",
   "metadata": {},
   "source": [
    "### Pearson's correlation analysis to test for correlation between household water consumption and land use, and population and household consumption"
   ]
  },
  {
   "cell_type": "markdown",
   "id": "4b2c06f9",
   "metadata": {},
   "source": [
    "***Methodology:***\n",
    "\n",
    "\n",
    "Using a standard Pearson's Correlation Coefficient methodology, the correlation between household water consumption and population can be calculated, where +1 = 100% positive correlation and -1 = 100% negative correlation. The formula for calculating this coefficient (r) is: \n",
    "\n",
    "r\n",
    "\n",
    "where x and y are two vectors of length n, and mx and my are the means of x and y respectively.  The robustness of the calculation relies on an adequate sample size (between 20 and 30), data outliers can interfere with the results obtained. \n",
    "\n",
    "The code to calculate r is in two parts, the first creates the merged dataset to run the correlation analysis on, the second part computes the correlation coefficient. Inputs required to run the code are the shape file containing the water companyd ata the household consumption and population figures for each water company (the se were extracted from the xxxxxx), the shape file for land use data and the labels for the land use data.  The script then completes the following steps: \n",
    "\n",
    "Part 1:\n",
    "1. Loads water company data from the shapefile and removes unnecessary columns.\n",
    "2. Filters the data to select features with specific area types.\n",
    "3. Fixes an issue with a specific record in the 'COMPANY' column where Northumbrian Water appears under two different names)\n",
    "4. Performs a union operation on the geometries based on the 'COMPANY' column.\n",
    "5. Creates a new GeoDataFrame with the unioned geometries for each company.\n",
    "6. Loads correlation data from a CSV file and merges it with the water company data.\n",
    "7. Converts specific columns to numeric values and filters out NaN values.\n",
    "8. Calculates the Pearson correlation coefficient between household population and household consumption.\n",
    "9. Loads land use data from a shapefile and merges it with a CSV file containing labels.\n",
    "10. Drops unnecessary columns from the merged land use data.\n",
    "11. Performs a spatial join between the water company data and merged land use data.\n",
    "12. Groups the data by company and land use label, summing the 'Area_Ha' column.\n",
    "13. Creates a new GeoDataFrame with the grouped data, setting the geometry as the centroid of each land use label.\n",
    "14. Filters the rows where the land use label includes 'urban'.\n",
    "15. Groups the rows by company and calculates the sum of the 'Area_Ha' column for each group.\n",
    "16. Rounds the values in the 'Area_Ha' column to 2 significant digits.\n",
    "17. Merges the water company data with the area by company data.\n",
    "\n",
    "Part 2:\n",
    "18. Calculates the Pearson correlation coefficient between household consumption and area of urban land use.\n",
    "\n",
    "\n",
    "***Note:\n",
    "Further refinement to this script would be to create a template for the water company data input and to create function modules for calculation of the Pearson's Correlation Coefficient. This script could also be rerun on nonhousehold data. In addition, code to calculate consumption (nonhousehold and household) per hectare of land defined as urban landuse could be added and be used to identify outliers for further analysis ***\n",
    "\n",
    "The script is run as follows:"
   ]
  },
  {
   "cell_type": "code",
   "execution_count": null,
   "id": "e63d4410",
   "metadata": {},
   "outputs": [],
   "source": [
    "%run correlation_landuse.py "
   ]
  },
  {
   "cell_type": "markdown",
   "id": "4400b4db",
   "metadata": {},
   "source": [
    "The results indicate that there is a very strong correlation between population and household water consumption. There is also a good correlation, though not as strong, between the area for urban landuse and household water consumption. The next step would be to check the correlation between household populations as reported by water companies and that reported by Ordinance Survey. If granular water consumption data can be obtained (for instance logger data for inflows and outflows of water at a district metered area) this can be analysed in conjunction with built up and vegetative health indices to see if these can be used as a predictor of higher than average water consumption volumes. "
   ]
  },
  {
   "cell_type": "markdown",
   "id": "95b9527e",
   "metadata": {},
   "source": [
    "### Principle Component Analysis of multi temporal images"
   ]
  },
  {
   "cell_type": "markdown",
   "id": "e6e227d1",
   "metadata": {},
   "source": [
    "Using the satellite images retrieved from the SentinelAPI, Principle Component Analysis can be used to understand how changes in landuse have impacted water consumption over time. Such insights may provide valuable scientific evidence to validate the need for consumers to reduce their water consumption. "
   ]
  },
  {
   "cell_type": "markdown",
   "id": "3df8452e",
   "metadata": {},
   "source": [
    "***Methodology:***\n",
    "\n",
    "Principle Component Analysis (PCA) detects changes in landuse over time to further analyse the correlation between changes in landuse and water consumption in a given area.  As this is an unsupervised method, it is quick to run (if automated) and produced a difference image. The method is described in detail in the tutorial created by Kumar (2017), changes have been made to the python module, PCSKmeans, to replace redundant libraries. The module name has been updated to PCSKmeans_updated. \n",
    "\n",
    "For the module to be called, the following packages need to be installed: cv2, numpy, sklearn, collections, PIL, imageio, os, and math.\n",
    "\n",
    "The follow functions are defined in the module: \n",
    "\n",
    "***find_PCAKmeans(imagepath1, imagepath2):*** This is the main function that takes two image paths as inputs and performs change detection. It reads the images, resizes them, calculates the difference image, performs PCA on the difference image, and prepares the feature vector space (FVS).\n",
    "\n",
    "***find_vector_set(diff_image, new_size):*** This function divides the difference image into smaller blocks, extracts feature vectors from each block, and calculates the mean vector from all the feature vectors.\n",
    "\n",
    "***find_FVS(EVS, diff_image, mean_vec, new):*** This function extracts blocks from the difference image, flattens them into feature vectors, combines them into a feature vector space, and transforms the feature vector space using PCA by multiplying it with the eigenvectors and subtracting the mean vector.\n",
    "\n",
    "***clustering(FVS, components, new):*** This function performs K-means clustering on the feature vector space. It assigns each feature vector to a cluster, identifies the least common cluster as a reference for change detection, reshapes the cluster assignments into a change map, and returns the least common cluster index and the change map.\n",
    "\n",
    "The module also includes additional code to save the change map and clean change map as image files. Finally, it provides the image paths and calls the find_PCAKmeans function to execute the change detection process.\n",
    "\n",
    "***Note:\n",
    "The downloads take considerable time and should only be executed if required. The longer the search period selected, the more images will be downloaded - high volumes can result in failure to download successfully.  It is possible that an error occurs during the execution, if this occurs adjust the selection date range to see if this resolves the issue. The use of the magic '%matplotlib' command will allow this code to run in Jupyter Notebook ***\n",
    "\n",
    "The function module is called as follows:"
   ]
  },
  {
   "cell_type": "code",
   "execution_count": null,
   "id": "156f712c",
   "metadata": {},
   "outputs": [],
   "source": [
    "%run PCSKmeans_updated"
   ]
  },
  {
   "cell_type": "markdown",
   "id": "acb2d35e",
   "metadata": {},
   "source": [
    "# References"
   ]
  },
  {
   "cell_type": "code",
   "execution_count": null,
   "id": "bfb0f785",
   "metadata": {},
   "outputs": [],
   "source": []
  }
 ],
 "metadata": {
  "kernelspec": {
   "display_name": "Python 3 (ipykernel)",
   "language": "python",
   "name": "python3"
  },
  "language_info": {
   "codemirror_mode": {
    "name": "ipython",
    "version": 3
   },
   "file_extension": ".py",
   "mimetype": "text/x-python",
   "name": "python",
   "nbconvert_exporter": "python",
   "pygments_lexer": "ipython3",
   "version": "3.11.3"
  }
 },
 "nbformat": 4,
 "nbformat_minor": 5
}
