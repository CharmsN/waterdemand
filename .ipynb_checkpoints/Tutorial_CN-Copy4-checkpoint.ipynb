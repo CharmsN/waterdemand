{
 "cells": [
  {
   "cell_type": "markdown",
   "id": "11e730a2",
   "metadata": {},
   "source": [
    "# Water Demand Tutorial "
   ]
  },
  {
   "cell_type": "markdown",
   "id": "e1b9e502",
   "metadata": {},
   "source": [
    "# Land Use Breakdown per Water Company"
   ]
  },
  {
   "cell_type": "code",
   "execution_count": null,
   "id": "3c5635d1",
   "metadata": {},
   "outputs": [],
   "source": [
    "%matplotlib inline\n",
    "\n",
    "import os\n",
    "import pandas as pd\n",
    "import numpy as np\n",
    "import geopandas as gpd\n",
    "import scipy"
   ]
  },
  {
   "cell_type": "code",
   "execution_count": null,
   "id": "68e2cb11",
   "metadata": {},
   "outputs": [],
   "source": [
    "# Load water company data as wrz, remove unnecessary columns\n",
    "wrz = gpd.read_file(os.path.abspath('data_files/WaterSupplyAreas_incNAVs v1_4.shp'))\n",
    "# List of columns to be removed\n",
    "columns_to_remove = ['Disclaimer', 'Disclaim2', 'Disclaim3', 'Provenance', 'Licence', 'WARNINGS', 'Revisions']\n",
    "\n",
    "# Drop the columns from the GeoDataFrame\n",
    "wrz = wrz.drop(columns=columns_to_remove)"
   ]
  },
  {
   "cell_type": "code",
   "execution_count": null,
   "id": "dcd2262a",
   "metadata": {},
   "outputs": [],
   "source": [
    "# Append PCC for 2019 to 2020 to the wrz geodataframe\n",
    "# Load the CSV file\n",
    "pr24_hist_pcc = pd.read_csv('data_files/pr24_hist_pcc.csv')  \n",
    "\n",
    "# Perform the merge\n",
    "merged = wrz.merge(pr24_hist_pcc[['Company', '2019-20']], how='left', left_on='Acronym', right_on='Company')\n",
    "\n",
    "# Drop the unnecessary columns & rename the merged column\n",
    "merged.drop(['Company'], axis=1, inplace=True)\n",
    "merged.rename(columns={'2019-20': '2019-20_from_CSV'}, inplace=True)\n",
    "\n",
    "# Update the wrz GeoDataFrame with the merged column\n",
    "wrz['2019-20'] = merged['2019-20_from_CSV']"
   ]
  },
  {
   "cell_type": "code",
   "execution_count": null,
   "id": "1b989ca5",
   "metadata": {},
   "outputs": [],
   "source": [
    "wrz.loc[1]"
   ]
  },
  {
   "cell_type": "code",
   "execution_count": null,
   "id": "bd73c70a",
   "metadata": {},
   "outputs": [],
   "source": [
    "#read in land use data \n",
    "\n",
    "# Load landuse data\n",
    "landuse = gpd.read_file(os.path.abspath('data_files/clc2018_uk.shp'))"
   ]
  },
  {
   "cell_type": "code",
   "execution_count": null,
   "id": "75f42498",
   "metadata": {},
   "outputs": [],
   "source": [
    "landuse.loc[1] #uncomment this to see the first record in the geodataframe"
   ]
  },
  {
   "cell_type": "code",
   "execution_count": null,
   "id": "cdf974cd",
   "metadata": {},
   "outputs": [],
   "source": [
    "# Load the CSV file\n",
    "landuse_categories = pd.read_csv('data_files/legend.csv')\n",
    "# print(landuse_categories.head())  #show a sample of the CSV file "
   ]
  },
  {
   "cell_type": "code",
   "execution_count": null,
   "id": "caf7275b",
   "metadata": {},
   "outputs": [],
   "source": [
    "# merge the csv file with the geodataframe to include the labels for the landuse in the geodataframe\n",
    "landuse_categories['CODE'] = landuse_categories['CODE'].astype(str)\n",
    "merged_landuse = pd.merge(landuse, landuse_categories, left_on='CODE_18', right_on='CODE')\n",
    "\n",
    "# Drop unnecessary columns - this cleans the dataset to make it easier to work with\n",
    "merged_landuse = merged_landuse.drop(['CODE_18', 'CODE', 'Unnamed: 4', 'Unnamed: 5'], axis=1)\n",
    "merged_landuse\n",
    "# Access the 'LABEL' column in the merged DataFrame - LABEL gives the actual landuse description\n",
    "label_column = merged_landuse['LABEL']"
   ]
  },
  {
   "cell_type": "code",
   "execution_count": null,
   "id": "5fbe4fd8",
   "metadata": {},
   "outputs": [],
   "source": [
    "merged_landuse.loc[1]  #show the first row of the merged landuse geodataframe\n",
    "#merged_landuse.to_file('data_files/merged_landuse.shp', index=False) #save a copy of the geodataframe"
   ]
  },
  {
   "cell_type": "code",
   "execution_count": null,
   "id": "d5a9df4d",
   "metadata": {},
   "outputs": [],
   "source": [
    "print(merged_landuse.crs == wrz.crs) # test if the crs is the same "
   ]
  },
  {
   "cell_type": "code",
   "execution_count": null,
   "id": "814dbb91",
   "metadata": {},
   "outputs": [],
   "source": [
    "# Perform spatial join between wrz and merged_landuse\n",
    "join = gpd.sjoin(wrz, merged_landuse, how='inner', predicate='intersects')\n",
    "# Group by COMPANY and LABEL, and sum the Area_Ha column\n",
    "grouped = join.groupby(['COMPANY', 'LABEL'])['Area_Ha'].sum().reset_index()\n",
    "\n",
    "# Create a new GeoDataFrame from the grouped data\n",
    "company_landuse = gpd.GeoDataFrame(grouped, geometry=gpd.GeoSeries(), crs=wrz.crs)\n",
    "\n",
    "# Set the geometry of the new GeoDataFrame to the centroid of each LABEL\n",
    "company_landuse.geometry = company_landuse.apply(lambda x: wrz[wrz['COMPANY'] == x['COMPANY']].geometry.centroid.iloc[0], axis=1)\n",
    "\n",
    "# Print the resulting GeoDataFrame\n",
    "# print(company_landuse)\n",
    "company_landuse.loc[1]"
   ]
  },
  {
   "cell_type": "code",
   "execution_count": null,
   "id": "78db4304",
   "metadata": {},
   "outputs": [],
   "source": []
  },
  {
   "cell_type": "code",
   "execution_count": null,
   "id": "77957465",
   "metadata": {},
   "outputs": [],
   "source": []
  }
 ],
 "metadata": {
  "celltoolbar": "Raw Cell Format",
  "kernelspec": {
   "display_name": "Python 3 (ipykernel)",
   "language": "python",
   "name": "python3"
  },
  "language_info": {
   "codemirror_mode": {
    "name": "ipython",
    "version": 3
   },
   "file_extension": ".py",
   "mimetype": "text/x-python",
   "name": "python",
   "nbconvert_exporter": "python",
   "pygments_lexer": "ipython3",
   "version": "3.11.3"
  }
 },
 "nbformat": 4,
 "nbformat_minor": 5
}
