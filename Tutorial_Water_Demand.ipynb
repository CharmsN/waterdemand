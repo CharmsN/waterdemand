{
 "cells": [
  {
   "cell_type": "markdown",
   "id": "5219ced5",
   "metadata": {},
   "source": [
    "# Understanding Water Consumption"
   ]
  },
  {
   "cell_type": "markdown",
   "id": "a51d7ddc",
   "metadata": {},
   "source": [
    "# Introduction "
   ]
  },
  {
   "cell_type": "markdown",
   "id": "7459e663",
   "metadata": {},
   "source": [
    "### Background information on water companies in the UK:"
   ]
  },
  {
   "cell_type": "markdown",
   "id": "e0126001",
   "metadata": {},
   "source": [
    "Water companies in the UK were privatised in 1989 and, as most water companies are regional monopolies, household customers cannot select their water company (Hunt, June 2020).  Water companies are governed by Ofwat, the economic regulator, and must submit returns as part of a 5-year cycle price review process (the current regulatory period is known as PR19, the next regulatory period will be PR24). \n",
    "\n",
    "Increasing water scarcity makes understanding of household water consumption drivers critical for water resource management anf for policy makers and water companies to develop effective strategies to ensure sustainable future supply. \n",
    "\n",
    "In March 2023 the scientific journals Water, Environments, Forests and Remote Sensing, called for submission of papers on the topic “Remote Sensing in Water Resources Management Models” (Deng et al, abstract submission closing January 2023) validating the need for research focused on water resource management in general. \n",
    "\n",
    "A standard method for tracking water consumption is through calculation of per capita consumption (PCC) (litres of water used per person per day (Tamason et al, November 2016 & Crouch et al, August 2021). One of many performance commitments for water companies, is to reduce their PCC by an agreed number of litres per person per day (Ofwat, July 2021), the gold standard being between 100 and 120 litres per person per day (Anglian Water, October 2019 and Southern Water, October 2022). Calculation of PCC relies heavily on accurate population statistics at a district metered area (DMA) level and metering of all households. \n",
    "\n",
    "Not all households within the UK are metered with meter penetration being as low as 30% in some areas (Waterwise, September 2020). Meter reading can prove challenging due to limited access to properties, the high cost of manual and drive by meter readings and reluctance of customers to actively share details of their personal water consumption with water companies.  To date, evidence shared with households on the impact of water consumption on their environment has been restricted mostly to theoretical statements or less than robust statistics. \n",
    "\n",
    "This tutorial provides code for the first phase of analysis into driers of water demand. It is hoped that it will encourage researchers and  developers to further explore how additional measurements such as built up indices, landuse classification, correlation of building age with high consumption, as examples, can be be used to understand drivers of PCC and thus manage/influence future water demand/consumption by creating impirical evidenceto support adoption of sustainable water efficient behaviours. \n",
    "\n",
    "Data used is publically available data, the intention being to supplement this further with more advanced python scripting in the future, Google Earth Engine analysis and water company specific data. \n",
    "\n",
    "Reducing household consumption by a few litres per person per day is not the complete solution to attaining long-term sustainability. In addition to exploring drivers of consumption, the hypothesis that increasing household consumption is the root cause of increasing water demand in areas with recorded high PCC can be challenged if the relationship between leakage, non-household and household consumption and how this correlates with land use changes over time can be better understood.   \n",
    "<br>\n",
    "\n",
    "See the Reference section at the end of this tutorial for further reading."
   ]
  },
  {
   "cell_type": "markdown",
   "id": "05b78868",
   "metadata": {},
   "source": [
    "## Set-up and Installation "
   ]
  },
  {
   "cell_type": "markdown",
   "id": "21f4f214",
   "metadata": {},
   "source": [
    "To work through this tutorial, follow the step by step instructions below - the assumption is that Conda and Git are installed on the local computer and that internet connectivity is available:\n",
    "\n",
    "Step 1: Clone the repository (https://github.com/CharmsN/waterdemand) to your local directory. "
   ]
  },
  {
   "cell_type": "markdown",
   "id": "c15cb277",
   "metadata": {},
   "source": [
    "Step 2: Navigate to the cloned repository and check for the environment.yml file to see what packages will be required to complete this tutorial. "
   ]
  },
  {
   "cell_type": "markdown",
   "id": "7bfbf959",
   "metadata": {},
   "source": [
    "Step 3: Create a new Conda environment based on the environment.yml file"
   ]
  },
  {
   "cell_type": "markdown",
   "id": "c5b3dda7",
   "metadata": {},
   "source": [
    "Step 4: Activate the environment"
   ]
  },
  {
   "cell_type": "markdown",
   "id": "97565c22",
   "metadata": {},
   "source": [
    "Step 5: Open the interactive Jupiter Notebook called Tutorial_Water_Demand.ipynb and start working through this tutorial. This notebook is the main entry point to execute the scripts for this tutorial. "
   ]
  },
  {
   "cell_type": "markdown",
   "id": "3f0ce3cd",
   "metadata": {},
   "source": [
    "All the datasets required to run this tutorial are in the waterdemand GitHub repository, apart from the corine land cover data. Raw data can be downloaded from the following websites:\n",
    "- https://data.parliament.uk/resources/constituencystatistics/water/WaterSupplyAreas_incNAVsv1_4.zip\n",
    "- https://www.ofwat.gov.uk/publication/historical-performance-trends-for-pr24-v2-0/\n",
    "- https://www.data.gov.uk/dataset/cd2c59e7-afd9-471d-a056-c5845619dcd7/corine-land-cover-2018-for-the-uk-isle-of-man-jersey-and-guernsey"
   ]
  },
  {
   "cell_type": "markdown",
   "id": "6043ee55",
   "metadata": {},
   "source": [
    "## Creating maps of water consumption per water company resource zone"
   ]
  },
  {
   "cell_type": "markdown",
   "id": "e5408f3e",
   "metadata": {},
   "source": [
    "Visualisation of water companies within the UK and Wales can form a starting point from which to understand areas of high water consumption. This section shows how high level usage can be displayed using chloropleth maps."
   ]
  },
  {
   "cell_type": "markdown",
   "id": "63261938",
   "metadata": {},
   "source": [
    "***Methodology:***\n",
    "\n",
    "As some of the tasks required during this tutorial are repetitive in nature, the following function modules have been created :\n",
    "- ***read_water_resource_zones:*** reads in the file for water company boundaries and drops unnecessary columns from the geodataframe. The geodataframe is then updated with the cleaned geodataframe data.  \n",
    "- ***merge_pcc_data:*** reads in the consumption data and, based on the acronym for the company, merges it with the water resource zone data. \n",
    "- ***plot_chloropleth_map:*** plots a chloropleth map of the per capita consumption for each water company for a selected period (e.g. 2019-20, 2011-12). \n",
    "- ***plot_chloropleth_map:*** plots a chloropleth map of the per capita consumption for each water company for a selected period (e.g. 2019-20, 2011-12). \n",
    "- ***plot_folium_map:*** plots an interactive folium map of the per capita consumption for each water company for a selected period (e.g. 2019-20, 2011-12). \n",
    "\n",
    "The packages required to run this code include os, pandas, geopandas, pyplot from matplotlib, crs from cartopy and folium. Further detail on each of these packages can be found by searching for the Documentation for each package, for example the link https://pandas.pydata.org/docs/ can be found by searching for pandas documentation.     \n",
    "\n",
    "These function modules can be amended to visualise total household consumption, leakage etc as this information is available within the provided dataset. Further enhancements to this code could include visualisation of a district metered area (DMA) within a water company boundary and to create a variable to change the title.\n",
    "\n",
    "Note: The per capita consumption data was extracted from the historical performance trends for PR24 dataset which contains many additional variables to analyse.\n",
    "\n",
    "Before creating some maps, familiarise yourself with the datasets by running the following code snippets: "
   ]
  },
  {
   "cell_type": "markdown",
   "id": "eb6891a5",
   "metadata": {},
   "source": [
    "***Water resource zone data***"
   ]
  },
  {
   "cell_type": "code",
   "execution_count": null,
   "id": "510624c9",
   "metadata": {},
   "outputs": [],
   "source": [
    "import geopandas as gpd\n",
    "\n",
    "water_resource_zone_data = gpd.read_file('data_files/WaterSupplyAreas_incNAVs v1_4.shp')\n",
    "water_resource_zone_data.loc[0]"
   ]
  },
  {
   "cell_type": "markdown",
   "id": "dbf3409a",
   "metadata": {},
   "source": [
    "***Per Capita Consumption Data***"
   ]
  },
  {
   "cell_type": "code",
   "execution_count": null,
   "id": "2ce87eac",
   "metadata": {},
   "outputs": [],
   "source": [
    "import pandas as pd\n",
    "water_use_data = pd.read_csv('data_files/pr24_hist_pcc.csv')\n",
    "\n",
    "water_use_data.loc[0]"
   ]
  },
  {
   "cell_type": "markdown",
   "id": "da2e08e3",
   "metadata": {},
   "source": [
    "### Creating a chloropleth map\n",
    "\n",
    "The module 'functions' is imported and the arguments for the water resource zones per water company (water_area_file), the consumption history (history_file) and the period to analyse (pcc_period) are passed to the code as a string. \n",
    "\n",
    "The 'magic' %matplot lib inline command is used so that the plot is returned if the code is run interactively from Jupyter Notebook. Run the code snippet below to see the plot.   "
   ]
  },
  {
   "cell_type": "code",
   "execution_count": null,
   "id": "4cea7442",
   "metadata": {},
   "outputs": [],
   "source": [
    "%matplotlib inline\n",
    "\n",
    "import functions\n",
    "\n",
    "water_areas_file = 'data_files/WaterSupplyAreas_incNAVs v1_4.shp'\n",
    "history_file = 'data_files/pr24_hist_pcc.csv'\n",
    "pcc_period = '2019-20'\n",
    "\n",
    "wrz = functions.read_water_resource_zones(water_areas_file)\n",
    "wrz = functions.merge_pcc_data(wrz, history_file, pcc_period)\n",
    "functions.plot_chloropleth_map(wrz, pcc_period)"
   ]
  },
  {
   "cell_type": "markdown",
   "id": "06261480",
   "metadata": {},
   "source": [
    "### Creating an interactive folium map\n",
    "\n",
    "Again, the module 'functions' is imported and the arguments for the water resource zones per water company (water_area_file), the consumption history (history_file) and the period to analyse (pcc_period) are passed to the code as a string. To create the interactive map, the folium package is used to create an interactive map with popups.  The code can be amended to append multiple periods of water consumption to the water resource zone data so that the popups show consumption for each period.  The same can be done for leakage and other data available from the historical performance trends data for PR24. Additional information on the folium package can be found at https://python-visualization.github.io/folium/.\n",
    "\n",
    "Zooming in on the interactive map will allow users to see the river network and green areas that may be negatively impacted by high water consumption.\n",
    "\n",
    "To see the interactive map, run the code snippet below."
   ]
  },
  {
   "cell_type": "code",
   "execution_count": null,
   "id": "3dbad3e7",
   "metadata": {},
   "outputs": [],
   "source": [
    "%matplotlib\n",
    "\n",
    "import functions\n",
    "\n",
    "water_areas_file = 'data_files/WaterSupplyAreas_incNAVs v1_4.shp'\n",
    "history_file = 'data_files/pr24_hist_pcc.csv'\n",
    "pcc_period = '2019-20'\n",
    "\n",
    "wrz = functions.read_water_resource_zones(water_areas_file)\n",
    "wrz = functions.merge_pcc_data(wrz, history_file, pcc_period)\n",
    "functions.plot_folium_map(wrz, history_file, pcc_period)"
   ]
  },
  {
   "cell_type": "markdown",
   "id": "b11729d2",
   "metadata": {},
   "source": [
    "### Selecting and download a satellite image using the SentinelAPI"
   ]
  },
  {
   "cell_type": "markdown",
   "id": "53812cc3",
   "metadata": {},
   "source": [
    "SentinelHub is a cloud-based platform that provides access to data from the European Space Agency's Sentinel satellites, which include optical, radar, and thermal imagery. The SentinelAPI is a Python library that enables programmatic access to the Sentinel satellite data archive.\n",
    "\n",
    "To use SentinelHub and the SentinelAPI, you will need a user account with Copernicus Open Access Hub (https://scihub.copernicus.eu/). This account allows access to download the Sentinel satellite images.\n",
    "\n",
    "Additionally, make sure your Python version is equal to or greater than 3.8. Further  details on the installation and usage of the SentinelAPI library can be found at https://pypi.org/project/sentinelhub/."
   ]
  },
  {
   "cell_type": "markdown",
   "id": "41be375e",
   "metadata": {},
   "source": [
    "The maps created earlier in this tutorial provide a visual tool to help select an area of interest. Once an area has been selected for further review, for instance Bournemouth which appears to have a high PCC, sentinel satelite images of this area can be downloaded to continue with further analysis. "
   ]
  },
  {
   "cell_type": "markdown",
   "id": "3e295ccf",
   "metadata": {},
   "source": [
    "**Methodology:**\n",
    "\n",
    "The module download_sat_image_company contains a function to download the best overlapping image for the water company selected within a specified date range using geopandas (to select the area to search), sentinelsat (to retrieve the image), IPython (to display the image retrieved) and os (to read the geodataframe into memory). \n",
    "\n",
    "Inputs to the function download_best_overlap_image are:\n",
    "- company_detail, a string giving the water company area to cover\n",
    "- AreaServed column (area of interest)\n",
    "\n",
    "For date range of search:\n",
    "- date_start (format 'YYYYMMDD')\n",
    "- date_end (format 'YYYYMMDD')\n",
    "\n",
    "The code as run below only has the best overlap image as output. \n",
    "\n",
    "The function creates a minimum rotated rectangle polygon to use as a search area and return images with less than 10% cloud cover, this can be adjusted as required. The best overlapping image is selected by calculating the percentage overlap of the search polygon and the images retrieved and sorting these in descending order so that the image with the highest overlap can be returned.  The best overlap image is downloaded to the root directory of the environment.\n",
    "\n",
    "All matches can be downloaded by uncommenting the relevant line in the code. This line has been commented out to prevent unintentional download of large numbers of files. The download can also be limited to the image bands only.    \n",
    "\n",
    "***Note:\n",
    "The downloads take considerable time and should only be executed if required - high volumes can result in failure to download successfully.  It is possible that an error occurs during the execution, if this occurs adjust the selection date range to see if this resolves the issue.***\n",
    "\n",
    "Before moving to the next step, create a .netrc file (see https://www.labkey.org/Documentation/wiki-page.view?name=netrc for instructions) with login details for accessing the Copernicus Open Access Hub. \n",
    "\n",
    "DO NOT AMEND THE CODE TO INCLUDE YOUR USER NAME AND PASSWORD. \n",
    "\n",
    "To import the required module and packages, run the following code snippet: "
   ]
  },
  {
   "cell_type": "code",
   "execution_count": null,
   "id": "78dc0b3b",
   "metadata": {},
   "outputs": [],
   "source": [
    "%matplotlib inline\n",
    "\n",
    "import download_sat_image_company\n",
    "from IPython import display"
   ]
  },
  {
   "cell_type": "markdown",
   "id": "e7bcc6b7",
   "metadata": {},
   "source": [
    "Once the required packages are imported, the water company area and date range for the search are given. "
   ]
  },
  {
   "cell_type": "code",
   "execution_count": null,
   "id": "5c8e5cbe",
   "metadata": {},
   "outputs": [],
   "source": [
    "# select water company to review in further detail:\n",
    "company_detail ='Bournemouth' # taken from the AreaServed column in the wrz geodataframe\n",
    "date_start='20200601' # start search from this date\n",
    "date_end='20230101' # end search at this date\n",
    "\n",
    "download_sat_image_company.download_best_overlap_image(company_detail,date_start,date_end) # call the function from this module"
   ]
  },
  {
   "cell_type": "markdown",
   "id": "377fed87",
   "metadata": {},
   "source": [
    "Satellite images retrieved should be preprocessed prior to conducting further analysis.  For the purposes of this tutorial the assumption is made that preprocessing has been completed. \n"
   ]
  },
  {
   "cell_type": "markdown",
   "id": "06634778",
   "metadata": {},
   "source": [
    "### Pearson's correlation analysis "
   ]
  },
  {
   "cell_type": "markdown",
   "id": "4b2c06f9",
   "metadata": {},
   "source": [
    "#### For illustrative purposes, the next steps use the Corine landuse data from data.gov.uk to understand the correlation between water consumption and landuse (ref xxx)\n",
    "\n",
    "\n",
    "***Methodology:***\n",
    "\n",
    "To test the hypothesis that water consumption is directly correlated to landuse, a standard Pearson's Correlation Coefficient methodology (reference Rout) and be used to calculate the correlation between household water consumption and population (+1 = 100% positive correlation and -1 = 100% negative correlation). \n",
    "\n",
    "The formula for calculating this coefficient (p) is: \n",
    "\n",
    "$$\n",
    "\\rho = \\frac{{\\sum (x_i - \\bar{x})(y_i - \\bar{y})}}{{\\sqrt{{\\sum (x_i - \\bar{x})^2} \\cdot {\\sum (y_i - \\bar{y})^2}}}}\n",
    "$$\n",
    "\n",
    "The robustness of the calculation relies on an adequate sample size (between 20 and 30), data outliers can interfere with the results obtained. \n",
    "\n",
    "Packages required to run this code are:  \n",
    "os (to access files and directories in the operating system), geopandas, pandas and scipy (a scientific computing library, https://docs.scipy.org/doc//scipy/index.html). \n",
    "\n",
    "The code reuses functions from the 'functions' module to create a merged dataset and then computes the correlation coefficient. Arguments required to run the code are:\n",
    "- water_area file containing the water company data\n",
    "- household consumption and population figures for each water company (in this example, correlation_data.csv which was created from (the PR24 submission data ref...)\n",
    "- shape file for land use data and the labels for the land use data (clc2018_uk.shp obtained from Corine data).\n",
    "\n",
    "As the Corine data set is too large to upload into GitHub, download and extract it (https://www.data.gov.uk/dataset/cd2c59e7-afd9-471d-a056-c5845619dcd7/corine-land-cover-2018-for-the-uk-isle-of-man-jersey-and-guernsey) and add it to your local repository in the folder data_files so that it appears as follows: \n",
    "\n",
    "<div style=\"display:flex\">\n",
    "    <img src=\"data_files/corine_data_location.jpg\" style=\"width:30%\">\n",
    "</div>\n",
    "\n",
    "<br>The script completes the following steps: \n",
    "\n",
    "1. Load water company data and filter it based on specific area types (this was to restrict the query to traditional water companies only).\n",
    "2. Perform union operation on the geometries of water company groups.\n",
    "3. Create a new GeoDataFrame with the unioned geometries for each company.\n",
    "4. Append correlation data to the water company GeoDataFrame.\n",
    "5. Convert certain columns to numeric and filter out NaN values.\n",
    "6. Calculate the Pearson correlation coefficient between household population and consumption.\n",
    "7. Load land use data and merge it with the water company GeoDataFrame.\n",
    "8. Perform a spatial join between water companies and land use data.\n",
    "9. Group the data by company and land use label, and sum the area column.\n",
    "10. Create a new GeoDataFrame with the grouped data and centroid geometry.\n",
    "11. Filter the rows with 'urban' land use.\n",
    "12. Calculate the total area of urban land use for each company.\n",
    "13. Calculate the Pearson correlation coefficient between household consumption and urban land use area.\n",
    "\n",
    "Run the script by running the code snippet below: "
   ]
  },
  {
   "cell_type": "markdown",
   "id": "c26af689",
   "metadata": {},
   "source": [
    "#### run correlation_landuse.py "
   ]
  },
  {
   "cell_type": "markdown",
   "id": "4400b4db",
   "metadata": {},
   "source": [
    "The results indicate that there is a very strong correlation between population and household water consumption. There is also a good correlation between the area for urban landuse and household water consumption. \n",
    "\n",
    "The next step would be to check the correlation between household populations as reported by water companies and that reported by Ordinance Survey. \n",
    "\n",
    "If granular water consumption data can be obtained (for instance logger data for inflows and outflows of water at a district metered area) this can be analysed in conjunction with built up and vegetative health indices to see if these can be used as a predictor of higher than average water consumption volumes. \n",
    "\n",
    "A hypothesis that can also be tested is that large areas of irrigated lawn (for instance rugby fields, large gardens and golf courses) significantly increase consumption within an area."
   ]
  },
  {
   "cell_type": "markdown",
   "id": "633f6e43",
   "metadata": {},
   "source": [
    "***Note:\n",
    "Further refinements could include:***\n",
    "- create a template for input data (test with mock data) to use should actual DMA data be sourced for further analysis.  \n",
    "- create a function module to complete the merge of the two datasets, the function within the 'functions' module was not suitable for reuse here. \n",
    "- rerun the script on nonhousehold data. \n",
    "- calculate consumption (nonhousehold and household) per hectare of land defined as urban landuse could be added and be used to identify outliers for further analysis "
   ]
  },
  {
   "cell_type": "markdown",
   "id": "95b9527e",
   "metadata": {},
   "source": [
    "### Principle Component Analysis of Multi Temporal Images"
   ]
  },
  {
   "cell_type": "markdown",
   "id": "e6e227d1",
   "metadata": {},
   "source": [
    "Using the Sentinel satellite images retrieved, Principle Component Analysis can be used to understand how changes in landuse have impacted water consumption over time. Such insights may provide valuable scientific evidence to validate the need for consumers to reduce their water consumption. "
   ]
  },
  {
   "cell_type": "markdown",
   "id": "3df8452e",
   "metadata": {},
   "source": [
    "***Methodology:***\n",
    "\n",
    "Principle Component Analysis (PCA) detects changes in landuse over time to further analyse the correlation between changes in landuse and water consumption in a given area.  As this is an unsupervised method, it is quick to run (if automated) and produces a difference image. The method described by Kumar (2017), has been modifie, replacing redundant libraries. The modified cod, PCAKmean_updated, creates a change map and a cleaned change map showing the change over time. \n",
    "\n",
    "For the module PCASKmean_updated to be called, the following packages need to be installed: cv2 (OpenCV library for image processing), numpy, sklearn (KMeans and PCA processing), collections (counting occurrences of elements),  PIL (Python Imaging Library for image-related operations), imageio (reading and writing different image formats), os and math (mathematical functions and constants).\n",
    "\n",
    "Imageio has been imported as imageio.v2 to suppress warning errors resulting from use of later versions of the package.  \n",
    "\n",
    "The follow functions are defined in the module: \n",
    "\n",
    "***find_PCAKmeans(imagepath1, imagepath2):*** This is the main function that takes two image paths as inputs and performs change detection. It reads the images, resizes them, calculates the difference image, performs PCA on the difference image, and prepares the feature vector space (FVS).\n",
    "\n",
    "***find_vector_set(diff_image, new_size):*** This function divides the difference image into smaller blocks, extracts feature vectors from each block, and calculates the mean vector from all the feature vectors.\n",
    "\n",
    "***find_FVS(EVS, diff_image, mean_vec, new):*** This function extracts blocks from the difference image, flattens them into feature vectors, combines them into a feature vector space, and transforms the feature vector space using PCA by multiplying it with the eigenvectors and subtracting the mean vector.\n",
    "\n",
    "***clustering(FVS, components, new):*** This function performs K-means clustering on the feature vector space. It assigns each feature vector to a cluster, identifies the least common cluster as a reference for change detection, reshapes the cluster assignments into a change map, and returns the least common cluster index and the change map.\n",
    "\n",
    "The module saves the change map and clean change map as image files, provides the image paths and calls the find_PCAKmeans function to execute the change detection process.\n",
    "\n",
    "The change map and clean change map are saved in the directory data_files in a folder called test_data. \n",
    "\n",
    "The images (20200327.jpeg and 20230208.jpeg) used for this example were downloaded from SentinelAPI using the method described above and are used for illustrative purposes only.  \n",
    "\n",
    "**Note:  These images have not been preprocessed.**\n",
    "\n",
    "Once the code is executed the following will appear:\n",
    "- A message indicating that the file is in the process of executing (Operating)\n",
    "- The dimensions of the input images (height and width in number of pixels and number of channels)\n",
    "- The size of the resized images (calculated by rounding up the original size to the nearest multiple of 5)\n",
    "- The size of the feature vector space (FVS) that is created\n",
    "- A message indicating that the K-means clustering algorithm is being performed on the feature vector space (computing k means)\n",
    "- The dimensions (height and width in pixels) of the change map \n",
    "- A message indicating that the code execution is complete \n",
    "\n",
    "An example of the clean change map output is shown in Figure 2.\n",
    "\n",
    "To execute the code, run the following code snippet: "
   ]
  },
  {
   "cell_type": "code",
   "execution_count": null,
   "id": "156f712c",
   "metadata": {},
   "outputs": [],
   "source": [
    "%run PCAKmeans_updated"
   ]
  },
  {
   "cell_type": "markdown",
   "id": "9c984293",
   "metadata": {},
   "source": [
    "<div style=\"display:flex\">\n",
    "    <img src=\"data_files/test_data/cleanchangemap.jpg\" style=\"width:50%\">\n",
    "</div>"
   ]
  },
  {
   "cell_type": "markdown",
   "id": "c0f34852",
   "metadata": {},
   "source": [
    "          Figure 2: Cleaned Change Map showing change between 27 March 2020 and 8 August 2023 for the Bournemouth Area "
   ]
  },
  {
   "cell_type": "markdown",
   "id": "54114f88",
   "metadata": {},
   "source": [
    "additional references and datasets"
   ]
  },
  {
   "cell_type": "markdown",
   "id": "acb2d35e",
   "metadata": {},
   "source": [
    "# References"
   ]
  },
  {
   "cell_type": "markdown",
   "id": "60a27610",
   "metadata": {},
   "source": [
    "Eras, J.J.C; Sagastume, A; Rueda-Bayona, J.G. and Fandi&ntilde;o, J. M. M (August 2022) Assessing the causality relationship and time series model for electricity consumption per capita and human development in Colombia; Energy Reports 8(47):10464-10477; Available at https://www.researchgate.net/publication/363059307_Assessing_the_causality_relationship_and_time_series_model_for_electricity_consumption_per_capita_and_human_development_in_Colombia.(Accessed: 13 May 2023) \n",
    "\n",
    "Ofwat (July 2021) Consultation on changes to per  capita consumption performance  commitments; Ofwat; Available at  https://www.ofwat.gov.uk/wp-content/uploads/2021/07/Consultation-on-changes-to-per-capita-consumption-performance-commitments.pdf#:~:text=All%20companies%20have%20at%20least%20one%20PCC%20performance,three%20year%20rolling%20average%20reduction%20from%20a%20baseline.(Accessed: 13 May 2023) \n",
    "\n",
    "Crouch, M.; Jacobs H. E.; Speight, V. (August 2021) Defining domestic water consumption based on personal water use activities;  Aqua 70(7); Available at https://www.researchgate.net/publication/353991375_Defining_domestic_water_consumption_based_on_personal_water_use_activities.(Accessed: 13 May 2023) \n",
    "\n",
    "Anglian Water Services Ltd (October 2019) Defra consultation: measures to reduce personal water use Anglian Water Services Ltd.; Anglian Water; Available at  https://www.anglianwater.co.uk/siteassets/household/about-us/public-affairs-2019/defra---pcc-water-consumption---october.pdf. (Accessed: 13 May 2023) \n",
    "\n",
    "Southern Water (October 2022) Draft Water Resources  Management Plan 2024 Annex 14: T100: a blueprint  for a water-efficient culture  for Southern Water  customers; Southern Water; Available at  https://www.southernwater.co.uk/media/7719/annex_14_t100-strategic-overview-formatting-22-11-22.pdf. (Accessed: 13 May 2023) \n",
    "\n",
    "Hunt, G. (June 2020) Economic regulation of the water industry in England and Wales; House of Commons Library; Available at   https://commonslibrary.parliament.uk/research-briefings/cbp-8931/#:~:text=The%20water%20industry%20in%20England%20and%20Wales%20was,or%20switch%20their%20supplier%20and%20competition%20is%20limited.(Accessed: 13 May 2023) \n",
    "\n",
    "Wilson, T.S.; Landridge, R. and Van Schmidt, N. D. (September 2020) Land-Use Change and Future Water Demand in California’s Central Coast; Land 9(9):322; [Online]  https://www.researchgate.net/publication/344333563_Land-Use_Change_and_Future_Water_Demand_in_California%27s_Central_Coast (Accessed: 13 May 2023) \n",
    "\n",
    "Tamason C.C., Bessias, S., Villada A., Tulsiani, S. M., Ensink, J. H. J., Gurley, E. S. and Jensen, P. K. M. (November 2016) Tropical Medicine and International Health; 21(11):1389–1402; Available at   https://onlinelibrary.wiley.com/doi/epdf/10.1111/tmi.12769 (Accessed: 13 May 2023) \n",
    "\n",
    "GeeksforGeeks. (n.d.). Python | Pearson correlation test between two variables. Available at https://www.geeksforgeeks.org/python-pearson-correlation-test-between-two-variables/ (Accessed: 13 May 2023).\n",
    "\n",
    "Meng, X. and Wu, L (June 2021) Prediction of per capita water consumption for 31 regions in China; Environmental Science and Pollution Research;  28:29253–29264; Available at https://link.springer.com/article/10.1007/s11356-021-12368-0. (Accessed: 13 May 2023)\n",
    "\n",
    "Yang, P. and Mao, X. (March 2010) Relationship between urban ecological water demand and land use structure in rapid urbanization area; Beijing Daxue Xuebao Ziran Kexue Ban/Acta Scientiarum Naturalium Universitatis Pekinensis; 46(2):298-306. Available at https://www.researchgate.net/publication/289350922_Relationship_between_urban_ecological_water_demand_and_land_use_structure_in_rapid_urbanization_area (Accessed: 13 May 2023)\n",
    "\n",
    "Elsayed, S and Hong, Y (January 2023) Remote Sensing in Water Resources Management Models; MDPI; Available at https://www.mdpi.com/topics/Remote_Sensing_Water (Accessed: 13 May 2023)\n",
    "\n",
    "Waterwise (September 2020) September 2020 Waterwise Newsletter, Waterwise. Available at https://database.waterwise.org.uk/wp-content/uploads/2020/09/In-Association-with-Artesia-Sept-2020-Newsletter.pdf#:~:text=So%2C%20let%E2%80%99s%20look%20at%20one%20of%20those%20factors,metered%29.%20If%20we%20rearrange%20the%20data%20in%20Figure. (Accessed: 13 May 2023)\n",
    "\n",
    "Artesia (August 2019) Water UK Pathways to long-term PCC reduction, Water UK. Available at https://www.water.org.uk/wp-content/uploads/2019/12/Water-UK-Research-on-reducing-water-use.pdf. (Accessed: 13 May 2023)"
   ]
  },
  {
   "cell_type": "markdown",
   "id": "6075e92a",
   "metadata": {},
   "source": [
    "The following papers contain information of interest for further analysis: \n",
    "\n",
    "Water Demand Management in Jordan (Jan 2014) (https://www.scirp.org/journal/paperinformation.aspx?paperid=41891\n",
    "\n",
    "Spatial Modelling of Current and Future Piped Domestic Water Demand in Athi River Town, Kenya (April 2019) https://www.scirp.org/journal/paperinformation.aspx?paperid=92021\n",
    "\n",
    "Remote Sensing for Water Resources and Environmental Management (December 2022) https://www.mdpi.com/2072-4292/15/1/18\n",
    "\n",
    "\n",
    "\n",
    "\n",
    "- Prediction of water consumption based on population (Meng and Wu, June 2021)\n",
    "- Assessing the causality relationship and time series model for electricity consumption per capita and human development in Colombia (Eras et al, August 2022)\n",
    "- Relationship between urban ecological water demand and land use structure in rapid urbanization area(Yang and Mao, March 2010)\n",
    "- Land-Use Change and Future Water Demand in California’s Central Coast (Wilson et al, September 2020)  \n",
    "\n"
   ]
  }
 ],
 "metadata": {
  "kernelspec": {
   "display_name": "Python 3 (ipykernel)",
   "language": "python",
   "name": "python3"
  },
  "language_info": {
   "codemirror_mode": {
    "name": "ipython",
    "version": 3
   },
   "file_extension": ".py",
   "mimetype": "text/x-python",
   "name": "python",
   "nbconvert_exporter": "python",
   "pygments_lexer": "ipython3",
   "version": "3.11.3"
  }
 },
 "nbformat": 4,
 "nbformat_minor": 5
}
