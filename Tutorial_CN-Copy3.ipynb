{
 "cells": [
  {
   "cell_type": "markdown",
   "id": "11e730a2",
   "metadata": {},
   "source": [
    "# Water Demand Tutorial Phase - not of value"
   ]
  },
  {
   "cell_type": "code",
   "execution_count": null,
   "id": "5e83884d",
   "metadata": {},
   "outputs": [],
   "source": []
  },
  {
   "cell_type": "code",
   "execution_count": null,
   "id": "3c5635d1",
   "metadata": {},
   "outputs": [],
   "source": [
    "%matplotlib inline\n",
    "\n",
    "import os\n",
    "import pandas as pd\n",
    "import numpy as np\n",
    "import geopandas as gpd\n",
    "import matplotlib.pyplot as plt\n",
    "from cartopy.feature import ShapelyFeature\n",
    "import cartopy.crs as ccrs\n",
    "import matplotlib.patches as mpatches\n",
    "import matplotlib.lines as mlines\n",
    "import folium\n",
    "import scipy\n",
    "import seaborn as sns\n",
    "\n",
    "# Set Seaborn style and color palette\n",
    "sns.set_style(\"darkgrid\")\n",
    "sns.set_palette(\"husl\")"
   ]
  },
  {
   "cell_type": "code",
   "execution_count": null,
   "id": "18904c86",
   "metadata": {},
   "outputs": [],
   "source": [
    "# generate matplotlib handles to create a legend of the features we put in our map.\n",
    "def generate_handles(labels, colors, edge='k', alpha=1):\n",
    "    lc = len(colors)  # get the length of the color list\n",
    "    handles = []\n",
    "    for i in range(len(labels)):\n",
    "        handles.append(mpatches.Rectangle((0, 0), 1, 1, facecolor=colors[i % lc], edgecolor=edge, alpha=alpha))\n",
    "    return handles\n",
    "\n",
    "\n",
    "# create a scale bar of length 20 km in the upper right corner of the map\n",
    "# adapted this question: https://stackoverflow.com/q/32333870\n",
    "# answered by SO user Siyh: https://stackoverflow.com/a/35705477\n",
    "def scale_bar(ax, location=(0.92, 0.95)):\n",
    "    x0, x1, y0, y1 = ax.get_extent()\n",
    "    sbx = x0 + (x1 - x0) * location[0]\n",
    "    sby = y0 + (y1 - y0) * location[1]\n",
    "\n",
    "    ax.plot([sbx, sbx - 20000], [sby, sby], color='k', linewidth=9, transform=ax.projection)\n",
    "    ax.plot([sbx, sbx - 10000], [sby, sby], color='k', linewidth=6, transform=ax.projection)\n",
    "    ax.plot([sbx-10000, sbx - 20000], [sby, sby], color='w', linewidth=6, transform=ax.projection)\n",
    "\n",
    "    ax.text(sbx, sby-4500, '20 km', transform=ax.projection, fontsize=8)\n",
    "    ax.text(sbx-12500, sby-4500, '10 km', transform=ax.projection, fontsize=8)\n",
    "    ax.text(sbx-24500, sby-4500, '0 km', transform=ax.projection, fontsize=8) "
   ]
  },
  {
   "cell_type": "code",
   "execution_count": null,
   "id": "355d7ca1",
   "metadata": {},
   "outputs": [],
   "source": [
    "# load the outline of UK for a backdrop\n",
    "#outline = gpd.read_file(os.path.abspath('data_files/Outline.shp')) # if this is uncommented, the outline polygons are overlayed on top of the land use so they aren't visible"
   ]
  },
  {
   "cell_type": "code",
   "execution_count": null,
   "id": "852a1548",
   "metadata": {},
   "outputs": [],
   "source": [
    "#add scalebar\n",
    "#add figure heading"
   ]
  },
  {
   "cell_type": "code",
   "execution_count": null,
   "id": "68e2cb11",
   "metadata": {},
   "outputs": [],
   "source": [
    "# Load water company data as wrz, remove unnecessary columns\n",
    "wrz = gpd.read_file(os.path.abspath('data_files/WaterSupplyAreas_incNAVs v1_4.shp'))\n",
    "# List of columns to be removed\n",
    "columns_to_remove = ['Disclaimer', 'Disclaim2', 'Disclaim3', 'Provenance', 'Licence', 'WARNINGS', 'Revisions']\n",
    "\n",
    "# Drop the columns from the GeoDataFrame\n",
    "wrz = wrz.drop(columns=columns_to_remove)"
   ]
  },
  {
   "cell_type": "code",
   "execution_count": null,
   "id": "fbff59c0",
   "metadata": {},
   "outputs": [],
   "source": [
    "myFig = plt.figure(figsize=(10, 30))  # create a figure of size 10x30 (adjusted from 10x10 to accommodate the legend)\n",
    "\n",
    "myCRS = ccrs.TransverseMercator(27700)  # create a Universal Transverse Mercator reference system to transform our data.\n",
    "\n",
    "ax = plt.axes(projection=myCRS)  # finally, create an axes object in the figure, using a UTM projection,"
   ]
  },
  {
   "cell_type": "code",
   "execution_count": null,
   "id": "cfdc824c",
   "metadata": {},
   "outputs": [],
   "source": [
    "# first, we just add the outline using cartopy's ShapelyFeature\n",
    "outline_feature = ShapelyFeature(outline['geometry'], myCRS, edgecolor='k', facecolor='w')\n",
    "xmin, ymin, xmax, ymax = outline.total_bounds\n",
    "ax.add_feature(outline_feature) # add the features created to the map."
   ]
  },
  {
   "cell_type": "code",
   "execution_count": null,
   "id": "c506a59d",
   "metadata": {},
   "outputs": [],
   "source": [
    "# using the boundary of the shapefile features, zoom the map to our area of interest\n",
    "ax.set_extent([xmin-5000, xmax+5000, ymin-5000, ymax+5000], crs=myCRS) # because total_bounds \n",
    "# gives output as xmin, ymin, xmax, ymax,\n",
    "# but set_extent takes xmin, xmax, ymin, ymax, we re-order the coordinates here.\n",
    "\n",
    "#myFig ## uncomment if you would like to see a preview of the map"
   ]
  },
  {
   "cell_type": "code",
   "execution_count": null,
   "id": "bc8b2bd2",
   "metadata": {},
   "outputs": [],
   "source": [
    "#looking at land use   "
   ]
  },
  {
   "cell_type": "code",
   "execution_count": null,
   "id": "bd73c70a",
   "metadata": {},
   "outputs": [],
   "source": [
    "#read in land use data \n",
    "\n",
    "# Load landuse data\n",
    "landuse = gpd.read_file(os.path.abspath('data_files/clc2018_uk.shp'))"
   ]
  },
  {
   "cell_type": "code",
   "execution_count": null,
   "id": "75f42498",
   "metadata": {},
   "outputs": [],
   "source": [
    "landuse.loc[1] #uncomment this to see the first record in the geodataframe"
   ]
  },
  {
   "cell_type": "code",
   "execution_count": null,
   "id": "cdf974cd",
   "metadata": {},
   "outputs": [],
   "source": [
    "# Load the CSV file\n",
    "landuse_categories = pd.read_csv('data_files/legend.csv')\n",
    "# print(landuse_categories.head())  #show a sample of the CSV file "
   ]
  },
  {
   "cell_type": "code",
   "execution_count": null,
   "id": "caf7275b",
   "metadata": {},
   "outputs": [],
   "source": [
    "# merge the csv file with the geodataframe to include the labels for the landuse in the geodataframe\n",
    "landuse_categories['CODE'] = landuse_categories['CODE'].astype(str)\n",
    "merged_landuse = pd.merge(landuse, landuse_categories, left_on='CODE_18', right_on='CODE')\n",
    "\n",
    "# Drop unnecessary columns - this cleans the dataset to make it easier to work with\n",
    "merged_landuse = merged_landuse.drop(['CODE_18', 'CODE', 'Unnamed: 4', 'Unnamed: 5'], axis=1)\n",
    "merged_landuse\n",
    "# Access the 'LABEL' column in the merged DataFrame - LABEL gives the actual landuse description\n",
    "label_column = merged_landuse['LABEL']"
   ]
  },
  {
   "cell_type": "code",
   "execution_count": null,
   "id": "5fbe4fd8",
   "metadata": {},
   "outputs": [],
   "source": [
    "merged_landuse.loc[1]  #show the first row of the merged landuse geodataframe\n",
    "merged_landuse.to_file('data_files/merged_landuse.shp', index=False) #save a copy of the geodataframe"
   ]
  },
  {
   "cell_type": "code",
   "execution_count": null,
   "id": "4419f115",
   "metadata": {},
   "outputs": [],
   "source": [
    "# get the number of unique landuse categories we have in the dataset\n",
    "num_luse = len(merged_landuse.LABEL.unique())\n",
    "print('Number of unique categories: {}'.format(num_luse))\n",
    "\n",
    "# pick colours for each landuse colour - generate random RGB colours\n",
    "num_lcolours = num_luse  # Number of colours to generate\n",
    "luse_colours = sns.color_palette(\"husl\", n_colors=num_lcolours)  # Use Seaborn colour palette\n",
    "\n",
    "#get a list of unique names for landuse\n",
    "landuse = list(merged_landuse.LABEL.unique())\n",
    "landuse.sort() # sort landuse alphabetically by name"
   ]
  },
  {
   "cell_type": "code",
   "execution_count": null,
   "id": "d5a9df4d",
   "metadata": {},
   "outputs": [],
   "source": [
    "print(merged_landuse.crs == outline.crs) # test if the crs is the same "
   ]
  },
  {
   "cell_type": "code",
   "execution_count": null,
   "id": "f2c6cfaa",
   "metadata": {},
   "outputs": [],
   "source": []
  },
  {
   "cell_type": "code",
   "execution_count": null,
   "id": "d448c7e4",
   "metadata": {},
   "outputs": [],
   "source": [
    "# Define the colour map\n",
    "my_cmap = 'viridis'  # Replace with the desired color map name, e.g., 'viridis', 'cividis', 'coolwarm', etc.\n",
    "\n",
    "# Plot the 'merged_landuse' GeoDataFrame on the existing map\n",
    "merged_landuse.plot(column='LABEL', cmap=my_cmap, linewidth=0.5, edgecolor='k', alpha=0.25, ax=ax)"
   ]
  },
  {
   "cell_type": "code",
   "execution_count": null,
   "id": "54bb3352",
   "metadata": {},
   "outputs": [],
   "source": [
    "# Add vertical gridlines\n",
    "ax.vlines(x=[100000, 200000, 300000, 400000, 500000, 600000, 700000],\n",
    "          ymin=ax.get_ylim()[0], ymax=ax.get_ylim()[1],\n",
    "          color='gray', linestyle=':', linewidth=0.5)\n",
    "\n",
    "# Add horizontal gridlines\n",
    "ax.hlines(y=[100000, 200000, 300000, 400000, 500000, 600000, 700000, 800000, 900000, 1000000, 1100000, 1200000],\n",
    "          xmin=ax.get_xlim()[0], xmax=ax.get_xlim()[1],\n",
    "          color='gray', linestyle=':', linewidth=0.5)\n",
    "\n",
    "# Add labels to x-axis\n",
    "x_ticks = [100000, 200000, 300000, 400000, 500000, 600000, 700000]\n",
    "for x in x_ticks:\n",
    "    ax.text(x, ax.get_ylim()[0] - 50000, str(x), ha='center', va='top', fontsize=8)\n",
    "\n",
    "# Add labels to y-axis\n",
    "y_ticks = [100000, 200000, 300000, 400000, 500000, 600000, 700000, 800000, 900000, 1000000, 1100000, 1200000]\n",
    "for y in y_ticks:\n",
    "    ax.text(ax.get_xlim()[0] - 50000, y, str(y), ha='right', va='center', fontsize=8)\n",
    "\n",
    "ax.set_xlabel('X Axis Label')\n",
    "ax.set_ylabel('Y Axis Label')\n",
    "\n",
    "ax.set_title('Land Use for 2018') # Add a title to the figure"
   ]
  },
  {
   "cell_type": "code",
   "execution_count": null,
   "id": "0070abe3",
   "metadata": {},
   "outputs": [],
   "source": [
    "\n"
   ]
  },
  {
   "cell_type": "code",
   "execution_count": null,
   "id": "0ce92233",
   "metadata": {},
   "outputs": [],
   "source": [
    "myFig # to show the updated figure"
   ]
  },
  {
   "cell_type": "code",
   "execution_count": null,
   "id": "814dbb91",
   "metadata": {},
   "outputs": [],
   "source": []
  },
  {
   "cell_type": "code",
   "execution_count": 1,
   "id": "3f46475a",
   "metadata": {},
   "outputs": [],
   "source": [
    "import os\n",
    "import random\n",
    "\n",
    "import pandas as pd\n",
    "import geopandas as gpd\n",
    "import matplotlib.pyplot as plt\n",
    "from cartopy.feature import ShapelyFeature\n",
    "import cartopy.crs as ccrs\n",
    "import matplotlib.patches as mpatches\n",
    "\n",
    "import seaborn as sns\n",
    "\n",
    "\n",
    "def generate_handles(labels, colors, edge='k', alpha=1):\n",
    "    \"\"\"Generate matplotlib handles to create a legend of the features we put in our map.\"\"\"\n",
    "    lc = len(colors)\n",
    "    handles = []\n",
    "    for i in range(len(labels)):\n",
    "        handles.append(mpatches.Rectangle((0, 0), 1, 1, facecolor=colors[i % lc], edgecolor=edge, alpha=alpha))\n",
    "    return handles\n",
    "\n",
    "\n",
    "def scale_bar(ax, location=(0.92, 0.95)):\n",
    "    \"\"\"Create a scale bar of length 20 km in the upper right corner of the map.\"\"\"\n",
    "    x0, x1, y0, y1 = ax.get_extent()\n",
    "    sbx = x0 + (x1 - x0) * location[0]\n",
    "    sby = y0 + (y1 - y0) * location[1]\n",
    "\n",
    "    ax.plot([sbx, sbx - 20000], [sby, sby], color='k', linewidth=9, transform=ax.projection)\n",
    "    ax.plot([sbx, sbx - 10000], [sby, sby], color='k', linewidth=6, transform=ax.projection)\n",
    "    ax.plot([sbx-10000, sbx - 20000], [sby, sby], color='w', linewidth=6, transform=ax.projection)\n",
    "\n",
    "    ax.text(sbx, sby-4500, '20 km', transform=ax.projection, fontsize=8)\n",
    "    ax.text(sbx-12500, sby-4500, '10 km', transform=ax.projection, fontsize=8)\n",
    "    ax.text(sbx-24500, sby-4500, '0 km', transform=ax.projection, fontsize=8)\n",
    "\n",
    "\n",
    "def main():\n",
    "    \"\"\"Main function to load data and create the map.\"\"\"\n",
    "    # Load the outline of UK for a backdrop\n",
    "    outline_gdf = gpd.read_file(os.path.abspath('data_files/Outline.shp'))\n",
    "\n",
    "    # Load water company data as wrz, remove unnecessary columns\n",
    "    wrz_gdf = gpd.read_file(os.path.abspath('data_files/WaterSupplyAreas_incNAVs v1_4.shp'))\n",
    "\n",
    "    # List of columns to be removed\n",
    "    columns_to_remove = ['Disclaimer', 'Disclaim2', 'Disclaim3', 'Provenance', 'Licence', 'WARNINGS', 'Revisions']\n",
    "\n",
    "    # Drop the columns from the GeoDataFrame\n",
    "    wrz_gdf = wrz_gdf.drop(columns=columns_to_remove)\n",
    "\n",
    "    # Create a Universal Transverse Mercator reference system to transform our data.\n",
    "    myCRS = ccrs.TransverseMercator(27700)\n",
    "\n",
    "    # Create a figure of size 10x10 (representing the page size\n"
   ]
  },
  {
   "cell_type": "code",
   "execution_count": null,
   "id": "c5a058f5",
   "metadata": {},
   "outputs": [],
   "source": []
  }
 ],
 "metadata": {
  "celltoolbar": "Raw Cell Format",
  "kernelspec": {
   "display_name": "Python 3 (ipykernel)",
   "language": "python",
   "name": "python3"
  },
  "language_info": {
   "codemirror_mode": {
    "name": "ipython",
    "version": 3
   },
   "file_extension": ".py",
   "mimetype": "text/x-python",
   "name": "python",
   "nbconvert_exporter": "python",
   "pygments_lexer": "ipython3",
   "version": "3.11.3"
  }
 },
 "nbformat": 4,
 "nbformat_minor": 5
}
