{
 "cells": [
  {
   "cell_type": "markdown",
   "id": "11e730a2",
   "metadata": {},
   "source": [
    "# Water Demand Tutorial Phase 2"
   ]
  },
  {
   "cell_type": "code",
   "execution_count": null,
   "id": "3c5635d1",
   "metadata": {},
   "outputs": [],
   "source": [
    "%matplotlib inline\n",
    "\n",
    "import os\n",
    "import pandas as pd\n",
    "import numpy as np\n",
    "from fuzzywuzzy import fuzz\n",
    "import geopandas as gpd\n",
    "import matplotlib.pyplot as plt\n",
    "from cartopy.feature import ShapelyFeature\n",
    "import cartopy.crs as ccrs\n",
    "import matplotlib.patches as mpatches\n",
    "import matplotlib.lines as mlines\n",
    "import folium\n",
    "import scipy\n",
    "\n",
    "#\n",
    "# generate matplotlib handles to create a legend of the features we put in our map.\n",
    "def generate_handles(labels, colors, edge='k', alpha=1):\n",
    "    lc = len(colors)  # get the length of the color list\n",
    "    handles = []\n",
    "    for i in range(len(labels)):\n",
    "        handles.append(mpatches.Rectangle((0, 0), 1, 1, facecolor=colors[i % lc], edgecolor=edge, alpha=alpha))\n",
    "    return handles\n",
    "\n",
    "\n",
    "# create a scale bar of length 20 km in the upper right corner of the map\n",
    "# adapted this question: https://stackoverflow.com/q/32333870\n",
    "# answered by SO user Siyh: https://stackoverflow.com/a/35705477\n",
    "def scale_bar(ax, location=(0.92, 0.95)):\n",
    "    x0, x1, y0, y1 = ax.get_extent()\n",
    "    sbx = x0 + (x1 - x0) * location[0]\n",
    "    sby = y0 + (y1 - y0) * location[1]\n",
    "\n",
    "    ax.plot([sbx, sbx - 20000], [sby, sby], color='k', linewidth=9, transform=ax.projection)\n",
    "    ax.plot([sbx, sbx - 10000], [sby, sby], color='k', linewidth=6, transform=ax.projection)\n",
    "    ax.plot([sbx-10000, sbx - 20000], [sby, sby], color='w', linewidth=6, transform=ax.projection)\n",
    "\n",
    "    ax.text(sbx, sby-4500, '20 km', transform=ax.projection, fontsize=8)\n",
    "    ax.text(sbx-12500, sby-4500, '10 km', transform=ax.projection, fontsize=8)\n",
    "    ax.text(sbx-24500, sby-4500, '0 km', transform=ax.projection, fontsize=8)"
   ]
  },
  {
   "cell_type": "code",
   "execution_count": null,
   "id": "355d7ca1",
   "metadata": {},
   "outputs": [],
   "source": [
    "# load the outline of UK for a backdrop\n",
    "outline = gpd.read_file(os.path.abspath('data_files/Outline.shp'))"
   ]
  },
  {
   "cell_type": "code",
   "execution_count": null,
   "id": "6e27428a",
   "metadata": {},
   "outputs": [],
   "source": [
    "# Load water company data as wrz, remove unnecessary columns\n",
    "wrz = gpd.read_file(os.path.abspath('data_files/WaterSupplyAreas_incNAVs v1_4.shp'))\n",
    "# List of columns to be removed\n",
    "columns_to_remove = ['Disclaimer', 'Disclaim2', 'Disclaim3', 'Provenance', 'Licence', 'WARNINGS', 'Revisions']\n",
    "\n",
    "# Drop the columns from the GeoDataFrame\n",
    "wrz = wrz.drop(columns=columns_to_remove)"
   ]
  },
  {
   "cell_type": "code",
   "execution_count": null,
   "id": "283d3c65",
   "metadata": {},
   "outputs": [],
   "source": [
    "wrz.head(10)"
   ]
  },
  {
   "cell_type": "code",
   "execution_count": null,
   "id": "fbff59c0",
   "metadata": {},
   "outputs": [],
   "source": [
    "myFig = plt.figure(figsize=(10, 10))  # create a figure of size 10x10 (representing the page size in inches)\n",
    "\n",
    "myCRS = ccrs.TransverseMercator(27700)  # create a Universal Transverse Mercator reference system to transform our data.\n",
    "\n",
    "ax = plt.axes(projection=myCRS)  # finally, create an axes object in the figure, using a UTM projection,\n",
    "# where we can actually plot our data."
   ]
  },
  {
   "cell_type": "code",
   "execution_count": null,
   "id": "cfdc824c",
   "metadata": {},
   "outputs": [],
   "source": [
    "# first, we just add the outline of Northern Ireland using cartopy's ShapelyFeature\n",
    "outline_feature = ShapelyFeature(outline['geometry'], myCRS, edgecolor='k', facecolor='w')\n",
    "xmin, ymin, xmax, ymax = outline.total_bounds\n",
    "ax.add_feature(outline_feature) # add the features we've created to the map."
   ]
  },
  {
   "cell_type": "code",
   "execution_count": null,
   "id": "c506a59d",
   "metadata": {},
   "outputs": [],
   "source": [
    "# using the boundary of the shapefile features, zoom the map to our area of interest\n",
    "ax.set_extent([xmin-5000, xmax+5000, ymin-5000, ymax+5000], crs=myCRS) # because total_bounds \n",
    "# gives output as xmin, ymin, xmax, ymax,\n",
    "# but set_extent takes xmin, xmax, ymin, ymax, we re-order the coordinates here.\n",
    "\n",
    "myFig ## re-draw the figure"
   ]
  },
  {
   "cell_type": "code",
   "execution_count": null,
   "id": "bc8b2bd2",
   "metadata": {},
   "outputs": [],
   "source": [
    "#looking at land use   "
   ]
  },
  {
   "cell_type": "code",
   "execution_count": null,
   "id": "bd73c70a",
   "metadata": {},
   "outputs": [],
   "source": [
    "#read in land use data \n",
    "\n",
    "# Load water company data as wrz, remove unnecessary columns\n",
    "landuse = gpd.read_file(os.path.abspath('data_files/clc2018_uk.shp'))"
   ]
  },
  {
   "cell_type": "code",
   "execution_count": null,
   "id": "75f42498",
   "metadata": {},
   "outputs": [],
   "source": [
    "landuse.loc[1]"
   ]
  },
  {
   "cell_type": "code",
   "execution_count": null,
   "id": "cdf974cd",
   "metadata": {},
   "outputs": [],
   "source": [
    "# Load the CSV file\n",
    "landuse_categories = pd.read_csv('data_files/legend.csv')\n",
    "print(landuse_categories.head())"
   ]
  },
  {
   "cell_type": "code",
   "execution_count": null,
   "id": "caf7275b",
   "metadata": {},
   "outputs": [],
   "source": [
    "# perform merge\n",
    "landuse_categories['CODE'] = landuse_categories['CODE'].astype(str)\n",
    "merged_landuse = pd.merge(landuse, landuse_categories, left_on='CODE_18', right_on='CODE')\n",
    "\n",
    "# Drop unnecessary columns\n",
    "merged_landuse = merged_landuse.drop(['CODE_18', 'CODE', 'Unnamed: 4', 'Unnamed: 5'], axis=1)\n",
    "merged_landuse\n",
    "# Access the 'LABEL' column in the merged DataFrame\n",
    "label_column = merged_landuse['LABEL']"
   ]
  },
  {
   "cell_type": "code",
   "execution_count": null,
   "id": "b6ac145c",
   "metadata": {},
   "outputs": [],
   "source": []
  },
  {
   "cell_type": "code",
   "execution_count": null,
   "id": "7ef14898",
   "metadata": {},
   "outputs": [],
   "source": [
    "merged_landuse.loc[1]"
   ]
  },
  {
   "cell_type": "code",
   "execution_count": null,
   "id": "dd02191f",
   "metadata": {},
   "outputs": [],
   "source": [
    "# get the number of unique landuse categories we have in the dataset\n",
    "num_luc = len(merged_landuse.LABEL.unique())\n",
    "print('Number of unique categories: {}'.format(num_luc))"
   ]
  },
  {
   "cell_type": "code",
   "execution_count": null,
   "id": "d2d78315",
   "metadata": {},
   "outputs": [],
   "source": [
    "# pick colors for the individual landuse categories\n",
    "# Generate random RGB colors\n",
    "num_luc_colors = num_luc  # Number of colors to generate\n",
    "luc_colours = np.random.rand(num_luc_colors, 3)  # Generate random RGB values"
   ]
  },
  {
   "cell_type": "code",
   "execution_count": null,
   "id": "0090f469",
   "metadata": {},
   "outputs": [],
   "source": [
    "print(merged_landuse.crs == outline.crs) # test if the crs is the same "
   ]
  },
  {
   "cell_type": "code",
   "execution_count": null,
   "id": "c97b6e71",
   "metadata": {},
   "outputs": [],
   "source": [
    "# next, add the land use boundaries to the map using the colors that we've picked.\n",
    "for ii, LABEL in enumerate(merged_landuse):\n",
    "    feat = ShapelyFeature(merged_landuse.loc[merged_landuse['LABEL'] == name, 'geometry'], # first argument is the geometry\n",
    "                          myCRS, # second argument is the CRS\n",
    "                          edgecolor='k', # outline the feature in black\n",
    "                          facecolor=luc_colours[ii], # set the face color to the corresponding color from the list\n",
    "                          linewidth=1, # set the outline width to be 1 pt\n",
    "                          alpha=0.25) # set the alpha (transparency) to be 0.25 (out of 1)\n",
    "    ax.add_feature(feat) # once we have created the feature, we have to add it to the map using ax.add_feature()"
   ]
  },
  {
   "cell_type": "code",
   "execution_count": null,
   "id": "7d8cdcab",
   "metadata": {},
   "outputs": [],
   "source": [
    "# Add vertical gridlines\n",
    "ax.vlines(x=[100000, 200000, 300000, 400000, 500000, 600000, 700000],\n",
    "          ymin=ax.get_ylim()[0], ymax=ax.get_ylim()[1],\n",
    "          color='gray', linestyle=':', linewidth=0.5)\n",
    "\n",
    "# Add horizontal gridlines\n",
    "ax.hlines(y=[100000, 200000, 300000, 400000, 500000, 600000, 700000, 800000, 900000, 1000000, 1100000, 1200000],\n",
    "          xmin=ax.get_xlim()[0], xmax=ax.get_xlim()[1],\n",
    "          color='gray', linestyle=':', linewidth=0.5)\n",
    "\n",
    "# Add labels to x-axis\n",
    "x_ticks = [100000, 200000, 300000, 400000, 500000, 600000, 700000]\n",
    "for x in x_ticks:\n",
    "    ax.text(x, ax.get_ylim()[0] - 50000, str(x), ha='center', va='top', fontsize=8)\n",
    "\n",
    "# Add labels to y-axis\n",
    "y_ticks = [100000, 200000, 300000, 400000, 500000, 600000, 700000, 800000, 900000, 1000000, 1100000, 1200000]\n",
    "for y in y_ticks:\n",
    "    ax.text(ax.get_xlim()[0] - 50000, y, str(y), ha='right', va='center', fontsize=8)\n",
    "\n",
    "ax.set_xlabel('X Axis Label')\n",
    "ax.set_ylabel('Y Axis Label')\n",
    "\n",
    "ax.set_title('Land Use for 2018') # Add a title to the figure"
   ]
  },
  {
   "cell_type": "code",
   "execution_count": null,
   "id": "4f8c9752",
   "metadata": {},
   "outputs": [],
   "source": [
    "# Create a custom legend\n",
    "landuse_labels = merged_landuse['LABEL'].unique() \n",
    "landuse_colors = luc_colours\n",
    "legend_elements = [plt.Line2D([0], [0], marker='o', color='w', markerfacecolor=color, markersize=8, label=label)\n",
    "                   for label, color in zip(landuse_labels, landuse_colors)]\n",
    "\n",
    "# Add the legend to the plot\n",
    "ax.legend(handles=legend_elements, loc='best', title='Land Use Categories')\n"
   ]
  },
  {
   "cell_type": "code",
   "execution_count": null,
   "id": "cdc0c09a",
   "metadata": {},
   "outputs": [],
   "source": [
    "myFig # to show the updated figure"
   ]
  },
  {
   "cell_type": "code",
   "execution_count": null,
   "id": "4455cb0d",
   "metadata": {},
   "outputs": [],
   "source": []
  }
 ],
 "metadata": {
  "celltoolbar": "Raw Cell Format",
  "kernelspec": {
   "display_name": "Python 3 (ipykernel)",
   "language": "python",
   "name": "python3"
  },
  "language_info": {
   "codemirror_mode": {
    "name": "ipython",
    "version": 3
   },
   "file_extension": ".py",
   "mimetype": "text/x-python",
   "name": "python",
   "nbconvert_exporter": "python",
   "pygments_lexer": "ipython3",
   "version": "3.11.3"
  }
 },
 "nbformat": 4,
 "nbformat_minor": 5
}
