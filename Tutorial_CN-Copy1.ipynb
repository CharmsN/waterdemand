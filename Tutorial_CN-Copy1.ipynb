{
 "cells": [
  {
   "cell_type": "markdown",
   "id": "11e730a2",
   "metadata": {},
   "source": [
    "# Water Demand Tutorial Phase 2"
   ]
  },
  {
   "cell_type": "code",
   "execution_count": 1,
   "id": "3c5635d1",
   "metadata": {},
   "outputs": [],
   "source": [
    "%matplotlib inline\n",
    "\n",
    "import os\n",
    "import pandas as pd\n",
    "import numpy as np\n",
    "from fuzzywuzzy import fuzz\n",
    "import geopandas as gpd\n",
    "import matplotlib.pyplot as plt\n",
    "from cartopy.feature import ShapelyFeature\n",
    "import cartopy.crs as ccrs\n",
    "import matplotlib.patches as mpatches\n",
    "import matplotlib.lines as mlines\n",
    "import folium\n",
    "import scipy\n",
    "\n",
    "#\n",
    "# generate matplotlib handles to create a legend of the features we put in our map.\n",
    "def generate_handles(labels, colors, edge='k', alpha=1):\n",
    "    lc = len(colors)  # get the length of the color list\n",
    "    handles = []\n",
    "    for i in range(len(labels)):\n",
    "        handles.append(mpatches.Rectangle((0, 0), 1, 1, facecolor=colors[i % lc], edgecolor=edge, alpha=alpha))\n",
    "    return handles\n",
    "\n",
    "\n",
    "# create a scale bar of length 20 km in the upper right corner of the map\n",
    "# adapted this question: https://stackoverflow.com/q/32333870\n",
    "# answered by SO user Siyh: https://stackoverflow.com/a/35705477\n",
    "def scale_bar(ax, location=(0.92, 0.95)):\n",
    "    x0, x1, y0, y1 = ax.get_extent()\n",
    "    sbx = x0 + (x1 - x0) * location[0]\n",
    "    sby = y0 + (y1 - y0) * location[1]\n",
    "\n",
    "    ax.plot([sbx, sbx - 20000], [sby, sby], color='k', linewidth=9, transform=ax.projection)\n",
    "    ax.plot([sbx, sbx - 10000], [sby, sby], color='k', linewidth=6, transform=ax.projection)\n",
    "    ax.plot([sbx-10000, sbx - 20000], [sby, sby], color='w', linewidth=6, transform=ax.projection)\n",
    "\n",
    "    ax.text(sbx, sby-4500, '20 km', transform=ax.projection, fontsize=8)\n",
    "    ax.text(sbx-12500, sby-4500, '10 km', transform=ax.projection, fontsize=8)\n",
    "    ax.text(sbx-24500, sby-4500, '0 km', transform=ax.projection, fontsize=8)"
   ]
  },
  {
   "cell_type": "code",
   "execution_count": 2,
   "id": "355d7ca1",
   "metadata": {},
   "outputs": [],
   "source": [
    "# load the outline of UK for a backdrop\n",
    "outline = gpd.read_file(os.path.abspath('data_files/Outline.shp'))"
   ]
  },
  {
   "cell_type": "code",
   "execution_count": 3,
   "id": "6e27428a",
   "metadata": {},
   "outputs": [],
   "source": [
    "# Load water company data as wrz, remove unnecessary columns\n",
    "wrz = gpd.read_file(os.path.abspath('data_files/WaterSupplyAreas_incNAVs v1_4.shp'))\n",
    "# List of columns to be removed\n",
    "columns_to_remove = ['Disclaimer', 'Disclaim2', 'Disclaim3', 'Provenance', 'Licence', 'WARNINGS', 'Revisions']\n",
    "\n",
    "# Drop the columns from the GeoDataFrame\n",
    "wrz = wrz.drop(columns=columns_to_remove)"
   ]
  },
  {
   "cell_type": "code",
   "execution_count": 4,
   "id": "283d3c65",
   "metadata": {},
   "outputs": [
    {
     "data": {
      "text/html": [
       "<div>\n",
       "<style scoped>\n",
       "    .dataframe tbody tr th:only-of-type {\n",
       "        vertical-align: middle;\n",
       "    }\n",
       "\n",
       "    .dataframe tbody tr th {\n",
       "        vertical-align: top;\n",
       "    }\n",
       "\n",
       "    .dataframe thead th {\n",
       "        text-align: right;\n",
       "    }\n",
       "</style>\n",
       "<table border=\"1\" class=\"dataframe\">\n",
       "  <thead>\n",
       "    <tr style=\"text-align: right;\">\n",
       "      <th></th>\n",
       "      <th>AreaServed</th>\n",
       "      <th>ID</th>\n",
       "      <th>COMPANY</th>\n",
       "      <th>Acronym</th>\n",
       "      <th>CoType</th>\n",
       "      <th>AreaType</th>\n",
       "      <th>Created</th>\n",
       "      <th>LastUpdate</th>\n",
       "      <th>Version</th>\n",
       "      <th>geometry</th>\n",
       "    </tr>\n",
       "  </thead>\n",
       "  <tbody>\n",
       "    <tr>\n",
       "      <th>0</th>\n",
       "      <td>Hafren Dyfrdwy</td>\n",
       "      <td>8</td>\n",
       "      <td>Hafren Dyfrdwy</td>\n",
       "      <td>HDD</td>\n",
       "      <td>regional water and sewerage company</td>\n",
       "      <td>Whole water supply area</td>\n",
       "      <td>2020-08-04</td>\n",
       "      <td>2022-05-25</td>\n",
       "      <td>1_4</td>\n",
       "      <td>MULTIPOLYGON (((270265.160 298975.320, 270253....</td>\n",
       "    </tr>\n",
       "    <tr>\n",
       "      <th>1</th>\n",
       "      <td>Severn Trent</td>\n",
       "      <td>15</td>\n",
       "      <td>Severn Trent Water</td>\n",
       "      <td>SVE</td>\n",
       "      <td>regional water and sewerage company</td>\n",
       "      <td>Part of water supply area</td>\n",
       "      <td>2020-08-04</td>\n",
       "      <td>2022-05-25</td>\n",
       "      <td>1_4</td>\n",
       "      <td>MULTIPOLYGON (((351306.397 342962.953, 351307....</td>\n",
       "    </tr>\n",
       "    <tr>\n",
       "      <th>2</th>\n",
       "      <td>Wessex</td>\n",
       "      <td>35</td>\n",
       "      <td>Wessex Water</td>\n",
       "      <td>WSX</td>\n",
       "      <td>regional water and sewerage company</td>\n",
       "      <td>Whole water supply area</td>\n",
       "      <td>2020-08-04</td>\n",
       "      <td>2022-05-25</td>\n",
       "      <td>1_4</td>\n",
       "      <td>MULTIPOLYGON (((329985.180 147446.790, 329981....</td>\n",
       "    </tr>\n",
       "    <tr>\n",
       "      <th>3</th>\n",
       "      <td>Medway</td>\n",
       "      <td>27</td>\n",
       "      <td>Southern Water</td>\n",
       "      <td>SRN</td>\n",
       "      <td>regional water and sewerage company</td>\n",
       "      <td>Part of water supply area</td>\n",
       "      <td>2020-08-04</td>\n",
       "      <td>2022-05-25</td>\n",
       "      <td>1_4</td>\n",
       "      <td>MULTIPOLYGON (((600752.000 166231.400, 600715....</td>\n",
       "    </tr>\n",
       "    <tr>\n",
       "      <th>4</th>\n",
       "      <td>Bristol</td>\n",
       "      <td>6</td>\n",
       "      <td>South West Water</td>\n",
       "      <td>SWB</td>\n",
       "      <td>regional water only company</td>\n",
       "      <td>Whole water supply area</td>\n",
       "      <td>2020-08-04</td>\n",
       "      <td>2022-05-25</td>\n",
       "      <td>1_4</td>\n",
       "      <td>MULTIPOLYGON (((323052.420 160839.450, 323059....</td>\n",
       "    </tr>\n",
       "    <tr>\n",
       "      <th>5</th>\n",
       "      <td>Guildford</td>\n",
       "      <td>31</td>\n",
       "      <td>Thames Water</td>\n",
       "      <td>TMS</td>\n",
       "      <td>regional water and sewerage company</td>\n",
       "      <td>Part of water supply area</td>\n",
       "      <td>2020-08-04</td>\n",
       "      <td>2022-05-25</td>\n",
       "      <td>1_4</td>\n",
       "      <td>POLYGON ((510314.889 150129.589, 510413.577 15...</td>\n",
       "    </tr>\n",
       "    <tr>\n",
       "      <th>6</th>\n",
       "      <td>Suffolk</td>\n",
       "      <td>11</td>\n",
       "      <td>Northumbrian Water</td>\n",
       "      <td>NES</td>\n",
       "      <td>regional water and sewerage company</td>\n",
       "      <td>Part of water supply area</td>\n",
       "      <td>2020-08-04</td>\n",
       "      <td>2022-05-25</td>\n",
       "      <td>1_4</td>\n",
       "      <td>MULTIPOLYGON (((640379.180 256253.590, 640398....</td>\n",
       "    </tr>\n",
       "    <tr>\n",
       "      <th>7</th>\n",
       "      <td>Tendring Hundred (Brett)</td>\n",
       "      <td>2</td>\n",
       "      <td>Affinity Water</td>\n",
       "      <td>AFW</td>\n",
       "      <td>regional water only company</td>\n",
       "      <td>Part of water supply area</td>\n",
       "      <td>2020-08-04</td>\n",
       "      <td>2022-05-25</td>\n",
       "      <td>1_4</td>\n",
       "      <td>MULTIPOLYGON (((614672.690 212665.650, 614663....</td>\n",
       "    </tr>\n",
       "    <tr>\n",
       "      <th>8</th>\n",
       "      <td>Kent &amp; Sussex</td>\n",
       "      <td>16</td>\n",
       "      <td>South East Water</td>\n",
       "      <td>SEW</td>\n",
       "      <td>regional water only company</td>\n",
       "      <td>Part of water supply area</td>\n",
       "      <td>2020-08-04</td>\n",
       "      <td>2022-05-25</td>\n",
       "      <td>1_4</td>\n",
       "      <td>MULTIPOLYGON (((540127.050 101080.097, 540175....</td>\n",
       "    </tr>\n",
       "    <tr>\n",
       "      <th>9</th>\n",
       "      <td>Folkestone (Dour)</td>\n",
       "      <td>1</td>\n",
       "      <td>Affinity Water</td>\n",
       "      <td>AFW</td>\n",
       "      <td>regional water only company</td>\n",
       "      <td>Part of water supply area</td>\n",
       "      <td>2020-08-04</td>\n",
       "      <td>2022-05-25</td>\n",
       "      <td>1_4</td>\n",
       "      <td>MULTIPOLYGON (((600654.665 120940.527, 600673....</td>\n",
       "    </tr>\n",
       "  </tbody>\n",
       "</table>\n",
       "</div>"
      ],
      "text/plain": [
       "                 AreaServed  ID             COMPANY Acronym   \n",
       "0            Hafren Dyfrdwy   8      Hafren Dyfrdwy     HDD  \\\n",
       "1              Severn Trent  15  Severn Trent Water     SVE   \n",
       "2                    Wessex  35        Wessex Water     WSX   \n",
       "3                    Medway  27      Southern Water     SRN   \n",
       "4                   Bristol   6    South West Water     SWB   \n",
       "5                 Guildford  31        Thames Water     TMS   \n",
       "6                   Suffolk  11  Northumbrian Water     NES   \n",
       "7  Tendring Hundred (Brett)   2      Affinity Water     AFW   \n",
       "8             Kent & Sussex  16    South East Water     SEW   \n",
       "9         Folkestone (Dour)   1      Affinity Water     AFW   \n",
       "\n",
       "                                CoType                   AreaType     Created   \n",
       "0  regional water and sewerage company    Whole water supply area  2020-08-04  \\\n",
       "1  regional water and sewerage company  Part of water supply area  2020-08-04   \n",
       "2  regional water and sewerage company    Whole water supply area  2020-08-04   \n",
       "3  regional water and sewerage company  Part of water supply area  2020-08-04   \n",
       "4          regional water only company    Whole water supply area  2020-08-04   \n",
       "5  regional water and sewerage company  Part of water supply area  2020-08-04   \n",
       "6  regional water and sewerage company  Part of water supply area  2020-08-04   \n",
       "7          regional water only company  Part of water supply area  2020-08-04   \n",
       "8          regional water only company  Part of water supply area  2020-08-04   \n",
       "9          regional water only company  Part of water supply area  2020-08-04   \n",
       "\n",
       "   LastUpdate Version                                           geometry  \n",
       "0  2022-05-25     1_4  MULTIPOLYGON (((270265.160 298975.320, 270253....  \n",
       "1  2022-05-25     1_4  MULTIPOLYGON (((351306.397 342962.953, 351307....  \n",
       "2  2022-05-25     1_4  MULTIPOLYGON (((329985.180 147446.790, 329981....  \n",
       "3  2022-05-25     1_4  MULTIPOLYGON (((600752.000 166231.400, 600715....  \n",
       "4  2022-05-25     1_4  MULTIPOLYGON (((323052.420 160839.450, 323059....  \n",
       "5  2022-05-25     1_4  POLYGON ((510314.889 150129.589, 510413.577 15...  \n",
       "6  2022-05-25     1_4  MULTIPOLYGON (((640379.180 256253.590, 640398....  \n",
       "7  2022-05-25     1_4  MULTIPOLYGON (((614672.690 212665.650, 614663....  \n",
       "8  2022-05-25     1_4  MULTIPOLYGON (((540127.050 101080.097, 540175....  \n",
       "9  2022-05-25     1_4  MULTIPOLYGON (((600654.665 120940.527, 600673....  "
      ]
     },
     "execution_count": 4,
     "metadata": {},
     "output_type": "execute_result"
    }
   ],
   "source": [
    "wrz.head(10)"
   ]
  },
  {
   "cell_type": "code",
   "execution_count": 5,
   "id": "fbff59c0",
   "metadata": {},
   "outputs": [
    {
     "data": {
      "image/png": "[encoded data removed]",
      "text/plain": [
       "<Figure size 1000x1000 with 1 Axes>"
      ]
     },
     "metadata": {},
     "output_type": "display_data"
    }
   ],
   "source": [
    "myFig = plt.figure(figsize=(10, 10))  # create a figure of size 10x10 (representing the page size in inches)\n",
    "\n",
    "myCRS = ccrs.TransverseMercator(27700)  # create a Universal Transverse Mercator reference system to transform our data.\n",
    "\n",
    "ax = plt.axes(projection=myCRS)  # finally, create an axes object in the figure, using a UTM projection,\n",
    "# where we can actually plot our data."
   ]
  },
  {
   "cell_type": "code",
   "execution_count": 6,
   "id": "cfdc824c",
   "metadata": {},
   "outputs": [
    {
     "data": {
      "text/plain": [
       "<cartopy.mpl.feature_artist.FeatureArtist at 0x14fc25a0d90>"
      ]
     },
     "execution_count": 6,
     "metadata": {},
     "output_type": "execute_result"
    }
   ],
   "source": [
    "# first, we just add the outline of Northern Ireland using cartopy's ShapelyFeature\n",
    "outline_feature = ShapelyFeature(outline['geometry'], myCRS, edgecolor='k', facecolor='w')\n",
    "xmin, ymin, xmax, ymax = outline.total_bounds\n",
    "ax.add_feature(outline_feature) # add the features we've created to the map."
   ]
  },
  {
   "cell_type": "code",
   "execution_count": 7,
   "id": "c506a59d",
   "metadata": {},
   "outputs": [
    {
     "data": {
      "image/png": "[encoded data removed]",
      "text/plain": [
       "<Figure size 1000x1000 with 1 Axes>"
      ]
     },
     "execution_count": 7,
     "metadata": {},
     "output_type": "execute_result"
    }
   ],
   "source": [
    "# using the boundary of the shapefile features, zoom the map to our area of interest\n",
    "ax.set_extent([xmin-5000, xmax+5000, ymin-5000, ymax+5000], crs=myCRS) # because total_bounds \n",
    "# gives output as xmin, ymin, xmax, ymax,\n",
    "# but set_extent takes xmin, xmax, ymin, ymax, we re-order the coordinates here.\n",
    "\n",
    "myFig ## re-draw the figure"
   ]
  },
  {
   "cell_type": "code",
   "execution_count": 8,
   "id": "bc8b2bd2",
   "metadata": {},
   "outputs": [],
   "source": [
    "#looking at land use   "
   ]
  },
  {
   "cell_type": "code",
   "execution_count": 9,
   "id": "bd73c70a",
   "metadata": {},
   "outputs": [],
   "source": [
    "#read in land use data \n",
    "\n",
    "# Load water company data as wrz, remove unnecessary columns\n",
    "landuse = gpd.read_file(os.path.abspath('data_files/clc2018_uk.shp'))"
   ]
  },
  {
   "cell_type": "code",
   "execution_count": 10,
   "id": "75f42498",
   "metadata": {},
   "outputs": [
    {
     "data": {
      "text/plain": [
       "OBJECTID_1                                                    2\n",
       "OBJECTID                                                      2\n",
       "Shape_Leng                                          6502.250189\n",
       "ID                                                      UK_NI_2\n",
       "CODE_18                                                     111\n",
       "Area_Ha                                               134.98762\n",
       "Remark                                                      NaN\n",
       "Shape_Le_1                                                  0.0\n",
       "Shape_Le_2                                          6504.302749\n",
       "Shape_Area                                        1350727.59603\n",
       "geometry      POLYGON ((116313.96509999968 484902.6877999995...\n",
       "Name: 1, dtype: object"
      ]
     },
     "execution_count": 10,
     "metadata": {},
     "output_type": "execute_result"
    }
   ],
   "source": [
    "landuse.loc[1]"
   ]
  },
  {
   "cell_type": "code",
   "execution_count": 11,
   "id": "cdf974cd",
   "metadata": {},
   "outputs": [
    {
     "name": "stdout",
     "output_type": "stream",
     "text": [
      "   GRID  CODE                                       LABEL          RGB   \n",
      "0     1   111                     Continuous urban fabric  230-000-077  \\\n",
      "1     2   112                  Discontinuous urban fabric  255-000-000   \n",
      "2     3   121              Industrial or commercial units  204-077-242   \n",
      "3     4   122  Road and rail networks and associated land  204-000-000   \n",
      "4     5   123                                  Port areas  230-204-204   \n",
      "\n",
      "   Unnamed: 4  Unnamed: 5  \n",
      "0         NaN         NaN  \n",
      "1         NaN         NaN  \n",
      "2         NaN         NaN  \n",
      "3         NaN         NaN  \n",
      "4         NaN         NaN  \n"
     ]
    }
   ],
   "source": [
    "# Load the CSV file\n",
    "landuse_categories = pd.read_csv('data_files/legend.csv')\n",
    "print(landuse_categories.head())"
   ]
  },
  {
   "cell_type": "code",
   "execution_count": 12,
   "id": "caf7275b",
   "metadata": {},
   "outputs": [],
   "source": [
    "# perform merge\n",
    "landuse_categories['CODE'] = landuse_categories['CODE'].astype(str)\n",
    "merged_landuse = pd.merge(landuse, landuse_categories, left_on='CODE_18', right_on='CODE')\n",
    "\n",
    "# Drop unnecessary columns\n",
    "merged_landuse = merged_landuse.drop(['CODE_18', 'CODE', 'Unnamed: 4', 'Unnamed: 5'], axis=1)\n",
    "merged_landuse\n",
    "# Access the 'LABEL' column in the merged DataFrame\n",
    "label_column = merged_landuse['LABEL']"
   ]
  },
  {
   "cell_type": "code",
   "execution_count": null,
   "id": "b6ac145c",
   "metadata": {},
   "outputs": [],
   "source": []
  },
  {
   "cell_type": "code",
   "execution_count": 13,
   "id": "7ef14898",
   "metadata": {},
   "outputs": [
    {
     "data": {
      "text/plain": [
       "OBJECTID_1                                                    2\n",
       "OBJECTID                                                      2\n",
       "Shape_Leng                                          6502.250189\n",
       "ID                                                      UK_NI_2\n",
       "Area_Ha                                               134.98762\n",
       "Remark                                                      NaN\n",
       "Shape_Le_1                                                  0.0\n",
       "Shape_Le_2                                          6504.302749\n",
       "Shape_Area                                        1350727.59603\n",
       "geometry      POLYGON ((116313.96509999968 484902.6877999995...\n",
       "GRID                                                          1\n",
       "LABEL                                   Continuous urban fabric\n",
       "RGB                                                 230-000-077\n",
       "Name: 1, dtype: object"
      ]
     },
     "execution_count": 13,
     "metadata": {},
     "output_type": "execute_result"
    }
   ],
   "source": [
    "merged_landuse.loc[1]"
   ]
  },
  {
   "cell_type": "code",
   "execution_count": 14,
   "id": "dd02191f",
   "metadata": {},
   "outputs": [
    {
     "name": "stdout",
     "output_type": "stream",
     "text": [
      "Number of unique categories: 36\n"
     ]
    }
   ],
   "source": [
    "# get the number of unique landuse categories we have in the dataset\n",
    "num_luc = len(merged_landuse.LABEL.unique())\n",
    "print('Number of unique categories: {}'.format(num_luc))"
   ]
  },
  {
   "cell_type": "code",
   "execution_count": 16,
   "id": "d2d78315",
   "metadata": {},
   "outputs": [],
   "source": [
    "# pick colors for the individual landuse categories\n",
    "# Generate random RGB colors\n",
    "num_luc_colors = num_luc  # Number of colors to generate\n",
    "luc_colours = np.random.rand(num_luc_colors, 3)  # Generate random RGB values"
   ]
  },
  {
   "cell_type": "code",
   "execution_count": 18,
   "id": "0090f469",
   "metadata": {},
   "outputs": [
    {
     "name": "stdout",
     "output_type": "stream",
     "text": [
      "True\n"
     ]
    }
   ],
   "source": [
    "print(merged_landuse.crs == outline.crs) # test if the crs is the same "
   ]
  },
  {
   "cell_type": "code",
   "execution_count": 17,
   "id": "c97b6e71",
   "metadata": {},
   "outputs": [
    {
     "ename": "NameError",
     "evalue": "name 'name' is not defined",
     "output_type": "error",
     "traceback": [
      "\u001b[1;31m---------------------------------------------------------------------------\u001b[0m",
      "\u001b[1;31mNameError\u001b[0m                                 Traceback (most recent call last)",
      "Cell \u001b[1;32mIn[17], line 3\u001b[0m\n\u001b[0;32m      1\u001b[0m \u001b[38;5;66;03m# next, add the company outlines to the map using the colors that we've picked.\u001b[39;00m\n\u001b[0;32m      2\u001b[0m \u001b[38;5;28;01mfor\u001b[39;00m ii, LABEL \u001b[38;5;129;01min\u001b[39;00m \u001b[38;5;28menumerate\u001b[39m(merged_landuse):\n\u001b[1;32m----> 3\u001b[0m     feat \u001b[38;5;241m=\u001b[39m ShapelyFeature(merged_landuse\u001b[38;5;241m.\u001b[39mloc[merged_landuse[\u001b[38;5;124m'\u001b[39m\u001b[38;5;124mLABEL\u001b[39m\u001b[38;5;124m'\u001b[39m] \u001b[38;5;241m==\u001b[39m \u001b[43mname\u001b[49m, \u001b[38;5;124m'\u001b[39m\u001b[38;5;124mgeometry\u001b[39m\u001b[38;5;124m'\u001b[39m], \u001b[38;5;66;03m# first argument is the geometry\u001b[39;00m\n\u001b[0;32m      4\u001b[0m                           myCRS, \u001b[38;5;66;03m# second argument is the CRS\u001b[39;00m\n\u001b[0;32m      5\u001b[0m                           edgecolor\u001b[38;5;241m=\u001b[39m\u001b[38;5;124m'\u001b[39m\u001b[38;5;124mk\u001b[39m\u001b[38;5;124m'\u001b[39m, \u001b[38;5;66;03m# outline the feature in black\u001b[39;00m\n\u001b[0;32m      6\u001b[0m                           facecolor\u001b[38;5;241m=\u001b[39mluc_colours[ii], \u001b[38;5;66;03m# set the face color to the corresponding color from the list\u001b[39;00m\n\u001b[0;32m      7\u001b[0m                           linewidth\u001b[38;5;241m=\u001b[39m\u001b[38;5;241m1\u001b[39m, \u001b[38;5;66;03m# set the outline width to be 1 pt\u001b[39;00m\n\u001b[0;32m      8\u001b[0m                           alpha\u001b[38;5;241m=\u001b[39m\u001b[38;5;241m0.25\u001b[39m) \u001b[38;5;66;03m# set the alpha (transparency) to be 0.25 (out of 1)\u001b[39;00m\n\u001b[0;32m      9\u001b[0m     ax\u001b[38;5;241m.\u001b[39madd_feature(feat) \u001b[38;5;66;03m# once we have created the feature, we have to add it to the map using ax.add_feature()\u001b[39;00m\n",
      "\u001b[1;31mNameError\u001b[0m: name 'name' is not defined"
     ]
    }
   ],
   "source": [
    "# next, add the land use boundaries to the map using the colors that we've picked.\n",
    "for ii, LABEL in enumerate(merged_landuse):\n",
    "    feat = ShapelyFeature(merged_landuse.loc[merged_landuse['LABEL'] == name, 'geometry'], # first argument is the geometry\n",
    "                          myCRS, # second argument is the CRS\n",
    "                          edgecolor='k', # outline the feature in black\n",
    "                          facecolor=luc_colours[ii], # set the face color to the corresponding color from the list\n",
    "                          linewidth=1, # set the outline width to be 1 pt\n",
    "                          alpha=0.25) # set the alpha (transparency) to be 0.25 (out of 1)\n",
    "    ax.add_feature(feat) # once we have created the feature, we have to add it to the map using ax.add_feature()"
   ]
  },
  {
   "cell_type": "code",
   "execution_count": null,
   "id": "7d8cdcab",
   "metadata": {},
   "outputs": [],
   "source": [
    "# Add vertical gridlines\n",
    "ax.vlines(x=[100000, 200000, 300000, 400000, 500000, 600000, 700000],\n",
    "          ymin=ax.get_ylim()[0], ymax=ax.get_ylim()[1],\n",
    "          color='gray', linestyle=':', linewidth=0.5)\n",
    "\n",
    "# Add horizontal gridlines\n",
    "ax.hlines(y=[100000, 200000, 300000, 400000, 500000, 600000, 700000, 800000, 900000, 1000000, 1100000, 1200000],\n",
    "          xmin=ax.get_xlim()[0], xmax=ax.get_xlim()[1],\n",
    "          color='gray', linestyle=':', linewidth=0.5)\n",
    "\n",
    "# Add labels to x-axis\n",
    "x_ticks = [100000, 200000, 300000, 400000, 500000, 600000, 700000]\n",
    "for x in x_ticks:\n",
    "    ax.text(x, ax.get_ylim()[0] - 50000, str(x), ha='center', va='top', fontsize=8)\n",
    "\n",
    "# Add labels to y-axis\n",
    "y_ticks = [100000, 200000, 300000, 400000, 500000, 600000, 700000, 800000, 900000, 1000000, 1100000, 1200000]\n",
    "for y in y_ticks:\n",
    "    ax.text(ax.get_xlim()[0] - 50000, y, str(y), ha='right', va='center', fontsize=8)\n",
    "\n",
    "ax.set_xlabel('X Axis Label')\n",
    "ax.set_ylabel('Y Axis Label')\n",
    "\n",
    "ax.set_title('Land Use for 2018') # Add a title to the figure"
   ]
  },
  {
   "cell_type": "code",
   "execution_count": null,
   "id": "4f8c9752",
   "metadata": {},
   "outputs": [],
   "source": [
    "# Create a custom legend\n",
    "landuse_labels = merged_landuse['LABEL'].unique() \n",
    "landuse_colors = luc_colours\n",
    "legend_elements = [plt.Line2D([0], [0], marker='o', color='w', markerfacecolor=color, markersize=8, label=label)\n",
    "                   for label, color in zip(landuse_labels, landuse_colors)]\n",
    "\n",
    "# Add the legend to the plot\n",
    "ax.legend(handles=legend_elements, loc='best', title='Land Use Categories')\n"
   ]
  },
  {
   "cell_type": "code",
   "execution_count": null,
   "id": "cdc0c09a",
   "metadata": {},
   "outputs": [],
   "source": [
    "myFig # to show the updated figure"
   ]
  },
  {
   "cell_type": "code",
   "execution_count": null,
   "id": "4455cb0d",
   "metadata": {},
   "outputs": [],
   "source": []
  }
 ],
 "metadata": {
  "celltoolbar": "Raw Cell Format",
  "kernelspec": {
   "display_name": "Python 3 (ipykernel)",
   "language": "python",
   "name": "python3"
  },
  "language_info": {
   "codemirror_mode": {
    "name": "ipython",
    "version": 3
   },
   "file_extension": ".py",
   "mimetype": "text/x-python",
   "name": "python",
   "nbconvert_exporter": "python",
   "pygments_lexer": "ipython3",
   "version": "3.11.3"
  }
 },
 "nbformat": 4,
 "nbformat_minor": 5
}
