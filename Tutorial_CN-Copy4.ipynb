{
 "cells": [
  {
   "cell_type": "markdown",
   "id": "11e730a2",
   "metadata": {},
   "source": [
    "# Water Demand Tutorial "
   ]
  },
  {
   "cell_type": "markdown",
   "id": "e1b9e502",
   "metadata": {},
   "source": [
    "# Land Use Breakdown per Water Company"
   ]
  },
  {
   "cell_type": "code",
   "execution_count": 1,
   "id": "3c5635d1",
   "metadata": {},
   "outputs": [],
   "source": [
    "%matplotlib inline\n",
    "\n",
    "import os\n",
    "import pandas as pd\n",
    "import numpy as np\n",
    "import geopandas as gpd\n",
    "import scipy\n",
    "import folium\n",
    "import matplotlib.pyplot as plt"
   ]
  },
  {
   "cell_type": "code",
   "execution_count": 2,
   "id": "68e2cb11",
   "metadata": {},
   "outputs": [],
   "source": [
    "# Load water company data as wrz, remove unnecessary columns\n",
    "wrz = gpd.read_file(os.path.abspath('data_files/WaterSupplyAreas_incNAVs v1_4.shp'))\n",
    "# List of columns to be removed\n",
    "columns_to_remove = ['Disclaimer', 'Disclaim2', 'Disclaim3', 'Provenance', 'Licence', 'WARNINGS', 'Revisions']\n",
    "\n",
    "# Drop the columns from the GeoDataFrame\n",
    "wrz = wrz.drop(columns=columns_to_remove)"
   ]
  },
  {
   "cell_type": "code",
   "execution_count": 3,
   "id": "dcd2262a",
   "metadata": {},
   "outputs": [],
   "source": [
    "# Append PCC for 2019 to 2020 to the wrz geodataframe\n",
    "# Load the CSV file\n",
    "pr24_hist_pcc = pd.read_csv('data_files/pr24_hist_pcc.csv')  \n",
    "\n",
    "# Perform the merge\n",
    "merged = wrz.merge(pr24_hist_pcc[['Company', '2019-20']], how='left', left_on='Acronym', right_on='Company')\n",
    "\n",
    "# Drop the unnecessary columns & rename the merged column\n",
    "merged.drop(['Company'], axis=1, inplace=True)\n",
    "merged.rename(columns={'2019-20': '2019-20_from_CSV'}, inplace=True)\n",
    "\n",
    "# Update the wrz GeoDataFrame with the merged column\n",
    "wrz['2019-20'] = merged['2019-20_from_CSV']"
   ]
  },
  {
   "cell_type": "code",
   "execution_count": 4,
   "id": "1b989ca5",
   "metadata": {},
   "outputs": [
    {
     "data": {
      "text/plain": [
       "AreaServed                                         Severn Trent\n",
       "ID                                                           15\n",
       "COMPANY                                      Severn Trent Water\n",
       "Acronym                                                     SVE\n",
       "CoType                      regional water and sewerage company\n",
       "AreaType                              Part of water supply area\n",
       "Created                                              2020-08-04\n",
       "LastUpdate                                           2022-05-25\n",
       "Version                                                     1_4\n",
       "geometry      MULTIPOLYGON (((351306.3965000832 342962.95345...\n",
       "2019-20                                                   128.6\n",
       "Name: 1, dtype: object"
      ]
     },
     "execution_count": 4,
     "metadata": {},
     "output_type": "execute_result"
    }
   ],
   "source": [
    "wrz.loc[1]"
   ]
  },
  {
   "cell_type": "code",
   "execution_count": 5,
   "id": "bd73c70a",
   "metadata": {},
   "outputs": [],
   "source": [
    "#read in land use data \n",
    "\n",
    "# Load landuse data\n",
    "landuse = gpd.read_file(os.path.abspath('data_files/clc2018_uk.shp'))"
   ]
  },
  {
   "cell_type": "code",
   "execution_count": 6,
   "id": "75f42498",
   "metadata": {},
   "outputs": [
    {
     "data": {
      "text/plain": [
       "OBJECTID_1                                                    2\n",
       "OBJECTID                                                      2\n",
       "Shape_Leng                                          6502.250189\n",
       "ID                                                      UK_NI_2\n",
       "CODE_18                                                     111\n",
       "Area_Ha                                               134.98762\n",
       "Remark                                                      NaN\n",
       "Shape_Le_1                                                  0.0\n",
       "Shape_Le_2                                          6504.302749\n",
       "Shape_Area                                        1350727.59603\n",
       "geometry      POLYGON ((116313.96509999968 484902.6877999995...\n",
       "Name: 1, dtype: object"
      ]
     },
     "execution_count": 6,
     "metadata": {},
     "output_type": "execute_result"
    }
   ],
   "source": [
    "landuse.loc[1] #uncomment this to see the first record in the geodataframe"
   ]
  },
  {
   "cell_type": "code",
   "execution_count": 7,
   "id": "cdf974cd",
   "metadata": {},
   "outputs": [],
   "source": [
    "# Load the CSV file\n",
    "landuse_categories = pd.read_csv('data_files/legend.csv')\n",
    "# print(landuse_categories.head())  #show a sample of the CSV file "
   ]
  },
  {
   "cell_type": "code",
   "execution_count": 8,
   "id": "caf7275b",
   "metadata": {},
   "outputs": [],
   "source": [
    "# merge the csv file with the geodataframe to include the labels for the landuse in the geodataframe\n",
    "landuse_categories['CODE'] = landuse_categories['CODE'].astype(str)\n",
    "merged_landuse = pd.merge(landuse, landuse_categories, left_on='CODE_18', right_on='CODE')\n",
    "\n",
    "# Drop unnecessary columns - this cleans the dataset to make it easier to work with\n",
    "merged_landuse = merged_landuse.drop(['CODE_18', 'CODE', 'Unnamed: 4', 'Unnamed: 5'], axis=1)\n",
    "merged_landuse\n",
    "# Access the 'LABEL' column in the merged DataFrame - LABEL gives the actual landuse description\n",
    "label_column = merged_landuse['LABEL']"
   ]
  },
  {
   "cell_type": "code",
   "execution_count": 9,
   "id": "5fbe4fd8",
   "metadata": {},
   "outputs": [
    {
     "data": {
      "text/plain": [
       "OBJECTID_1                                                    2\n",
       "OBJECTID                                                      2\n",
       "Shape_Leng                                          6502.250189\n",
       "ID                                                      UK_NI_2\n",
       "Area_Ha                                               134.98762\n",
       "Remark                                                      NaN\n",
       "Shape_Le_1                                                  0.0\n",
       "Shape_Le_2                                          6504.302749\n",
       "Shape_Area                                        1350727.59603\n",
       "geometry      POLYGON ((116313.96509999968 484902.6877999995...\n",
       "GRID                                                          1\n",
       "LABEL                                   Continuous urban fabric\n",
       "RGB                                                 230-000-077\n",
       "Name: 1, dtype: object"
      ]
     },
     "execution_count": 9,
     "metadata": {},
     "output_type": "execute_result"
    }
   ],
   "source": [
    "merged_landuse.loc[1]  #show the first row of the merged landuse geodataframe\n",
    "#merged_landuse.to_file('data_files/merged_landuse.shp', index=False) #save a copy of the geodataframe"
   ]
  },
  {
   "cell_type": "code",
   "execution_count": 10,
   "id": "d5a9df4d",
   "metadata": {},
   "outputs": [
    {
     "name": "stdout",
     "output_type": "stream",
     "text": [
      "True\n"
     ]
    }
   ],
   "source": [
    "print(merged_landuse.crs == wrz.crs) # test if the crs is the same "
   ]
  },
  {
   "cell_type": "code",
   "execution_count": 11,
   "id": "814dbb91",
   "metadata": {},
   "outputs": [
    {
     "data": {
      "text/plain": [
       "COMPANY                                   Affinity Water\n",
       "LABEL                                         Bare rocks\n",
       "Area_Ha                                        46.709683\n",
       "geometry    POINT (613764.8261605917 223892.77165446547)\n",
       "Name: 1, dtype: object"
      ]
     },
     "execution_count": 11,
     "metadata": {},
     "output_type": "execute_result"
    }
   ],
   "source": [
    "#Using Company to continue...\n",
    "# Perform spatial join between wrz and merged_landuse\n",
    "join = gpd.sjoin(wrz, merged_landuse, how='inner', predicate='intersects')\n",
    "# Group by COMPANY and LABEL, and sum the Area_Ha column\n",
    "grouped = join.groupby(['COMPANY', 'LABEL'])['Area_Ha'].sum().reset_index()\n",
    "\n",
    "# Create a new GeoDataFrame from the grouped data\n",
    "company_landuse = gpd.GeoDataFrame(grouped, geometry=gpd.GeoSeries(), crs=wrz.crs)\n",
    "\n",
    "# Set the geometry of the new GeoDataFrame to the centroid of each LABEL\n",
    "company_landuse.geometry = company_landuse.apply(lambda x: wrz[wrz['COMPANY'] == x['COMPANY']].geometry.centroid.iloc[0], axis=1)\n",
    "\n",
    "# Print the resulting GeoDataFrame\n",
    "# print(company_landuse)\n",
    "company_landuse.loc[1]"
   ]
  },
  {
   "cell_type": "code",
   "execution_count": 12,
   "id": "8860a964",
   "metadata": {},
   "outputs": [
    {
     "data": {
      "text/plain": [
       "AreaServed                        55 Queen Street, Salford\n",
       "LABEL                           Discontinuous urban fabric\n",
       "Area_Ha                                       39740.566152\n",
       "geometry      POINT (383364.28008142667 398919.4291289864)\n",
       "Name: 1, dtype: object"
      ]
     },
     "execution_count": 12,
     "metadata": {},
     "output_type": "execute_result"
    }
   ],
   "source": [
    "# Using AreaServed to continue...\n",
    "# Perform spatial join between wrz and merged_landuse\n",
    "join1 = gpd.sjoin(wrz, merged_landuse, how='inner', predicate='intersects')\n",
    "# Group by AreaServed and LABEL, and sum the Area_Ha column\n",
    "grouped1 = join1.groupby(['AreaServed', 'LABEL'])['Area_Ha'].sum().reset_index()\n",
    "\n",
    "# Create a new GeoDataFrame from the grouped data\n",
    "areaserved_landuse = gpd.GeoDataFrame(grouped1, geometry=gpd.GeoSeries(), crs=wrz.crs)\n",
    "\n",
    "# Set the geometry of the new GeoDataFrame to the centroid of each LABEL\n",
    "areaserved_landuse.geometry = areaserved_landuse.apply(lambda x: wrz[wrz['AreaServed'] == x['AreaServed']].geometry.centroid.iloc[0], axis=1)\n",
    "\n",
    "# Print the resulting GeoDataFrame\n",
    "# print(areaserved_landuse)\n",
    "areaserved_landuse.loc[1]"
   ]
  },
  {
   "cell_type": "code",
   "execution_count": 13,
   "id": "60b51a8f",
   "metadata": {},
   "outputs": [],
   "source": [
    "#Company \n",
    "\n",
    "# Group by company and select the top three rows with the largest Area_Ha\n",
    "top_areas = company_landuse.groupby('COMPANY')['Area_Ha'].nlargest(3)\n",
    "\n",
    "# Get the indices of the selected rows\n",
    "selected_indices = top_areas.index.levels[1]\n",
    "\n",
    "# Create a new geodataframe with the selected rows\n",
    "selected_landuse = company_landuse.loc[selected_indices]\n",
    "\n",
    "# Convert Area_Ha to Area_Km\n",
    "selected_landuse['Area_Km'] = (selected_landuse['Area_Ha'] / 100).round(2)\n",
    "\n",
    "# Filter out rows with LABEL equal to unwanted categories\n",
    "unwanted_categories = ['Beaches dunes sands', 'Bare rocks', 'Sparsely vegetated areas', 'Burnt areas', 'Glaciers and perpetual snow', 'Inland marshes', 'Peat bogs', 'Salt marshes', 'Salines', 'Intertidal flats', 'Water courses', 'Water bodies', 'Coastal lagoons', 'Estuaries', 'Sea and ocean', 'NODATA', 'UNCLASSIFIED WATER BODIES']\n",
    "selected_landuse = selected_landuse[~selected_landuse['LABEL'].isin(unwanted_categories)]\n",
    "\n",
    "# Write the new geodataframe to a shapefile\n",
    "selected_landuse.to_file('data_files/selected_landuse.shp')\n",
    "selected_landuse.to_csv('data_files/selected_landuse.csv', index=False)"
   ]
  },
  {
   "cell_type": "code",
   "execution_count": 14,
   "id": "b288ae82",
   "metadata": {},
   "outputs": [
    {
     "data": {
      "text/html": [
       "<div>\n",
       "<style scoped>\n",
       "    .dataframe tbody tr th:only-of-type {\n",
       "        vertical-align: middle;\n",
       "    }\n",
       "\n",
       "    .dataframe tbody tr th {\n",
       "        vertical-align: top;\n",
       "    }\n",
       "\n",
       "    .dataframe thead th {\n",
       "        text-align: right;\n",
       "    }\n",
       "</style>\n",
       "<table border=\"1\" class=\"dataframe\">\n",
       "  <thead>\n",
       "    <tr style=\"text-align: right;\">\n",
       "      <th></th>\n",
       "      <th>COMPANY</th>\n",
       "      <th>LABEL</th>\n",
       "      <th>Area_Ha</th>\n",
       "      <th>geometry</th>\n",
       "      <th>Area_Km</th>\n",
       "    </tr>\n",
       "  </thead>\n",
       "  <tbody>\n",
       "    <tr>\n",
       "      <th>370</th>\n",
       "      <td>South West Water</td>\n",
       "      <td>Non-irrigated arable land</td>\n",
       "      <td>4.272749e+06</td>\n",
       "      <td>POINT (360467.734 163544.288)</td>\n",
       "      <td>42727.49</td>\n",
       "    </tr>\n",
       "    <tr>\n",
       "      <th>371</th>\n",
       "      <td>South West Water</td>\n",
       "      <td>Pastures</td>\n",
       "      <td>9.351462e+05</td>\n",
       "      <td>POINT (360467.734 163544.288)</td>\n",
       "      <td>9351.46</td>\n",
       "    </tr>\n",
       "  </tbody>\n",
       "</table>\n",
       "</div>"
      ],
      "text/plain": [
       "              COMPANY                      LABEL       Area_Ha   \n",
       "370  South West Water  Non-irrigated arable land  4.272749e+06  \\\n",
       "371  South West Water                   Pastures  9.351462e+05   \n",
       "\n",
       "                          geometry   Area_Km  \n",
       "370  POINT (360467.734 163544.288)  42727.49  \n",
       "371  POINT (360467.734 163544.288)   9351.46  "
      ]
     },
     "execution_count": 14,
     "metadata": {},
     "output_type": "execute_result"
    }
   ],
   "source": [
    "selected_landuse_filtered = selected_landuse[selected_landuse['COMPANY'] == 'South West Water']\n",
    "selected_landuse_filtered"
   ]
  },
  {
   "cell_type": "code",
   "execution_count": 15,
   "id": "a76be28b",
   "metadata": {},
   "outputs": [],
   "source": [
    "#AreaServed\n",
    "# Group by company and select the top three rows with the largest Area_Ha\n",
    "top_areas_served = areaserved_landuse.groupby('AreaServed')['Area_Ha'].nlargest(3)\n",
    "\n",
    "# Get the indices of the selected rows\n",
    "selected_indices1 = top_areas_served.index.levels[1]\n",
    "\n",
    "# Create a new geodataframe with the selected rows\n",
    "selected_areaserved_landuse = areaserved_landuse.loc[selected_indices1]\n",
    "\n",
    "# Convert Area_Ha to Area_Km\n",
    "selected_areaserved_landuse['Area_Km'] = (selected_areaserved_landuse['Area_Ha'] / 100).round(2)\n",
    "\n",
    "# Filter out rows with LABEL equal to unwanted categories\n",
    "unwanted_categories = ['Beaches dunes sands', 'Bare rocks', 'Sparsely vegetated areas', 'Burnt areas', 'Glaciers and perpetual snow', 'Inland marshes', 'Peat bogs', 'Salt marshes', 'Salines', 'Intertidal flats', 'Water courses', 'Water bodies', 'Coastal lagoons', 'Estuaries', 'Sea and ocean', 'NODATA', 'UNCLASSIFIED WATER BODIES']\n",
    "selected_areaserved_landuse = selected_areaserved_landuse[~selected_areaserved_landuse['LABEL'].isin(unwanted_categories)]\n",
    "\n",
    "# Write the new geodataframe to a shapefile\n",
    "selected_areaserved_landuse.to_file('data_files/selected_areaserved_landuse.shp')\n",
    "selected_areaserved_landuse.to_csv('data_files/selected_areaserved_landuse.csv', index=False)"
   ]
  },
  {
   "cell_type": "code",
   "execution_count": 16,
   "id": "0c0c0c08",
   "metadata": {
    "scrolled": true
   },
   "outputs": [
    {
     "data": {
      "image/png": "[encoded data removed]",
      "text/plain": [
       "<Figure size 400x400 with 1 Axes>"
      ]
     },
     "metadata": {},
     "output_type": "display_data"
    }
   ],
   "source": [
    "land_use_counts = selected_landuse_filtered.groupby('LABEL')['Area_Km'].sum()\n",
    "\n",
    "fig, ax = plt.subplots(figsize=(4, 4))\n",
    "\n",
    "ax.pie(land_use_counts.values, labels=land_use_counts.index, autopct='%1.1f%%', shadow=True, startangle=90)\n",
    "\n",
    "ax.set_title('Land Use Distribution')\n",
    "\n",
    "plt.show()"
   ]
  },
  {
   "cell_type": "code",
   "execution_count": 17,
   "id": "086a694b",
   "metadata": {},
   "outputs": [
    {
     "data": {
      "text/html": [
       "<div>\n",
       "<style scoped>\n",
       "    .dataframe tbody tr th:only-of-type {\n",
       "        vertical-align: middle;\n",
       "    }\n",
       "\n",
       "    .dataframe tbody tr th {\n",
       "        vertical-align: top;\n",
       "    }\n",
       "\n",
       "    .dataframe thead th {\n",
       "        text-align: right;\n",
       "    }\n",
       "</style>\n",
       "<table border=\"1\" class=\"dataframe\">\n",
       "  <thead>\n",
       "    <tr style=\"text-align: right;\">\n",
       "      <th></th>\n",
       "      <th>AreaServed</th>\n",
       "      <th>LABEL</th>\n",
       "      <th>Area_Ha</th>\n",
       "      <th>geometry</th>\n",
       "      <th>Area_Km</th>\n",
       "    </tr>\n",
       "  </thead>\n",
       "  <tbody>\n",
       "    <tr>\n",
       "      <th>26</th>\n",
       "      <td>Anglian</td>\n",
       "      <td>Non-irrigated arable land</td>\n",
       "      <td>3.830522e+06</td>\n",
       "      <td>POINT (542338.598 306675.276)</td>\n",
       "      <td>38305.22</td>\n",
       "    </tr>\n",
       "    <tr>\n",
       "      <th>27</th>\n",
       "      <td>Anglian</td>\n",
       "      <td>Pastures</td>\n",
       "      <td>3.153390e+05</td>\n",
       "      <td>POINT (542338.598 306675.276)</td>\n",
       "      <td>3153.39</td>\n",
       "    </tr>\n",
       "  </tbody>\n",
       "</table>\n",
       "</div>"
      ],
      "text/plain": [
       "   AreaServed                      LABEL       Area_Ha   \n",
       "26    Anglian  Non-irrigated arable land  3.830522e+06  \\\n",
       "27    Anglian                   Pastures  3.153390e+05   \n",
       "\n",
       "                         geometry   Area_Km  \n",
       "26  POINT (542338.598 306675.276)  38305.22  \n",
       "27  POINT (542338.598 306675.276)   3153.39  "
      ]
     },
     "execution_count": 17,
     "metadata": {},
     "output_type": "execute_result"
    }
   ],
   "source": [
    "selected_areaserved_landuse_filtered = selected_areaserved_landuse[selected_areaserved_landuse['AreaServed'] == 'Anglian']\n",
    "selected_areaserved_landuse_filtered"
   ]
  },
  {
   "cell_type": "code",
   "execution_count": 18,
   "id": "838c985d",
   "metadata": {},
   "outputs": [
    {
     "data": {
      "image/png": "[encoded data removed]",
      "text/plain": [
       "<Figure size 400x400 with 1 Axes>"
      ]
     },
     "metadata": {},
     "output_type": "display_data"
    }
   ],
   "source": [
    "land_use_counts2 = selected_areaserved_landuse_filtered.groupby('LABEL')['Area_Km'].sum()\n",
    "\n",
    "fig, ax = plt.subplots(figsize=(4, 4))\n",
    "\n",
    "ax.pie(land_use_counts2.values, labels=land_use_counts2.index, autopct='%1.1f%%', shadow=True, startangle=90)\n",
    "\n",
    "ax.set_title('Land Use Distribution- for Area Served')\n",
    "\n",
    "plt.show()"
   ]
  },
  {
   "cell_type": "code",
   "execution_count": null,
   "id": "b23a688c",
   "metadata": {},
   "outputs": [],
   "source": []
  }
 ],
 "metadata": {
  "celltoolbar": "Raw Cell Format",
  "kernelspec": {
   "display_name": "Python 3 (ipykernel)",
   "language": "python",
   "name": "python3"
  },
  "language_info": {
   "codemirror_mode": {
    "name": "ipython",
    "version": 3
   },
   "file_extension": ".py",
   "mimetype": "text/x-python",
   "name": "python",
   "nbconvert_exporter": "python",
   "pygments_lexer": "ipython3",
   "version": "3.11.3"
  }
 },
 "nbformat": 4,
 "nbformat_minor": 5
}
