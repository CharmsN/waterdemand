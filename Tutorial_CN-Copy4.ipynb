{
 "cells": [
  {
   "cell_type": "markdown",
   "id": "11e730a2",
   "metadata": {},
   "source": [
    "# Water Demand Tutorial "
   ]
  },
  {
   "cell_type": "markdown",
   "id": "e1b9e502",
   "metadata": {},
   "source": [
    "# Land Use Breakdown per Water Company"
   ]
  },
  {
   "cell_type": "code",
   "execution_count": 17,
   "id": "3c5635d1",
   "metadata": {},
   "outputs": [],
   "source": [
    "%matplotlib inline\n",
    "\n",
    "import os\n",
    "import pandas as pd\n",
    "import numpy as np\n",
    "import geopandas as gpd\n",
    "import scipy\n",
    "import folium"
   ]
  },
  {
   "cell_type": "code",
   "execution_count": 18,
   "id": "68e2cb11",
   "metadata": {},
   "outputs": [],
   "source": [
    "# Load water company data as wrz, remove unnecessary columns\n",
    "wrz = gpd.read_file(os.path.abspath('data_files/WaterSupplyAreas_incNAVs v1_4.shp'))\n",
    "# List of columns to be removed\n",
    "columns_to_remove = ['Disclaimer', 'Disclaim2', 'Disclaim3', 'Provenance', 'Licence', 'WARNINGS', 'Revisions']\n",
    "\n",
    "# Drop the columns from the GeoDataFrame\n",
    "wrz = wrz.drop(columns=columns_to_remove)"
   ]
  },
  {
   "cell_type": "code",
   "execution_count": 19,
   "id": "dcd2262a",
   "metadata": {},
   "outputs": [],
   "source": [
    "# Append PCC for 2019 to 2020 to the wrz geodataframe\n",
    "# Load the CSV file\n",
    "pr24_hist_pcc = pd.read_csv('data_files/pr24_hist_pcc.csv')  \n",
    "\n",
    "# Perform the merge\n",
    "merged = wrz.merge(pr24_hist_pcc[['Company', '2019-20']], how='left', left_on='Acronym', right_on='Company')\n",
    "\n",
    "# Drop the unnecessary columns & rename the merged column\n",
    "merged.drop(['Company'], axis=1, inplace=True)\n",
    "merged.rename(columns={'2019-20': '2019-20_from_CSV'}, inplace=True)\n",
    "\n",
    "# Update the wrz GeoDataFrame with the merged column\n",
    "wrz['2019-20'] = merged['2019-20_from_CSV']"
   ]
  },
  {
   "cell_type": "code",
   "execution_count": 20,
   "id": "1b989ca5",
   "metadata": {},
   "outputs": [
    {
     "data": {
      "text/plain": [
       "AreaServed                                         Severn Trent\n",
       "ID                                                           15\n",
       "COMPANY                                      Severn Trent Water\n",
       "Acronym                                                     SVE\n",
       "CoType                      regional water and sewerage company\n",
       "AreaType                              Part of water supply area\n",
       "Created                                              2020-08-04\n",
       "LastUpdate                                           2022-05-25\n",
       "Version                                                     1_4\n",
       "geometry      MULTIPOLYGON (((351306.3965000832 342962.95345...\n",
       "2019-20                                                   128.6\n",
       "Name: 1, dtype: object"
      ]
     },
     "execution_count": 20,
     "metadata": {},
     "output_type": "execute_result"
    }
   ],
   "source": [
    "wrz.loc[1]"
   ]
  },
  {
   "cell_type": "code",
   "execution_count": 21,
   "id": "bd73c70a",
   "metadata": {},
   "outputs": [],
   "source": [
    "#read in land use data \n",
    "\n",
    "# Load landuse data\n",
    "landuse = gpd.read_file(os.path.abspath('data_files/clc2018_uk.shp'))"
   ]
  },
  {
   "cell_type": "code",
   "execution_count": 22,
   "id": "75f42498",
   "metadata": {},
   "outputs": [
    {
     "data": {
      "text/plain": [
       "OBJECTID_1                                                    2\n",
       "OBJECTID                                                      2\n",
       "Shape_Leng                                          6502.250189\n",
       "ID                                                      UK_NI_2\n",
       "CODE_18                                                     111\n",
       "Area_Ha                                               134.98762\n",
       "Remark                                                      NaN\n",
       "Shape_Le_1                                                  0.0\n",
       "Shape_Le_2                                          6504.302749\n",
       "Shape_Area                                        1350727.59603\n",
       "geometry      POLYGON ((116313.96509999968 484902.6877999995...\n",
       "Name: 1, dtype: object"
      ]
     },
     "execution_count": 22,
     "metadata": {},
     "output_type": "execute_result"
    }
   ],
   "source": [
    "landuse.loc[1] #uncomment this to see the first record in the geodataframe"
   ]
  },
  {
   "cell_type": "code",
   "execution_count": 23,
   "id": "cdf974cd",
   "metadata": {},
   "outputs": [],
   "source": [
    "# Load the CSV file\n",
    "landuse_categories = pd.read_csv('data_files/legend.csv')\n",
    "# print(landuse_categories.head())  #show a sample of the CSV file "
   ]
  },
  {
   "cell_type": "code",
   "execution_count": 24,
   "id": "caf7275b",
   "metadata": {},
   "outputs": [],
   "source": [
    "# merge the csv file with the geodataframe to include the labels for the landuse in the geodataframe\n",
    "landuse_categories['CODE'] = landuse_categories['CODE'].astype(str)\n",
    "merged_landuse = pd.merge(landuse, landuse_categories, left_on='CODE_18', right_on='CODE')\n",
    "\n",
    "# Drop unnecessary columns - this cleans the dataset to make it easier to work with\n",
    "merged_landuse = merged_landuse.drop(['CODE_18', 'CODE', 'Unnamed: 4', 'Unnamed: 5'], axis=1)\n",
    "merged_landuse\n",
    "# Access the 'LABEL' column in the merged DataFrame - LABEL gives the actual landuse description\n",
    "label_column = merged_landuse['LABEL']"
   ]
  },
  {
   "cell_type": "code",
   "execution_count": 25,
   "id": "5fbe4fd8",
   "metadata": {},
   "outputs": [
    {
     "data": {
      "text/plain": [
       "OBJECTID_1                                                    2\n",
       "OBJECTID                                                      2\n",
       "Shape_Leng                                          6502.250189\n",
       "ID                                                      UK_NI_2\n",
       "Area_Ha                                               134.98762\n",
       "Remark                                                      NaN\n",
       "Shape_Le_1                                                  0.0\n",
       "Shape_Le_2                                          6504.302749\n",
       "Shape_Area                                        1350727.59603\n",
       "geometry      POLYGON ((116313.96509999968 484902.6877999995...\n",
       "GRID                                                          1\n",
       "LABEL                                   Continuous urban fabric\n",
       "RGB                                                 230-000-077\n",
       "Name: 1, dtype: object"
      ]
     },
     "execution_count": 25,
     "metadata": {},
     "output_type": "execute_result"
    }
   ],
   "source": [
    "merged_landuse.loc[1]  #show the first row of the merged landuse geodataframe\n",
    "#merged_landuse.to_file('data_files/merged_landuse.shp', index=False) #save a copy of the geodataframe"
   ]
  },
  {
   "cell_type": "code",
   "execution_count": 26,
   "id": "d5a9df4d",
   "metadata": {},
   "outputs": [
    {
     "name": "stdout",
     "output_type": "stream",
     "text": [
      "True\n"
     ]
    }
   ],
   "source": [
    "print(merged_landuse.crs == wrz.crs) # test if the crs is the same "
   ]
  },
  {
   "cell_type": "code",
   "execution_count": 27,
   "id": "814dbb91",
   "metadata": {},
   "outputs": [
    {
     "data": {
      "text/plain": [
       "COMPANY                                   Affinity Water\n",
       "LABEL                                         Bare rocks\n",
       "Area_Ha                                        46.709683\n",
       "geometry    POINT (613764.8261605917 223892.77165446547)\n",
       "Name: 1, dtype: object"
      ]
     },
     "execution_count": 27,
     "metadata": {},
     "output_type": "execute_result"
    }
   ],
   "source": [
    "# Perform spatial join between wrz and merged_landuse\n",
    "join = gpd.sjoin(wrz, merged_landuse, how='inner', predicate='intersects')\n",
    "# Group by COMPANY and LABEL, and sum the Area_Ha column\n",
    "grouped = join.groupby(['COMPANY', 'LABEL'])['Area_Ha'].sum().reset_index()\n",
    "\n",
    "# Create a new GeoDataFrame from the grouped data\n",
    "company_landuse = gpd.GeoDataFrame(grouped, geometry=gpd.GeoSeries(), crs=wrz.crs)\n",
    "\n",
    "# Set the geometry of the new GeoDataFrame to the centroid of each LABEL\n",
    "company_landuse.geometry = company_landuse.apply(lambda x: wrz[wrz['COMPANY'] == x['COMPANY']].geometry.centroid.iloc[0], axis=1)\n",
    "\n",
    "# Print the resulting GeoDataFrame\n",
    "# print(company_landuse)\n",
    "company_landuse.loc[1]"
   ]
  },
  {
   "cell_type": "code",
   "execution_count": 29,
   "id": "60b51a8f",
   "metadata": {},
   "outputs": [],
   "source": [
    "# Group by company and select the top three rows with the largest Area_Ha\n",
    "top_areas = company_landuse.groupby('COMPANY')['Area_Ha'].nlargest(3)\n",
    "\n",
    "# Get the indices of the selected rows\n",
    "selected_indices = top_areas.index.levels[1]\n",
    "\n",
    "# Create a new geodataframe with the selected rows\n",
    "selected_landuse = company_landuse.loc[selected_indices]\n",
    "\n",
    "# Convert Area_Ha to Area_Km\n",
    "selected_landuse['Area_Km'] = (selected_landuse['Area_Ha'] / 100).round(2)\n",
    "\n",
    "# Filter out rows with LABEL equal to unwanted categories\n",
    "unwanted_categories = ['Beaches dunes sands', 'Bare rocks', 'Sparsely vegetated areas', 'Burnt areas', 'Glaciers and perpetual snow', 'Inland marshes', 'Peat bogs', 'Salt marshes', 'Salines', 'Intertidal flats', 'Water courses', 'Water bodies', 'Coastal lagoons', 'Estuaries', 'Sea and ocean', 'NODATA', 'UNCLASSIFIED WATER BODIES']\n",
    "selected_landuse = selected_landuse[~selected_landuse['LABEL'].isin(unwanted_categories)]\n",
    "\n",
    "# Write the new geodataframe to a shapefile\n",
    "selected_landuse.to_file('data_files/selected_landuse.shp')\n",
    "selected_landuse.to_csv('data_files/selected_landuse.csv', index=False)"
   ]
  },
  {
   "cell_type": "code",
   "execution_count": 32,
   "id": "b288ae82",
   "metadata": {},
   "outputs": [
    {
     "data": {
      "text/html": [
       "<div style=\"width:100%;\"><div style=\"position:relative;width:100%;height:0;padding-bottom:60%;\"><span style=\"color:#565656\">Make this Notebook Trusted to load map: File -> Trust Notebook</span><iframe srcdoc=\"&lt;!DOCTYPE html&gt;\n",
       "&lt;html&gt;\n",
       "&lt;head&gt;\n",
       "    \n",
       "    &lt;meta http-equiv=&quot;content-type&quot; content=&quot;text/html; charset=UTF-8&quot; /&gt;\n",
       "    \n",
       "        &lt;script&gt;\n",
       "            L_NO_TOUCH = false;\n",
       "            L_DISABLE_3D = false;\n",
       "        &lt;/script&gt;\n",
       "    \n",
       "    &lt;style&gt;html, body {width: 100%;height: 100%;margin: 0;padding: 0;}&lt;/style&gt;\n",
       "    &lt;style&gt;#map {position:absolute;top:0;bottom:0;right:0;left:0;}&lt;/style&gt;\n",
       "    &lt;script src=&quot;https://cdn.jsdelivr.net/npm/leaflet@1.9.3/dist/leaflet.js&quot;&gt;&lt;/script&gt;\n",
       "    &lt;script src=&quot;https://code.jquery.com/jquery-1.12.4.min.js&quot;&gt;&lt;/script&gt;\n",
       "    &lt;script src=&quot;https://cdn.jsdelivr.net/npm/bootstrap@5.2.2/dist/js/bootstrap.bundle.min.js&quot;&gt;&lt;/script&gt;\n",
       "    &lt;script src=&quot;https://cdnjs.cloudflare.com/ajax/libs/Leaflet.awesome-markers/2.0.2/leaflet.awesome-markers.js&quot;&gt;&lt;/script&gt;\n",
       "    &lt;link rel=&quot;stylesheet&quot; href=&quot;https://cdn.jsdelivr.net/npm/leaflet@1.9.3/dist/leaflet.css&quot;/&gt;\n",
       "    &lt;link rel=&quot;stylesheet&quot; href=&quot;https://cdn.jsdelivr.net/npm/bootstrap@5.2.2/dist/css/bootstrap.min.css&quot;/&gt;\n",
       "    &lt;link rel=&quot;stylesheet&quot; href=&quot;https://netdna.bootstrapcdn.com/bootstrap/3.0.0/css/bootstrap.min.css&quot;/&gt;\n",
       "    &lt;link rel=&quot;stylesheet&quot; href=&quot;https://cdn.jsdelivr.net/npm/@fortawesome/fontawesome-free@6.2.0/css/all.min.css&quot;/&gt;\n",
       "    &lt;link rel=&quot;stylesheet&quot; href=&quot;https://cdnjs.cloudflare.com/ajax/libs/Leaflet.awesome-markers/2.0.2/leaflet.awesome-markers.css&quot;/&gt;\n",
       "    &lt;link rel=&quot;stylesheet&quot; href=&quot;https://cdn.jsdelivr.net/gh/python-visualization/folium/folium/templates/leaflet.awesome.rotate.min.css&quot;/&gt;\n",
       "    \n",
       "            &lt;meta name=&quot;viewport&quot; content=&quot;width=device-width,\n",
       "                initial-scale=1.0, maximum-scale=1.0, user-scalable=no&quot; /&gt;\n",
       "            &lt;style&gt;\n",
       "                #map_236fdbd289616dda04aec018bbf2a7b6 {\n",
       "                    position: relative;\n",
       "                    width: 100.0%;\n",
       "                    height: 100.0%;\n",
       "                    left: 0.0%;\n",
       "                    top: 0.0%;\n",
       "                }\n",
       "                .leaflet-container { font-size: 1rem; }\n",
       "            &lt;/style&gt;\n",
       "        \n",
       "    \n",
       "                    &lt;style&gt;\n",
       "                        .foliumtooltip {\n",
       "                            \n",
       "                        }\n",
       "                       .foliumtooltip table{\n",
       "                            margin: auto;\n",
       "                        }\n",
       "                        .foliumtooltip tr{\n",
       "                            text-align: left;\n",
       "                        }\n",
       "                        .foliumtooltip th{\n",
       "                            padding: 2px; padding-right: 8px;\n",
       "                        }\n",
       "                    &lt;/style&gt;\n",
       "            \n",
       "    &lt;script src=&quot;https://cdnjs.cloudflare.com/ajax/libs/d3/3.5.5/d3.min.js&quot;&gt;&lt;/script&gt;\n",
       "&lt;/head&gt;\n",
       "&lt;body&gt;\n",
       "    \n",
       "    \n",
       "            &lt;div class=&quot;folium-map&quot; id=&quot;map_236fdbd289616dda04aec018bbf2a7b6&quot; &gt;&lt;/div&gt;\n",
       "        \n",
       "&lt;/body&gt;\n",
       "&lt;script&gt;\n",
       "    \n",
       "    \n",
       "            var map_236fdbd289616dda04aec018bbf2a7b6 = L.map(\n",
       "                &quot;map_236fdbd289616dda04aec018bbf2a7b6&quot;,\n",
       "                {\n",
       "                    center: [52.46392007628362, -1.1406054200654236],\n",
       "                    crs: L.CRS.EPSG3857,\n",
       "                    zoom: 10,\n",
       "                    zoomControl: true,\n",
       "                    preferCanvas: false,\n",
       "                }\n",
       "            );\n",
       "            L.control.scale().addTo(map_236fdbd289616dda04aec018bbf2a7b6);\n",
       "\n",
       "            \n",
       "\n",
       "        \n",
       "    \n",
       "            var tile_layer_66ea9ad6f67e6d8788942b7211539abb = L.tileLayer(\n",
       "                &quot;https://{s}.tile.openstreetmap.org/{z}/{x}/{y}.png&quot;,\n",
       "                {&quot;attribution&quot;: &quot;Data by \\u0026copy; \\u003ca target=\\&quot;_blank\\&quot; href=\\&quot;http://openstreetmap.org\\&quot;\\u003eOpenStreetMap\\u003c/a\\u003e, under \\u003ca target=\\&quot;_blank\\&quot; href=\\&quot;http://www.openstreetmap.org/copyright\\&quot;\\u003eODbL\\u003c/a\\u003e.&quot;, &quot;detectRetina&quot;: false, &quot;maxNativeZoom&quot;: 18, &quot;maxZoom&quot;: 18, &quot;minZoom&quot;: 0, &quot;noWrap&quot;: false, &quot;opacity&quot;: 1, &quot;subdomains&quot;: &quot;abc&quot;, &quot;tms&quot;: false}\n",
       "            ).addTo(map_236fdbd289616dda04aec018bbf2a7b6);\n",
       "        \n",
       "    \n",
       "            map_236fdbd289616dda04aec018bbf2a7b6.fitBounds(\n",
       "                [[50.87509435548877, -3.71444686715803], [54.05274579707847, 1.4332360270271824]],\n",
       "                {}\n",
       "            );\n",
       "        \n",
       "    \n",
       "        function geo_json_920ac29797a4cab869df76003f423330_styler(feature) {\n",
       "            switch(feature.id) {\n",
       "                case &quot;20&quot;: case &quot;173&quot;: case &quot;341&quot;: \n",
       "                    return {&quot;color&quot;: &quot;#fffbc2&quot;, &quot;fillColor&quot;: &quot;#fffbc2&quot;, &quot;fillOpacity&quot;: 0.5, &quot;weight&quot;: 2};\n",
       "                case &quot;33&quot;: case &quot;90&quot;: case &quot;164&quot;: case &quot;223&quot;: case &quot;238&quot;: case &quot;285&quot;: case &quot;317&quot;: case &quot;403&quot;: case &quot;479&quot;: case &quot;504&quot;: case &quot;535&quot;: \n",
       "                    return {&quot;color&quot;: &quot;#fffec9&quot;, &quot;fillColor&quot;: &quot;#fffec9&quot;, &quot;fillOpacity&quot;: 0.5, &quot;weight&quot;: 2};\n",
       "                case &quot;57&quot;: case &quot;187&quot;: \n",
       "                    return {&quot;color&quot;: &quot;#fff9be&quot;, &quot;fillColor&quot;: &quot;#fff9be&quot;, &quot;fillOpacity&quot;: 0.5, &quot;weight&quot;: 2};\n",
       "                case &quot;91&quot;: case &quot;286&quot;: \n",
       "                    return {&quot;color&quot;: &quot;#fffecb&quot;, &quot;fillColor&quot;: &quot;#fffecb&quot;, &quot;fillOpacity&quot;: 0.5, &quot;weight&quot;: 2};\n",
       "                case &quot;138&quot;: case &quot;211&quot;: \n",
       "                    return {&quot;color&quot;: &quot;#fffac1&quot;, &quot;fillColor&quot;: &quot;#fffac1&quot;, &quot;fillOpacity&quot;: 0.5, &quot;weight&quot;: 2};\n",
       "                case &quot;155&quot;: \n",
       "                    return {&quot;color&quot;: &quot;#800026&quot;, &quot;fillColor&quot;: &quot;#800026&quot;, &quot;fillOpacity&quot;: 0.5, &quot;weight&quot;: 2};\n",
       "                case &quot;156&quot;: \n",
       "                    return {&quot;color&quot;: &quot;#fffdc6&quot;, &quot;fillColor&quot;: &quot;#fffdc6&quot;, &quot;fillOpacity&quot;: 0.5, &quot;weight&quot;: 2};\n",
       "                case &quot;370&quot;: \n",
       "                    return {&quot;color&quot;: &quot;#fffdc8&quot;, &quot;fillColor&quot;: &quot;#fffdc8&quot;, &quot;fillOpacity&quot;: 0.5, &quot;weight&quot;: 2};\n",
       "                case &quot;432&quot;: \n",
       "                    return {&quot;color&quot;: &quot;#fffcc5&quot;, &quot;fillColor&quot;: &quot;#fffcc5&quot;, &quot;fillOpacity&quot;: 0.5, &quot;weight&quot;: 2};\n",
       "                default:\n",
       "                    return {&quot;color&quot;: &quot;#ffffcc&quot;, &quot;fillColor&quot;: &quot;#ffffcc&quot;, &quot;fillOpacity&quot;: 0.5, &quot;weight&quot;: 2};\n",
       "            }\n",
       "        }\n",
       "        function geo_json_920ac29797a4cab869df76003f423330_highlighter(feature) {\n",
       "            switch(feature.id) {\n",
       "                default:\n",
       "                    return {&quot;fillOpacity&quot;: 0.75};\n",
       "            }\n",
       "        }\n",
       "        function geo_json_920ac29797a4cab869df76003f423330_pointToLayer(feature, latlng) {\n",
       "            var opts = {&quot;bubblingMouseEvents&quot;: true, &quot;color&quot;: &quot;#3388ff&quot;, &quot;dashArray&quot;: null, &quot;dashOffset&quot;: null, &quot;fill&quot;: true, &quot;fillColor&quot;: &quot;#3388ff&quot;, &quot;fillOpacity&quot;: 0.2, &quot;fillRule&quot;: &quot;evenodd&quot;, &quot;lineCap&quot;: &quot;round&quot;, &quot;lineJoin&quot;: &quot;round&quot;, &quot;opacity&quot;: 1.0, &quot;radius&quot;: 2, &quot;stroke&quot;: true, &quot;weight&quot;: 3};\n",
       "            \n",
       "            let style = geo_json_920ac29797a4cab869df76003f423330_styler(feature)\n",
       "            Object.assign(opts, style)\n",
       "            \n",
       "            return new L.CircleMarker(latlng, opts)\n",
       "        }\n",
       "\n",
       "        function geo_json_920ac29797a4cab869df76003f423330_onEachFeature(feature, layer) {\n",
       "            layer.on({\n",
       "                mouseout: function(e) {\n",
       "                    if(typeof e.target.setStyle === &quot;function&quot;){\n",
       "                        geo_json_920ac29797a4cab869df76003f423330.resetStyle(e.target);\n",
       "                    }\n",
       "                },\n",
       "                mouseover: function(e) {\n",
       "                    if(typeof e.target.setStyle === &quot;function&quot;){\n",
       "                        const highlightStyle = geo_json_920ac29797a4cab869df76003f423330_highlighter(e.target.feature)\n",
       "                        e.target.setStyle(highlightStyle);\n",
       "                    }\n",
       "                },\n",
       "            });\n",
       "        };\n",
       "        var geo_json_920ac29797a4cab869df76003f423330 = L.geoJson(null, {\n",
       "                onEachFeature: geo_json_920ac29797a4cab869df76003f423330_onEachFeature,\n",
       "            \n",
       "                style: geo_json_920ac29797a4cab869df76003f423330_styler,\n",
       "                pointToLayer: geo_json_920ac29797a4cab869df76003f423330_pointToLayer\n",
       "        });\n",
       "\n",
       "        function geo_json_920ac29797a4cab869df76003f423330_add (data) {\n",
       "            geo_json_920ac29797a4cab869df76003f423330\n",
       "                .addData(data)\n",
       "                .addTo(map_236fdbd289616dda04aec018bbf2a7b6);\n",
       "        }\n",
       "            geo_json_920ac29797a4cab869df76003f423330_add({&quot;bbox&quot;: [-3.71444686715803, 50.87509435548877, 1.4332360270271824, 54.05274579707847], &quot;features&quot;: [{&quot;bbox&quot;: [1.103899585766544, 51.872634472002126, 1.103899585766544, 51.872634472002126], &quot;geometry&quot;: {&quot;coordinates&quot;: [1.103899585766544, 51.872634472002126], &quot;type&quot;: &quot;Point&quot;}, &quot;id&quot;: &quot;8&quot;, &quot;properties&quot;: {&quot;Area_Ha&quot;: 155962.6617710199, &quot;Area_Km&quot;: 1559.63, &quot;COMPANY&quot;: &quot;Affinity Water&quot;, &quot;LABEL&quot;: &quot;Discontinuous urban fabric&quot;, &quot;__folium_color&quot;: &quot;#ffffcc&quot;}, &quot;type&quot;: &quot;Feature&quot;}, {&quot;bbox&quot;: [1.103899585766544, 51.872634472002126, 1.103899585766544, 51.872634472002126], &quot;geometry&quot;: {&quot;coordinates&quot;: [1.103899585766544, 51.872634472002126], &quot;type&quot;: &quot;Point&quot;}, &quot;id&quot;: &quot;20&quot;, &quot;properties&quot;: {&quot;Area_Ha&quot;: 11346728.811783737, &quot;Area_Km&quot;: 113467.29, &quot;COMPANY&quot;: &quot;Affinity Water&quot;, &quot;LABEL&quot;: &quot;Non-irrigated arable land&quot;, &quot;__folium_color&quot;: &quot;#fffbc2&quot;}, &quot;type&quot;: &quot;Feature&quot;}, {&quot;bbox&quot;: [-3.0439298866935256, 53.23533956369303, -3.0439298866935256, 53.23533956369303], &quot;geometry&quot;: {&quot;coordinates&quot;: [-3.0439298866935256, 53.23533956369303], &quot;type&quot;: &quot;Point&quot;}, &quot;id&quot;: &quot;30&quot;, &quot;properties&quot;: {&quot;Area_Ha&quot;: 908.942870552, &quot;Area_Km&quot;: 9.09, &quot;COMPANY&quot;: &quot;Albion Eco Ltd&quot;, &quot;LABEL&quot;: &quot;Industrial or commercial units&quot;, &quot;__folium_color&quot;: &quot;#ffffcc&quot;}, &quot;type&quot;: &quot;Feature&quot;}, {&quot;bbox&quot;: [0.14240822670359646, 51.608913650904825, 0.14240822670359646, 51.608913650904825], &quot;geometry&quot;: {&quot;coordinates&quot;: [0.14240822670359646, 51.608913650904825], &quot;type&quot;: &quot;Point&quot;}, &quot;id&quot;: &quot;31&quot;, &quot;properties&quot;: {&quot;Area_Ha&quot;: 184.199676582, &quot;Area_Km&quot;: 1.84, &quot;COMPANY&quot;: &quot;Albion Water Ltd&quot;, &quot;LABEL&quot;: &quot;Airports&quot;, &quot;__folium_color&quot;: &quot;#ffffcc&quot;}, &quot;type&quot;: &quot;Feature&quot;}, {&quot;bbox&quot;: [0.14240822670359646, 51.608913650904825, 0.14240822670359646, 51.608913650904825], &quot;geometry&quot;: {&quot;coordinates&quot;: [0.14240822670359646, 51.608913650904825], &quot;type&quot;: &quot;Point&quot;}, &quot;id&quot;: &quot;33&quot;, &quot;properties&quot;: {&quot;Area_Ha&quot;: 3736599.040492662, &quot;Area_Km&quot;: 37365.99, &quot;COMPANY&quot;: &quot;Albion Water Ltd&quot;, &quot;LABEL&quot;: &quot;Non-irrigated arable land&quot;, &quot;__folium_color&quot;: &quot;#fffec9&quot;}, &quot;type&quot;: &quot;Feature&quot;}, {&quot;bbox&quot;: [0.14240822670359646, 51.608913650904825, 0.14240822670359646, 51.608913650904825], &quot;geometry&quot;: {&quot;coordinates&quot;: [0.14240822670359646, 51.608913650904825], &quot;type&quot;: &quot;Point&quot;}, &quot;id&quot;: &quot;34&quot;, &quot;properties&quot;: {&quot;Area_Ha&quot;: 1254.03055617, &quot;Area_Km&quot;: 12.54, &quot;COMPANY&quot;: &quot;Albion Water Ltd&quot;, &quot;LABEL&quot;: &quot;Pastures&quot;, &quot;__folium_color&quot;: &quot;#ffffcc&quot;}, &quot;type&quot;: &quot;Feature&quot;}, {&quot;bbox&quot;: [0.1021112509233501, 52.63917675304423, 0.1021112509233501, 52.63917675304423], &quot;geometry&quot;: {&quot;coordinates&quot;: [0.1021112509233501, 52.63917675304423], &quot;type&quot;: &quot;Point&quot;}, &quot;id&quot;: &quot;57&quot;, &quot;properties&quot;: {&quot;Area_Ha&quot;: 15042748.877327584, &quot;Area_Km&quot;: 150427.49, &quot;COMPANY&quot;: &quot;Anglian Water&quot;, &quot;LABEL&quot;: &quot;Non-irrigated arable land&quot;, &quot;__folium_color&quot;: &quot;#fff9be&quot;}, &quot;type&quot;: &quot;Feature&quot;}, {&quot;bbox&quot;: [0.1021112509233501, 52.63917675304423, 0.1021112509233501, 52.63917675304423], &quot;geometry&quot;: {&quot;coordinates&quot;: [0.1021112509233501, 52.63917675304423], &quot;type&quot;: &quot;Point&quot;}, &quot;id&quot;: &quot;58&quot;, &quot;properties&quot;: {&quot;Area_Ha&quot;: 331026.02482062747, &quot;Area_Km&quot;: 3310.26, &quot;COMPANY&quot;: &quot;Anglian Water&quot;, &quot;LABEL&quot;: &quot;Pastures&quot;, &quot;__folium_color&quot;: &quot;#ffffcc&quot;}, &quot;type&quot;: &quot;Feature&quot;}, {&quot;bbox&quot;: [-3.71444686715803, 52.25083261881999, -3.71444686715803, 52.25083261881999], &quot;geometry&quot;: {&quot;coordinates&quot;: [-3.71444686715803, 52.25083261881999], &quot;type&quot;: &quot;Point&quot;}, &quot;id&quot;: &quot;90&quot;, &quot;properties&quot;: {&quot;Area_Ha&quot;: 3860386.227170064, &quot;Area_Km&quot;: 38603.86, &quot;COMPANY&quot;: &quot;D\\u00c5\\u00b5r Cymru&quot;, &quot;LABEL&quot;: &quot;Non-irrigated arable land&quot;, &quot;__folium_color&quot;: &quot;#fffec9&quot;}, &quot;type&quot;: &quot;Feature&quot;}, {&quot;bbox&quot;: [-3.71444686715803, 52.25083261881999, -3.71444686715803, 52.25083261881999], &quot;geometry&quot;: {&quot;coordinates&quot;: [-3.71444686715803, 52.25083261881999], &quot;type&quot;: &quot;Point&quot;}, &quot;id&quot;: &quot;91&quot;, &quot;properties&quot;: {&quot;Area_Ha&quot;: 1557273.9976778924, &quot;Area_Km&quot;: 15572.74, &quot;COMPANY&quot;: &quot;D\\u00c5\\u00b5r Cymru&quot;, &quot;LABEL&quot;: &quot;Pastures&quot;, &quot;__folium_color&quot;: &quot;#fffecb&quot;}, &quot;type&quot;: &quot;Feature&quot;}, {&quot;bbox&quot;: [-3.3340607477394597, 52.71606622789462, -3.3340607477394597, 52.71606622789462], &quot;geometry&quot;: {&quot;coordinates&quot;: [-3.3340607477394597, 52.71606622789462], &quot;type&quot;: &quot;Point&quot;}, &quot;id&quot;: &quot;117&quot;, &quot;properties&quot;: {&quot;Area_Ha&quot;: 68131.60774282229, &quot;Area_Km&quot;: 681.32, &quot;COMPANY&quot;: &quot;Hafren Dyfrdwy&quot;, &quot;LABEL&quot;: &quot;Natural grasslands&quot;, &quot;__folium_color&quot;: &quot;#ffffcc&quot;}, &quot;type&quot;: &quot;Feature&quot;}, {&quot;bbox&quot;: [-3.3340607477394597, 52.71606622789462, -3.3340607477394597, 52.71606622789462], &quot;geometry&quot;: {&quot;coordinates&quot;: [-3.3340607477394597, 52.71606622789462], &quot;type&quot;: &quot;Point&quot;}, &quot;id&quot;: &quot;118&quot;, &quot;properties&quot;: {&quot;Area_Ha&quot;: 157226.4256410585, &quot;Area_Km&quot;: 1572.26, &quot;COMPANY&quot;: &quot;Hafren Dyfrdwy&quot;, &quot;LABEL&quot;: &quot;Non-irrigated arable land&quot;, &quot;__folium_color&quot;: &quot;#ffffcc&quot;}, &quot;type&quot;: &quot;Feature&quot;}, {&quot;bbox&quot;: [-3.3340607477394597, 52.71606622789462, -3.3340607477394597, 52.71606622789462], &quot;geometry&quot;: {&quot;coordinates&quot;: [-3.3340607477394597, 52.71606622789462], &quot;type&quot;: &quot;Point&quot;}, &quot;id&quot;: &quot;119&quot;, &quot;properties&quot;: {&quot;Area_Ha&quot;: 798739.2171128306, &quot;Area_Km&quot;: 7987.39, &quot;COMPANY&quot;: &quot;Hafren Dyfrdwy&quot;, &quot;LABEL&quot;: &quot;Pastures&quot;, &quot;__folium_color&quot;: &quot;#ffffcc&quot;}, &quot;type&quot;: &quot;Feature&quot;}, {&quot;bbox&quot;: [-2.527828313687619, 51.51882394254352, -2.527828313687619, 51.51882394254352], &quot;geometry&quot;: {&quot;coordinates&quot;: [-2.527828313687619, 51.51882394254352], &quot;type&quot;: &quot;Point&quot;}, &quot;id&quot;: &quot;126&quot;, &quot;properties&quot;: {&quot;Area_Ha&quot;: 130.104690276, &quot;Area_Km&quot;: 1.3, &quot;COMPANY&quot;: &quot;Icosa Water Services Limited&quot;, &quot;LABEL&quot;: &quot;Non-irrigated arable land&quot;, &quot;__folium_color&quot;: &quot;#ffffcc&quot;}, &quot;type&quot;: &quot;Feature&quot;}, {&quot;bbox&quot;: [-2.527828313687619, 51.51882394254352, -2.527828313687619, 51.51882394254352], &quot;geometry&quot;: {&quot;coordinates&quot;: [-2.527828313687619, 51.51882394254352], &quot;type&quot;: &quot;Point&quot;}, &quot;id&quot;: &quot;127&quot;, &quot;properties&quot;: {&quot;Area_Ha&quot;: 136.982496567, &quot;Area_Km&quot;: 1.37, &quot;COMPANY&quot;: &quot;Icosa Water Services Limited&quot;, &quot;LABEL&quot;: &quot;Road and rail networks and associated land&quot;, &quot;__folium_color&quot;: &quot;#ffffcc&quot;}, &quot;type&quot;: &quot;Feature&quot;}, {&quot;bbox&quot;: [-2.5568186138997313, 53.59263516274145, -2.5568186138997313, 53.59263516274145], &quot;geometry&quot;: {&quot;coordinates&quot;: [-2.5568186138997313, 53.59263516274145], &quot;type&quot;: &quot;Point&quot;}, &quot;id&quot;: &quot;132&quot;, &quot;properties&quot;: {&quot;Area_Ha&quot;: 195993.8971219966, &quot;Area_Km&quot;: 1959.94, &quot;COMPANY&quot;: &quot;Icosa Water Services Ltd&quot;, &quot;LABEL&quot;: &quot;Discontinuous urban fabric&quot;, &quot;__folium_color&quot;: &quot;#ffffcc&quot;}, &quot;type&quot;: &quot;Feature&quot;}, {&quot;bbox&quot;: [-2.5568186138997313, 53.59263516274145, -2.5568186138997313, 53.59263516274145], &quot;geometry&quot;: {&quot;coordinates&quot;: [-2.5568186138997313, 53.59263516274145], &quot;type&quot;: &quot;Point&quot;}, &quot;id&quot;: &quot;138&quot;, &quot;properties&quot;: {&quot;Area_Ha&quot;: 11398512.591765394, &quot;Area_Km&quot;: 113985.13, &quot;COMPANY&quot;: &quot;Icosa Water Services Ltd&quot;, &quot;LABEL&quot;: &quot;Non-irrigated arable land&quot;, &quot;__folium_color&quot;: &quot;#fffac1&quot;}, &quot;type&quot;: &quot;Feature&quot;}, {&quot;bbox&quot;: [-2.5568186138997313, 53.59263516274145, -2.5568186138997313, 53.59263516274145], &quot;geometry&quot;: {&quot;coordinates&quot;: [-2.5568186138997313, 53.59263516274145], &quot;type&quot;: &quot;Point&quot;}, &quot;id&quot;: &quot;139&quot;, &quot;properties&quot;: {&quot;Area_Ha&quot;: 305927.785543815, &quot;Area_Km&quot;: 3059.28, &quot;COMPANY&quot;: &quot;Icosa Water Services Ltd&quot;, &quot;LABEL&quot;: &quot;Pastures&quot;, &quot;__folium_color&quot;: &quot;#ffffcc&quot;}, &quot;type&quot;: &quot;Feature&quot;}, {&quot;bbox&quot;: [-2.7132903068131786, 53.71013568978392, -2.7132903068131786, 53.71013568978392], &quot;geometry&quot;: {&quot;coordinates&quot;: [-2.7132903068131786, 53.71013568978392], &quot;type&quot;: &quot;Point&quot;}, &quot;id&quot;: &quot;147&quot;, &quot;properties&quot;: {&quot;Area_Ha&quot;: 1176010.5190330066, &quot;Area_Km&quot;: 11760.11, &quot;COMPANY&quot;: &quot;Independent Water Networks Ltd&quot;, &quot;LABEL&quot;: &quot;Discontinuous urban fabric&quot;, &quot;__folium_color&quot;: &quot;#ffffcc&quot;}, &quot;type&quot;: &quot;Feature&quot;}, {&quot;bbox&quot;: [-2.7132903068131786, 53.71013568978392, -2.7132903068131786, 53.71013568978392], &quot;geometry&quot;: {&quot;coordinates&quot;: [-2.7132903068131786, 53.71013568978392], &quot;type&quot;: &quot;Point&quot;}, &quot;id&quot;: &quot;155&quot;, &quot;properties&quot;: {&quot;Area_Ha&quot;: 363998102.1865229, &quot;Area_Km&quot;: 3639981.02, &quot;COMPANY&quot;: &quot;Independent Water Networks Ltd&quot;, &quot;LABEL&quot;: &quot;Non-irrigated arable land&quot;, &quot;__folium_color&quot;: &quot;#800026&quot;}, &quot;type&quot;: &quot;Feature&quot;}, {&quot;bbox&quot;: [-2.7132903068131786, 53.71013568978392, -2.7132903068131786, 53.71013568978392], &quot;geometry&quot;: {&quot;coordinates&quot;: [-2.7132903068131786, 53.71013568978392], &quot;type&quot;: &quot;Point&quot;}, &quot;id&quot;: &quot;156&quot;, &quot;properties&quot;: {&quot;Area_Ha&quot;: 6889121.125921106, &quot;Area_Km&quot;: 68891.21, &quot;COMPANY&quot;: &quot;Independent Water Networks Ltd&quot;, &quot;LABEL&quot;: &quot;Pastures&quot;, &quot;__folium_color&quot;: &quot;#fffdc6&quot;}, &quot;type&quot;: &quot;Feature&quot;}, {&quot;bbox&quot;: [-1.7872203245774334, 51.10320502346008, -1.7872203245774334, 51.10320502346008], &quot;geometry&quot;: {&quot;coordinates&quot;: [-1.7872203245774334, 51.10320502346008], &quot;type&quot;: &quot;Point&quot;}, &quot;id&quot;: &quot;163&quot;, &quot;properties&quot;: {&quot;Area_Ha&quot;: 54.5065299328, &quot;Area_Km&quot;: 0.55, &quot;COMPANY&quot;: &quot;Leep Networks (Water) Limited (formerly SSE Water Ltd)&quot;, &quot;LABEL&quot;: &quot;Discontinuous urban fabric&quot;, &quot;__folium_color&quot;: &quot;#ffffcc&quot;}, &quot;type&quot;: &quot;Feature&quot;}, {&quot;bbox&quot;: [-1.7872203245774334, 51.10320502346008, -1.7872203245774334, 51.10320502346008], &quot;geometry&quot;: {&quot;coordinates&quot;: [-1.7872203245774334, 51.10320502346008], &quot;type&quot;: &quot;Point&quot;}, &quot;id&quot;: &quot;164&quot;, &quot;properties&quot;: {&quot;Area_Ha&quot;: 3736203.4309, &quot;Area_Km&quot;: 37362.03, &quot;COMPANY&quot;: &quot;Leep Networks (Water) Limited (formerly SSE Water Ltd)&quot;, &quot;LABEL&quot;: &quot;Non-irrigated arable land&quot;, &quot;__folium_color&quot;: &quot;#fffec9&quot;}, &quot;type&quot;: &quot;Feature&quot;}, {&quot;bbox&quot;: [-1.7872203245774334, 51.10320502346008, -1.7872203245774334, 51.10320502346008], &quot;geometry&quot;: {&quot;coordinates&quot;: [-1.7872203245774334, 51.10320502346008], &quot;type&quot;: &quot;Point&quot;}, &quot;id&quot;: &quot;165&quot;, &quot;properties&quot;: {&quot;Area_Ha&quot;: 111.3895690938, &quot;Area_Km&quot;: 1.11, &quot;COMPANY&quot;: &quot;Leep Networks (Water) Limited (formerly SSE Water Ltd)&quot;, &quot;LABEL&quot;: &quot;Sport and leisure facilities&quot;, &quot;__folium_color&quot;: &quot;#ffffcc&quot;}, &quot;type&quot;: &quot;Feature&quot;}, {&quot;bbox&quot;: [-1.5276039551994416, 53.78874312717164, -1.5276039551994416, 53.78874312717164], &quot;geometry&quot;: {&quot;coordinates&quot;: [-1.5276039551994416, 53.78874312717164], &quot;type&quot;: &quot;Point&quot;}, &quot;id&quot;: &quot;169&quot;, &quot;properties&quot;: {&quot;Area_Ha&quot;: 173188.356288084, &quot;Area_Km&quot;: 1731.88, &quot;COMPANY&quot;: &quot;Leep Networks (Water) Ltd&quot;, &quot;LABEL&quot;: &quot;Discontinuous urban fabric&quot;, &quot;__folium_color&quot;: &quot;#ffffcc&quot;}, &quot;type&quot;: &quot;Feature&quot;}, {&quot;bbox&quot;: [-1.5276039551994416, 53.78874312717164, -1.5276039551994416, 53.78874312717164], &quot;geometry&quot;: {&quot;coordinates&quot;: [-1.5276039551994416, 53.78874312717164], &quot;type&quot;: &quot;Point&quot;}, &quot;id&quot;: &quot;173&quot;, &quot;properties&quot;: {&quot;Area_Ha&quot;: 11340120.76712878, &quot;Area_Km&quot;: 113401.21, &quot;COMPANY&quot;: &quot;Leep Networks (Water) Ltd&quot;, &quot;LABEL&quot;: &quot;Non-irrigated arable land&quot;, &quot;__folium_color&quot;: &quot;#fffbc2&quot;}, &quot;type&quot;: &quot;Feature&quot;}, {&quot;bbox&quot;: [-1.5276039551994416, 53.78874312717164, -1.5276039551994416, 53.78874312717164], &quot;geometry&quot;: {&quot;coordinates&quot;: [-1.5276039551994416, 53.78874312717164], &quot;type&quot;: &quot;Point&quot;}, &quot;id&quot;: &quot;174&quot;, &quot;properties&quot;: {&quot;Area_Ha&quot;: 476897.67461575905, &quot;Area_Km&quot;: 4768.98, &quot;COMPANY&quot;: &quot;Leep Networks (Water) Ltd&quot;, &quot;LABEL&quot;: &quot;Pastures&quot;, &quot;__folium_color&quot;: &quot;#ffffcc&quot;}, &quot;type&quot;: &quot;Feature&quot;}, {&quot;bbox&quot;: [-2.2992818734069043, 53.47298358626719, -2.2992818734069043, 53.47298358626719], &quot;geometry&quot;: {&quot;coordinates&quot;: [-2.2992818734069043, 53.47298358626719], &quot;type&quot;: &quot;Point&quot;}, &quot;id&quot;: &quot;177&quot;, &quot;properties&quot;: {&quot;Area_Ha&quot;: 125.335989488, &quot;Area_Km&quot;: 1.25, &quot;COMPANY&quot;: &quot;Leep Networks (Water) Ltd (formerly Peel Water Networks Ltd)&quot;, &quot;LABEL&quot;: &quot;Port areas&quot;, &quot;__folium_color&quot;: &quot;#ffffcc&quot;}, &quot;type&quot;: &quot;Feature&quot;}, {&quot;bbox&quot;: [-3.4535055462058466, 51.525111448621615, -3.4535055462058466, 51.525111448621615], &quot;geometry&quot;: {&quot;coordinates&quot;: [-3.4535055462058466, 51.525111448621615], &quot;type&quot;: &quot;Point&quot;}, &quot;id&quot;: &quot;181&quot;, &quot;properties&quot;: {&quot;Area_Ha&quot;: 484875.509977573, &quot;Area_Km&quot;: 4848.76, &quot;COMPANY&quot;: &quot;Leep Networks (Water) Ltd (formerly SSE Water Ltd)&quot;, &quot;LABEL&quot;: &quot;Discontinuous urban fabric&quot;, &quot;__folium_color&quot;: &quot;#ffffcc&quot;}, &quot;type&quot;: &quot;Feature&quot;}, {&quot;bbox&quot;: [-3.4535055462058466, 51.525111448621615, -3.4535055462058466, 51.525111448621615], &quot;geometry&quot;: {&quot;coordinates&quot;: [-3.4535055462058466, 51.525111448621615], &quot;type&quot;: &quot;Point&quot;}, &quot;id&quot;: &quot;187&quot;, &quot;properties&quot;: {&quot;Area_Ha&quot;: 14946738.766961725, &quot;Area_Km&quot;: 149467.39, &quot;COMPANY&quot;: &quot;Leep Networks (Water) Ltd (formerly SSE Water Ltd)&quot;, &quot;LABEL&quot;: &quot;Non-irrigated arable land&quot;, &quot;__folium_color&quot;: &quot;#fff9be&quot;}, &quot;type&quot;: &quot;Feature&quot;}, {&quot;bbox&quot;: [-3.4535055462058466, 51.525111448621615, -3.4535055462058466, 51.525111448621615], &quot;geometry&quot;: {&quot;coordinates&quot;: [-3.4535055462058466, 51.525111448621615], &quot;type&quot;: &quot;Point&quot;}, &quot;id&quot;: &quot;188&quot;, &quot;properties&quot;: {&quot;Area_Ha&quot;: 416787.18052641, &quot;Area_Km&quot;: 4167.87, &quot;COMPANY&quot;: &quot;Leep Networks (Water) Ltd (formerly SSE Water Ltd)&quot;, &quot;LABEL&quot;: &quot;Pastures&quot;, &quot;__folium_color&quot;: &quot;#ffffcc&quot;}, &quot;type&quot;: &quot;Feature&quot;}, {&quot;bbox&quot;: [1.4332360270271824, 52.353491045064516, 1.4332360270271824, 52.353491045064516], &quot;geometry&quot;: {&quot;coordinates&quot;: [1.4332360270271824, 52.353491045064516], &quot;type&quot;: &quot;Point&quot;}, &quot;id&quot;: &quot;211&quot;, &quot;properties&quot;: {&quot;Area_Ha&quot;: 11495733.413436064, &quot;Area_Km&quot;: 114957.33, &quot;COMPANY&quot;: &quot;Northumbrian Water&quot;, &quot;LABEL&quot;: &quot;Non-irrigated arable land&quot;, &quot;__folium_color&quot;: &quot;#fffac1&quot;}, &quot;type&quot;: &quot;Feature&quot;}, {&quot;bbox&quot;: [1.4332360270271824, 52.353491045064516, 1.4332360270271824, 52.353491045064516], &quot;geometry&quot;: {&quot;coordinates&quot;: [1.4332360270271824, 52.353491045064516], &quot;type&quot;: &quot;Point&quot;}, &quot;id&quot;: &quot;212&quot;, &quot;properties&quot;: {&quot;Area_Ha&quot;: 643114.5936146668, &quot;Area_Km&quot;: 6431.15, &quot;COMPANY&quot;: &quot;Northumbrian Water&quot;, &quot;LABEL&quot;: &quot;Pastures&quot;, &quot;__folium_color&quot;: &quot;#ffffcc&quot;}, &quot;type&quot;: &quot;Feature&quot;}, {&quot;bbox&quot;: [0.6159721909325704, 51.789027119976886, 0.6159721909325704, 51.789027119976886], &quot;geometry&quot;: {&quot;coordinates&quot;: [0.6159721909325704, 51.789027119976886], &quot;type&quot;: &quot;Point&quot;}, &quot;id&quot;: &quot;223&quot;, &quot;properties&quot;: {&quot;Area_Ha&quot;: 3736203.4309, &quot;Area_Km&quot;: 37362.03, &quot;COMPANY&quot;: &quot;Northumbrian Water Limited&quot;, &quot;LABEL&quot;: &quot;Non-irrigated arable land&quot;, &quot;__folium_color&quot;: &quot;#fffec9&quot;}, &quot;type&quot;: &quot;Feature&quot;}, {&quot;bbox&quot;: [-0.9329060768761906, 50.87509435548877, -0.9329060768761906, 50.87509435548877], &quot;geometry&quot;: {&quot;coordinates&quot;: [-0.9329060768761906, 50.87509435548877], &quot;type&quot;: &quot;Point&quot;}, &quot;id&quot;: &quot;238&quot;, &quot;properties&quot;: {&quot;Area_Ha&quot;: 3777784.3762088823, &quot;Area_Km&quot;: 37777.84, &quot;COMPANY&quot;: &quot;Portsmouth Water&quot;, &quot;LABEL&quot;: &quot;Non-irrigated arable land&quot;, &quot;__folium_color&quot;: &quot;#fffec9&quot;}, &quot;type&quot;: &quot;Feature&quot;}, {&quot;bbox&quot;: [-0.9329060768761906, 50.87509435548877, -0.9329060768761906, 50.87509435548877], &quot;geometry&quot;: {&quot;coordinates&quot;: [-0.9329060768761906, 50.87509435548877], &quot;type&quot;: &quot;Point&quot;}, &quot;id&quot;: &quot;239&quot;, &quot;properties&quot;: {&quot;Area_Ha&quot;: 28659.2228511482, &quot;Area_Km&quot;: 286.59, &quot;COMPANY&quot;: &quot;Portsmouth Water&quot;, &quot;LABEL&quot;: &quot;Pastures&quot;, &quot;__folium_color&quot;: &quot;#ffffcc&quot;}, &quot;type&quot;: &quot;Feature&quot;}, {&quot;bbox&quot;: [-0.15602805430121705, 51.242243393967776, -0.15602805430121705, 51.242243393967776], &quot;geometry&quot;: {&quot;coordinates&quot;: [-0.15602805430121705, 51.242243393967776], &quot;type&quot;: &quot;Point&quot;}, &quot;id&quot;: &quot;252&quot;, &quot;properties&quot;: {&quot;Area_Ha&quot;: 100449.06879569791, &quot;Area_Km&quot;: 1004.49, &quot;COMPANY&quot;: &quot;SES Water&quot;, &quot;LABEL&quot;: &quot;Discontinuous urban fabric&quot;, &quot;__folium_color&quot;: &quot;#ffffcc&quot;}, &quot;type&quot;: &quot;Feature&quot;}, {&quot;bbox&quot;: [-0.15602805430121705, 51.242243393967776, -0.15602805430121705, 51.242243393967776], &quot;geometry&quot;: {&quot;coordinates&quot;: [-0.15602805430121705, 51.242243393967776], &quot;type&quot;: &quot;Point&quot;}, &quot;id&quot;: &quot;260&quot;, &quot;properties&quot;: {&quot;Area_Ha&quot;: 23225.0328347762, &quot;Area_Km&quot;: 232.25, &quot;COMPANY&quot;: &quot;SES Water&quot;, &quot;LABEL&quot;: &quot;Non-irrigated arable land&quot;, &quot;__folium_color&quot;: &quot;#ffffcc&quot;}, &quot;type&quot;: &quot;Feature&quot;}, {&quot;bbox&quot;: [-0.15602805430121705, 51.242243393967776, -0.15602805430121705, 51.242243393967776], &quot;geometry&quot;: {&quot;coordinates&quot;: [-0.15602805430121705, 51.242243393967776], &quot;type&quot;: &quot;Point&quot;}, &quot;id&quot;: &quot;261&quot;, &quot;properties&quot;: {&quot;Area_Ha&quot;: 193210.533775139, &quot;Area_Km&quot;: 1932.11, &quot;COMPANY&quot;: &quot;SES Water&quot;, &quot;LABEL&quot;: &quot;Pastures&quot;, &quot;__folium_color&quot;: &quot;#ffffcc&quot;}, &quot;type&quot;: &quot;Feature&quot;}, {&quot;bbox&quot;: [-1.8680083642413552, 52.62209610766764, -1.8680083642413552, 52.62209610766764], &quot;geometry&quot;: {&quot;coordinates&quot;: [-1.8680083642413552, 52.62209610766764], &quot;type&quot;: &quot;Point&quot;}, &quot;id&quot;: &quot;272&quot;, &quot;properties&quot;: {&quot;Area_Ha&quot;: 197898.81034849922, &quot;Area_Km&quot;: 1978.99, &quot;COMPANY&quot;: &quot;Severn Trent Water&quot;, &quot;LABEL&quot;: &quot;Discontinuous urban fabric&quot;, &quot;__folium_color&quot;: &quot;#ffffcc&quot;}, &quot;type&quot;: &quot;Feature&quot;}, {&quot;bbox&quot;: [-1.8680083642413552, 52.62209610766764, -1.8680083642413552, 52.62209610766764], &quot;geometry&quot;: {&quot;coordinates&quot;: [-1.8680083642413552, 52.62209610766764], &quot;type&quot;: &quot;Point&quot;}, &quot;id&quot;: &quot;285&quot;, &quot;properties&quot;: {&quot;Area_Ha&quot;: 4105953.1656857636, &quot;Area_Km&quot;: 41059.53, &quot;COMPANY&quot;: &quot;Severn Trent Water&quot;, &quot;LABEL&quot;: &quot;Non-irrigated arable land&quot;, &quot;__folium_color&quot;: &quot;#fffec9&quot;}, &quot;type&quot;: &quot;Feature&quot;}, {&quot;bbox&quot;: [-1.8680083642413552, 52.62209610766764, -1.8680083642413552, 52.62209610766764], &quot;geometry&quot;: {&quot;coordinates&quot;: [-1.8680083642413552, 52.62209610766764], &quot;type&quot;: &quot;Point&quot;}, &quot;id&quot;: &quot;286&quot;, &quot;properties&quot;: {&quot;Area_Ha&quot;: 1748828.481643631, &quot;Area_Km&quot;: 17488.28, &quot;COMPANY&quot;: &quot;Severn Trent Water&quot;, &quot;LABEL&quot;: &quot;Pastures&quot;, &quot;__folium_color&quot;: &quot;#fffecb&quot;}, &quot;type&quot;: &quot;Feature&quot;}, {&quot;bbox&quot;: [0.4414244323163405, 51.09282166137031, 0.4414244323163405, 51.09282166137031], &quot;geometry&quot;: {&quot;coordinates&quot;: [0.4414244323163405, 51.09282166137031], &quot;type&quot;: &quot;Point&quot;}, &quot;id&quot;: &quot;317&quot;, &quot;properties&quot;: {&quot;Area_Ha&quot;: 3958053.9831449776, &quot;Area_Km&quot;: 39580.54, &quot;COMPANY&quot;: &quot;South East Water&quot;, &quot;LABEL&quot;: &quot;Non-irrigated arable land&quot;, &quot;__folium_color&quot;: &quot;#fffec9&quot;}, &quot;type&quot;: &quot;Feature&quot;}, {&quot;bbox&quot;: [0.4414244323163405, 51.09282166137031, 0.4414244323163405, 51.09282166137031], &quot;geometry&quot;: {&quot;coordinates&quot;: [0.4414244323163405, 51.09282166137031], &quot;type&quot;: &quot;Point&quot;}, &quot;id&quot;: &quot;318&quot;, &quot;properties&quot;: {&quot;Area_Ha&quot;: 309248.16736319853, &quot;Area_Km&quot;: 3092.48, &quot;COMPANY&quot;: &quot;South East Water&quot;, &quot;LABEL&quot;: &quot;Pastures&quot;, &quot;__folium_color&quot;: &quot;#ffffcc&quot;}, &quot;type&quot;: &quot;Feature&quot;}, {&quot;bbox&quot;: [0.05317338790661796, 52.21882824586091, 0.05317338790661796, 52.21882824586091], &quot;geometry&quot;: {&quot;coordinates&quot;: [0.05317338790661796, 52.21882824586091], &quot;type&quot;: &quot;Point&quot;}, &quot;id&quot;: &quot;331&quot;, &quot;properties&quot;: {&quot;Area_Ha&quot;: 69113.5318222971, &quot;Area_Km&quot;: 691.14, &quot;COMPANY&quot;: &quot;South Staffordshire Water&quot;, &quot;LABEL&quot;: &quot;Discontinuous urban fabric&quot;, &quot;__folium_color&quot;: &quot;#ffffcc&quot;}, &quot;type&quot;: &quot;Feature&quot;}, {&quot;bbox&quot;: [0.05317338790661796, 52.21882824586091, 0.05317338790661796, 52.21882824586091], &quot;geometry&quot;: {&quot;coordinates&quot;: [0.05317338790661796, 52.21882824586091], &quot;type&quot;: &quot;Point&quot;}, &quot;id&quot;: &quot;341&quot;, &quot;properties&quot;: {&quot;Area_Ha&quot;: 11362788.409114635, &quot;Area_Km&quot;: 113627.88, &quot;COMPANY&quot;: &quot;South Staffordshire Water&quot;, &quot;LABEL&quot;: &quot;Non-irrigated arable land&quot;, &quot;__folium_color&quot;: &quot;#fffbc2&quot;}, &quot;type&quot;: &quot;Feature&quot;}, {&quot;bbox&quot;: [0.05317338790661796, 52.21882824586091, 0.05317338790661796, 52.21882824586091], &quot;geometry&quot;: {&quot;coordinates&quot;: [0.05317338790661796, 52.21882824586091], &quot;type&quot;: &quot;Point&quot;}, &quot;id&quot;: &quot;342&quot;, &quot;properties&quot;: {&quot;Area_Ha&quot;: 703658.846336598, &quot;Area_Km&quot;: 7036.59, &quot;COMPANY&quot;: &quot;South Staffordshire Water&quot;, &quot;LABEL&quot;: &quot;Pastures&quot;, &quot;__folium_color&quot;: &quot;#ffffcc&quot;}, &quot;type&quot;: &quot;Feature&quot;}, {&quot;bbox&quot;: [-2.569279100343333, 51.3695707489636, -2.569279100343333, 51.3695707489636], &quot;geometry&quot;: {&quot;coordinates&quot;: [-2.569279100343333, 51.3695707489636], &quot;type&quot;: &quot;Point&quot;}, &quot;id&quot;: &quot;370&quot;, &quot;properties&quot;: {&quot;Area_Ha&quot;: 4272748.682046648, &quot;Area_Km&quot;: 42727.49, &quot;COMPANY&quot;: &quot;South West Water&quot;, &quot;LABEL&quot;: &quot;Non-irrigated arable land&quot;, &quot;__folium_color&quot;: &quot;#fffdc8&quot;}, &quot;type&quot;: &quot;Feature&quot;}, {&quot;bbox&quot;: [-2.569279100343333, 51.3695707489636, -2.569279100343333, 51.3695707489636], &quot;geometry&quot;: {&quot;coordinates&quot;: [-2.569279100343333, 51.3695707489636], &quot;type&quot;: &quot;Point&quot;}, &quot;id&quot;: &quot;371&quot;, &quot;properties&quot;: {&quot;Area_Ha&quot;: 935146.2120506205, &quot;Area_Km&quot;: 9351.46, &quot;COMPANY&quot;: &quot;South West Water&quot;, &quot;LABEL&quot;: &quot;Pastures&quot;, &quot;__folium_color&quot;: &quot;#ffffcc&quot;}, &quot;type&quot;: &quot;Feature&quot;}, {&quot;bbox&quot;: [0.5989521817986297, 51.400677136788616, 0.5989521817986297, 51.400677136788616], &quot;geometry&quot;: {&quot;coordinates&quot;: [0.5989521817986297, 51.400677136788616], &quot;type&quot;: &quot;Point&quot;}, &quot;id&quot;: &quot;403&quot;, &quot;properties&quot;: {&quot;Area_Ha&quot;: 4035804.1281553963, &quot;Area_Km&quot;: 40358.04, &quot;COMPANY&quot;: &quot;Southern Water&quot;, &quot;LABEL&quot;: &quot;Non-irrigated arable land&quot;, &quot;__folium_color&quot;: &quot;#fffec9&quot;}, &quot;type&quot;: &quot;Feature&quot;}, {&quot;bbox&quot;: [0.5989521817986297, 51.400677136788616, 0.5989521817986297, 51.400677136788616], &quot;geometry&quot;: {&quot;coordinates&quot;: [0.5989521817986297, 51.400677136788616], &quot;type&quot;: &quot;Point&quot;}, &quot;id&quot;: &quot;404&quot;, &quot;properties&quot;: {&quot;Area_Ha&quot;: 433199.2195827848, &quot;Area_Km&quot;: 4331.99, &quot;COMPANY&quot;: &quot;Southern Water&quot;, &quot;LABEL&quot;: &quot;Pastures&quot;, &quot;__folium_color&quot;: &quot;#ffffcc&quot;}, &quot;type&quot;: &quot;Feature&quot;}, {&quot;bbox&quot;: [-0.5418756590738363, 51.16452114680515, -0.5418756590738363, 51.16452114680515], &quot;geometry&quot;: {&quot;coordinates&quot;: [-0.5418756590738363, 51.16452114680515], &quot;type&quot;: &quot;Point&quot;}, &quot;id&quot;: &quot;419&quot;, &quot;properties&quot;: {&quot;Area_Ha&quot;: 172634.2569365036, &quot;Area_Km&quot;: 1726.34, &quot;COMPANY&quot;: &quot;Thames Water&quot;, &quot;LABEL&quot;: &quot;Discontinuous urban fabric&quot;, &quot;__folium_color&quot;: &quot;#ffffcc&quot;}, &quot;type&quot;: &quot;Feature&quot;}, {&quot;bbox&quot;: [-0.5418756590738363, 51.16452114680515, -0.5418756590738363, 51.16452114680515], &quot;geometry&quot;: {&quot;coordinates&quot;: [-0.5418756590738363, 51.16452114680515], &quot;type&quot;: &quot;Point&quot;}, &quot;id&quot;: &quot;432&quot;, &quot;properties&quot;: {&quot;Area_Ha&quot;: 7577765.860466296, &quot;Area_Km&quot;: 75777.66, &quot;COMPANY&quot;: &quot;Thames Water&quot;, &quot;LABEL&quot;: &quot;Non-irrigated arable land&quot;, &quot;__folium_color&quot;: &quot;#fffcc5&quot;}, &quot;type&quot;: &quot;Feature&quot;}, {&quot;bbox&quot;: [-0.5418756590738363, 51.16452114680515, -0.5418756590738363, 51.16452114680515], &quot;geometry&quot;: {&quot;coordinates&quot;: [-0.5418756590738363, 51.16452114680515], &quot;type&quot;: &quot;Point&quot;}, &quot;id&quot;: &quot;433&quot;, &quot;properties&quot;: {&quot;Area_Ha&quot;: 519727.85354267096, &quot;Area_Km&quot;: 5197.28, &quot;COMPANY&quot;: &quot;Thames Water&quot;, &quot;LABEL&quot;: &quot;Pastures&quot;, &quot;__folium_color&quot;: &quot;#ffffcc&quot;}, &quot;type&quot;: &quot;Feature&quot;}, {&quot;bbox&quot;: [-2.709916243559082, 54.05274579707847, -2.709916243559082, 54.05274579707847], &quot;geometry&quot;: {&quot;coordinates&quot;: [-2.709916243559082, 54.05274579707847], &quot;type&quot;: &quot;Point&quot;}, &quot;id&quot;: &quot;461&quot;, &quot;properties&quot;: {&quot;Area_Ha&quot;: 202160.5369989333, &quot;Area_Km&quot;: 2021.61, &quot;COMPANY&quot;: &quot;United Utilities&quot;, &quot;LABEL&quot;: &quot;Non-irrigated arable land&quot;, &quot;__folium_color&quot;: &quot;#ffffcc&quot;}, &quot;type&quot;: &quot;Feature&quot;}, {&quot;bbox&quot;: [-2.709916243559082, 54.05274579707847, -2.709916243559082, 54.05274579707847], &quot;geometry&quot;: {&quot;coordinates&quot;: [-2.709916243559082, 54.05274579707847], &quot;type&quot;: &quot;Point&quot;}, &quot;id&quot;: &quot;462&quot;, &quot;properties&quot;: {&quot;Area_Ha&quot;: 1415056.905975445, &quot;Area_Km&quot;: 14150.57, &quot;COMPANY&quot;: &quot;United Utilities&quot;, &quot;LABEL&quot;: &quot;Pastures&quot;, &quot;__folium_color&quot;: &quot;#ffffcc&quot;}, &quot;type&quot;: &quot;Feature&quot;}, {&quot;bbox&quot;: [-1.664524476935442, 51.24195925013381, -1.664524476935442, 51.24195925013381], &quot;geometry&quot;: {&quot;coordinates&quot;: [-1.664524476935442, 51.24195925013381], &quot;type&quot;: &quot;Point&quot;}, &quot;id&quot;: &quot;478&quot;, &quot;properties&quot;: {&quot;Area_Ha&quot;: 22940.9754283344, &quot;Area_Km&quot;: 229.41, &quot;COMPANY&quot;: &quot;Veolia Water Projects Ltd&quot;, &quot;LABEL&quot;: &quot;Natural grasslands&quot;, &quot;__folium_color&quot;: &quot;#ffffcc&quot;}, &quot;type&quot;: &quot;Feature&quot;}, {&quot;bbox&quot;: [-1.664524476935442, 51.24195925013381, -1.664524476935442, 51.24195925013381], &quot;geometry&quot;: {&quot;coordinates&quot;: [-1.664524476935442, 51.24195925013381], &quot;type&quot;: &quot;Point&quot;}, &quot;id&quot;: &quot;479&quot;, &quot;properties&quot;: {&quot;Area_Ha&quot;: 3736498.196838396, &quot;Area_Km&quot;: 37364.98, &quot;COMPANY&quot;: &quot;Veolia Water Projects Ltd&quot;, &quot;LABEL&quot;: &quot;Non-irrigated arable land&quot;, &quot;__folium_color&quot;: &quot;#fffec9&quot;}, &quot;type&quot;: &quot;Feature&quot;}, {&quot;bbox&quot;: [-1.664524476935442, 51.24195925013381, -1.664524476935442, 51.24195925013381], &quot;geometry&quot;: {&quot;coordinates&quot;: [-1.664524476935442, 51.24195925013381], &quot;type&quot;: &quot;Point&quot;}, &quot;id&quot;: &quot;480&quot;, &quot;properties&quot;: {&quot;Area_Ha&quot;: 736.9143178166, &quot;Area_Km&quot;: 7.37, &quot;COMPANY&quot;: &quot;Veolia Water Projects Ltd&quot;, &quot;LABEL&quot;: &quot;Pastures&quot;, &quot;__folium_color&quot;: &quot;#ffffcc&quot;}, &quot;type&quot;: &quot;Feature&quot;}, {&quot;bbox&quot;: [-2.473482205028546, 51.05317218858137, -2.473482205028546, 51.05317218858137], &quot;geometry&quot;: {&quot;coordinates&quot;: [-2.473482205028546, 51.05317218858137], &quot;type&quot;: &quot;Point&quot;}, &quot;id&quot;: &quot;504&quot;, &quot;properties&quot;: {&quot;Area_Ha&quot;: 4017044.77666078, &quot;Area_Km&quot;: 40170.45, &quot;COMPANY&quot;: &quot;Wessex Water&quot;, &quot;LABEL&quot;: &quot;Non-irrigated arable land&quot;, &quot;__folium_color&quot;: &quot;#fffec9&quot;}, &quot;type&quot;: &quot;Feature&quot;}, {&quot;bbox&quot;: [-2.473482205028546, 51.05317218858137, -2.473482205028546, 51.05317218858137], &quot;geometry&quot;: {&quot;coordinates&quot;: [-2.473482205028546, 51.05317218858137], &quot;type&quot;: &quot;Point&quot;}, &quot;id&quot;: &quot;505&quot;, &quot;properties&quot;: {&quot;Area_Ha&quot;: 585885.0953664484, &quot;Area_Km&quot;: 5858.85, &quot;COMPANY&quot;: &quot;Wessex Water&quot;, &quot;LABEL&quot;: &quot;Pastures&quot;, &quot;__folium_color&quot;: &quot;#ffffcc&quot;}, &quot;type&quot;: &quot;Feature&quot;}, {&quot;bbox&quot;: [-1.2751225637763641, 53.97398898171118, -1.2751225637763641, 53.97398898171118], &quot;geometry&quot;: {&quot;coordinates&quot;: [-1.2751225637763641, 53.97398898171118], &quot;type&quot;: &quot;Point&quot;}, &quot;id&quot;: &quot;535&quot;, &quot;properties&quot;: {&quot;Area_Ha&quot;: 3774794.500725329, &quot;Area_Km&quot;: 37747.95, &quot;COMPANY&quot;: &quot;Yorkshire Water&quot;, &quot;LABEL&quot;: &quot;Non-irrigated arable land&quot;, &quot;__folium_color&quot;: &quot;#fffec9&quot;}, &quot;type&quot;: &quot;Feature&quot;}, {&quot;bbox&quot;: [-1.2751225637763641, 53.97398898171118, -1.2751225637763641, 53.97398898171118], &quot;geometry&quot;: {&quot;coordinates&quot;: [-1.2751225637763641, 53.97398898171118], &quot;type&quot;: &quot;Point&quot;}, &quot;id&quot;: &quot;536&quot;, &quot;properties&quot;: {&quot;Area_Ha&quot;: 1227657.401943614, &quot;Area_Km&quot;: 12276.57, &quot;COMPANY&quot;: &quot;Yorkshire Water&quot;, &quot;LABEL&quot;: &quot;Pastures&quot;, &quot;__folium_color&quot;: &quot;#ffffcc&quot;}, &quot;type&quot;: &quot;Feature&quot;}], &quot;type&quot;: &quot;FeatureCollection&quot;});\n",
       "\n",
       "        \n",
       "    \n",
       "    geo_json_920ac29797a4cab869df76003f423330.bindTooltip(\n",
       "    function(layer){\n",
       "    let div = L.DomUtil.create(&#x27;div&#x27;);\n",
       "    \n",
       "    let handleObject = feature=&gt;typeof(feature)==&#x27;object&#x27; ? JSON.stringify(feature) : feature;\n",
       "    let fields = [&quot;COMPANY&quot;, &quot;LABEL&quot;, &quot;Area_Ha&quot;, &quot;Area_Km&quot;];\n",
       "    let aliases = [&quot;COMPANY&quot;, &quot;LABEL&quot;, &quot;Area_Ha&quot;, &quot;Area_Km&quot;];\n",
       "    let table = &#x27;&lt;table&gt;&#x27; +\n",
       "        String(\n",
       "        fields.map(\n",
       "        (v,i)=&gt;\n",
       "        `&lt;tr&gt;\n",
       "            &lt;th&gt;${aliases[i]}&lt;/th&gt;\n",
       "            \n",
       "            &lt;td&gt;${handleObject(layer.feature.properties[v])}&lt;/td&gt;\n",
       "        &lt;/tr&gt;`).join(&#x27;&#x27;))\n",
       "    +&#x27;&lt;/table&gt;&#x27;;\n",
       "    div.innerHTML=table;\n",
       "    \n",
       "    return div\n",
       "    }\n",
       "    ,{&quot;className&quot;: &quot;foliumtooltip&quot;, &quot;sticky&quot;: true});\n",
       "                     \n",
       "    \n",
       "    var color_map_4a24391100652e9176f5d908ad2ffa71 = {};\n",
       "\n",
       "    \n",
       "    color_map_4a24391100652e9176f5d908ad2ffa71.color = d3.scale.threshold()\n",
       "              .domain([54.5065299328, 729509.5119006602, 1458964.5172713876, 2188419.522642115, 2917874.5280128424, 3647329.5333835697, 4376784.538754297, 5106239.544125024, 5835694.549495752, 6565149.55486648, 7294604.5602372065, 8024059.565607934, 8753514.570978662, 9482969.576349389, 10212424.581720116, 10941879.587090844, 11671334.592461571, 12400789.597832298, 13130244.603203027, 13859699.608573753, 14589154.61394448, 15318609.619315209, 16048064.624685936, 16777519.63005666, 17506974.63542739, 18236429.640798118, 18965884.646168843, 19695339.65153957, 20424794.656910297, 21154249.66228103, 21883704.667651754, 22613159.673022483, 23342614.678393207, 24072069.683763936, 24801524.68913466, 25530979.69450539, 26260434.69987612, 26989889.705246847, 27719344.710617572, 28448799.7159883, 29178254.721359026, 29907709.726729754, 30637164.732100483, 31366619.73747121, 32096074.742841937, 32825529.748212665, 33554984.753583394, 34284439.75895412, 35013894.76432485, 35743349.76969558, 36472804.77506631, 37202259.78043703, 37931714.78580776, 38661169.79117849, 39390624.796549216, 40120079.80191994, 40849534.807290666, 41578989.812661394, 42308444.81803213, 43037899.82340285, 43767354.82877358, 44496809.83414431, 45226264.83951504, 45955719.84488576, 46685174.85025649, 47414629.85562722, 48144084.860997945, 48873539.86636867, 49602994.871739395, 50332449.87711012, 51061904.88248085, 51791359.88785158, 52520814.89322231, 53250269.89859304, 53979724.90396377, 54709179.90933449, 55438634.91470522, 56168089.920075946, 56897544.925446674, 57626999.930817395, 58356454.936188124, 59085909.94155885, 59815364.94692958, 60544819.9523003, 61274274.95767104, 62003729.96304177, 62733184.968412496, 63462639.97378322, 64192094.979153946, 64921549.984524675, 65651004.9898954, 66380459.995266125, 67109915.00063685, 67839370.00600757, 68568825.0113783, 69298280.01674904, 70027735.02211976, 70757190.02749048, 71486645.03286122, 72216100.03823194, 72945555.04360268, 73675010.0489734, 74404465.05434412, 75133920.05971485, 75863375.06508557, 76592830.0704563, 77322285.07582703, 78051740.08119775, 78781195.08656849, 79510650.09193921, 80240105.09730993, 80969560.10268067, 81699015.10805139, 82428470.11342211, 83157925.11879285, 83887380.12416357, 84616835.12953432, 85346290.13490504, 86075745.14027576, 86805200.1456465, 87534655.15101722, 88264110.15638794, 88993565.16175868, 89723020.1671294, 90452475.17250013, 91181930.17787085, 91911385.18324158, 92640840.18861231, 93370295.19398303, 94099750.19935375, 94829205.20472449, 95558660.21009521, 96288115.21546595, 97017570.22083667, 97747025.22620739, 98476480.23157813, 99205935.23694885, 99935390.24231957, 100664845.2476903, 101394300.25306103, 102123755.25843176, 102853210.2638025, 103582665.26917322, 104312120.27454396, 105041575.27991468, 105771030.2852854, 106500485.29065613, 107229940.29602686, 107959395.30139759, 108688850.30676831, 109418305.31213903, 110147760.31750977, 110877215.32288049, 111606670.32825121, 112336125.33362195, 113065580.33899267, 113795035.3443634, 114524490.34973413, 115253945.35510485, 115983400.36047558, 116712855.3658463, 117442310.37121703, 118171765.37658776, 118901220.38195848, 119630675.38732922, 120360130.39269994, 121089585.39807066, 121819040.40344141, 122548495.40881214, 123277950.41418287, 124007405.4195536, 124736860.42492431, 125466315.43029505, 126195770.43566577, 126925225.4410365, 127654680.44640723, 128384135.45177795, 129113590.45714869, 129843045.4625194, 130572500.46789013, 131301955.47326086, 132031410.47863159, 132760865.4840023, 133490320.48937304, 134219775.49474376, 134949230.5001145, 135678685.5054852, 136408140.51085594, 137137595.51622668, 137867050.52159742, 138596505.52696815, 139325960.53233886, 140055415.5377096, 140784870.54308033, 141514325.54845104, 142243780.55382177, 142973235.5591925, 143702690.56456324, 144432145.56993395, 145161600.5753047, 145891055.58067542, 146620510.58604613, 147349965.59141687, 148079420.5967876, 148808875.6021583, 149538330.60752904, 150267785.61289978, 150997240.6182705, 151726695.62364122, 152456150.62901196, 153185605.63438267, 153915060.6397534, 154644515.64512414, 155373970.65049487, 156103425.65586558, 156832880.66123632, 157562335.66660705, 158291790.67197776, 159021245.6773485, 159750700.68271923, 160480155.68808994, 161209610.69346067, 161939065.6988314, 162668520.70420212, 163397975.70957285, 164127430.7149436, 164856885.7203143, 165586340.72568503, 166315795.73105577, 167045250.7364265, 167774705.7417972, 168504160.74716797, 169233615.7525387, 169963070.75790942, 170692525.76328015, 171421980.7686509, 172151435.7740216, 172880890.77939233, 173610345.78476307, 174339800.79013377, 175069255.7955045, 175798710.80087525, 176528165.80624595, 177257620.8116167, 177987075.81698743, 178716530.82235816, 179445985.82772887, 180175440.8330996, 180904895.83847034, 181634350.84384105, 182363805.84921178, 183093260.85458252, 183822715.85995322, 184552170.86532396, 185281625.8706947, 186011080.8760654, 186740535.88143614, 187469990.88680688, 188199445.89217758, 188928900.89754832, 189658355.90291905, 190387810.9082898, 191117265.9136605, 191846720.91903123, 192576175.92440197, 193305630.92977268, 194035085.9351434, 194764540.94051415, 195493995.94588485, 196223450.9512556, 196952905.95662633, 197682360.96199703, 198411815.96736777, 199141270.9727385, 199870725.9781092, 200600180.98347995, 201329635.98885068, 202059090.99422142, 202788545.99959213, 203518001.00496286, 204247456.0103336, 204976911.0157043, 205706366.02107507, 206435821.0264458, 207165276.0318165, 207894731.03718725, 208624186.04255798, 209353641.0479287, 210083096.05329943, 210812551.05867016, 211542006.06404087, 212271461.0694116, 213000916.07478234, 213730371.08015308, 214459826.08552378, 215189281.09089452, 215918736.09626526, 216648191.10163596, 217377646.1070067, 218107101.11237743, 218836556.11774814, 219566011.12311888, 220295466.1284896, 221024921.13386032, 221754376.13923106, 222483831.1446018, 223213286.1499725, 223942741.15534323, 224672196.16071397, 225401651.1660847, 226131106.1714554, 226860561.17682615, 227590016.1821969, 228319471.1875676, 229048926.19293833, 229778381.19830906, 230507836.20367977, 231237291.2090505, 231966746.21442124, 232696201.21979195, 233425656.22516268, 234155111.23053342, 234884566.23590413, 235614021.24127486, 236343476.2466456, 237072931.25201634, 237802386.25738704, 238531841.26275778, 239261296.2681285, 239990751.27349922, 240720206.27886996, 241449661.2842407, 242179116.2896114, 242908571.29498217, 243638026.3003529, 244367481.3057236, 245096936.31109434, 245826391.31646508, 246555846.32183582, 247285301.32720652, 248014756.33257726, 248744211.337948, 249473666.3433187, 250203121.34868944, 250932576.35406017, 251662031.35943088, 252391486.36480162, 253120941.37017235, 253850396.37554306, 254579851.3809138, 255309306.38628453, 256038761.39165524, 256768216.39702597, 257497671.4023967, 258227126.40776744, 258956581.41313815, 259686036.4185089, 260415491.42387962, 261144946.42925033, 261874401.43462107, 262603856.4399918, 263333311.4453625, 264062766.45073324, 264792221.45610398, 265521676.4614747, 266251131.46684542, 266980586.47221616, 267710041.47758687, 268439496.4829576, 269168951.48832834, 269898406.4936991, 270627861.4990698, 271357316.5044405, 272086771.5098112, 272816226.51518196, 273545681.5205527, 274275136.52592343, 275004591.53129417, 275734046.5366649, 276463501.54203564, 277192956.5474064, 277922411.5527771, 278651866.5581478, 279381321.5635185, 280110776.56888926, 280840231.57426, 281569686.57963073, 282299141.58500147, 283028596.59037215, 283758051.5957429, 284487506.6011136, 285216961.60648435, 285946416.6118551, 286675871.6172258, 287405326.62259656, 288134781.62796724, 288864236.633338, 289593691.6387087, 290323146.64407945, 291052601.6494502, 291782056.6548209, 292511511.6601916, 293240966.66556233, 293970421.67093307, 294699876.6763038, 295429331.68167454, 296158786.6870453, 296888241.69241595, 297617696.6977867, 298347151.7031574, 299076606.70852816, 299806061.7138989, 300535516.71926963, 301264971.72464037, 301994426.73001105, 302723881.7353818, 303453336.7407525, 304182791.74612325, 304912246.751494, 305641701.7568647, 306371156.7622354, 307100611.76760614, 307830066.7729769, 308559521.7783476, 309288976.78371835, 310018431.7890891, 310747886.7944598, 311477341.7998305, 312206796.80520123, 312936251.81057197, 313665706.8159427, 314395161.82131344, 315124616.8266842, 315854071.83205485, 316583526.8374256, 317312981.8427963, 318042436.84816706, 318771891.8535378, 319501346.85890853, 320230801.8642792, 320960256.86964995, 321689711.8750207, 322419166.8803914, 323148621.88576216, 323878076.8911329, 324607531.8965036, 325336986.9018743, 326066441.90724504, 326795896.9126158, 327525351.9179865, 328254806.92335725, 328984261.928728, 329713716.93409866, 330443171.9394694, 331172626.94484013, 331902081.95021087, 332631536.9555816, 333360991.96095234, 334090446.9663231, 334819901.97169375, 335549356.9770645, 336278811.9824353, 337008266.987806, 337737721.99317676, 338467176.9985475, 339196632.0039182, 339926087.0092889, 340655542.01465964, 341384997.0200304, 342114452.0254011, 342843907.03077185, 343573362.0361426, 344302817.04151326, 345032272.046884, 345761727.05225474, 346491182.0576255, 347220637.0629962, 347950092.06836694, 348679547.0737376, 349409002.07910836, 350138457.0844791, 350867912.0898498, 351597367.09522057, 352326822.1005913, 353056277.105962, 353785732.1113327, 354515187.11670345, 355244642.1220742, 355974097.1274449, 356703552.13281566, 357433007.1381864, 358162462.1435571, 358891917.1489278, 359621372.15429854, 360350827.1596693, 361080282.16504, 361809737.17041075, 362539192.1757814, 363268647.18115216, 363998102.1865229])\n",
       "              .range([&#x27;#ffffccff&#x27;, &#x27;#ffffccff&#x27;, &#x27;#fffecbff&#x27;, &#x27;#fffecaff&#x27;, &#x27;#fffec9ff&#x27;, &#x27;#fffec9ff&#x27;, &#x27;#fffdc8ff&#x27;, &#x27;#fffdc7ff&#x27;, &#x27;#fffdc6ff&#x27;, &#x27;#fffdc6ff&#x27;, &#x27;#fffcc5ff&#x27;, &#x27;#fffcc5ff&#x27;, &#x27;#fffcc4ff&#x27;, &#x27;#fffcc3ff&#x27;, &#x27;#fffbc2ff&#x27;, &#x27;#fffbc2ff&#x27;, &#x27;#fffac1ff&#x27;, &#x27;#fffac1ff&#x27;, &#x27;#fffac0ff&#x27;, &#x27;#fffabfff&#x27;, &#x27;#fff9beff&#x27;, &#x27;#fff9beff&#x27;, &#x27;#fff9bdff&#x27;, &#x27;#fff9bcff&#x27;, &#x27;#fff8bbff&#x27;, &#x27;#fff8baff&#x27;, &#x27;#fff8baff&#x27;, &#x27;#fff8b9ff&#x27;, &#x27;#fff7b9ff&#x27;, &#x27;#fff7b8ff&#x27;, &#x27;#fff7b7ff&#x27;, &#x27;#fff7b6ff&#x27;, &#x27;#fff6b6ff&#x27;, &#x27;#fff6b5ff&#x27;, &#x27;#fff5b4ff&#x27;, &#x27;#fff5b3ff&#x27;, &#x27;#fff5b3ff&#x27;, &#x27;#fff5b2ff&#x27;, &#x27;#fff4b1ff&#x27;, &#x27;#fff4b0ff&#x27;, &#x27;#fff4b0ff&#x27;, &#x27;#fff4afff&#x27;, &#x27;#fff3afff&#x27;, &#x27;#fff3aeff&#x27;, &#x27;#fff3adff&#x27;, &#x27;#fff2acff&#x27;, &#x27;#fff2acff&#x27;, &#x27;#fff1abff&#x27;, &#x27;#fff1aaff&#x27;, &#x27;#fff1a9ff&#x27;, &#x27;#fff1a9ff&#x27;, &#x27;#fff0a8ff&#x27;, &#x27;#fff0a8ff&#x27;, &#x27;#fff0a7ff&#x27;, &#x27;#fff0a6ff&#x27;, &#x27;#ffefa5ff&#x27;, &#x27;#ffefa5ff&#x27;, &#x27;#ffefa4ff&#x27;, &#x27;#ffefa4ff&#x27;, &#x27;#ffeea3ff&#x27;, &#x27;#ffeea2ff&#x27;, &#x27;#ffeda1ff&#x27;, &#x27;#ffeda0ff&#x27;, &#x27;#ffeda0ff&#x27;, &#x27;#ffed9fff&#x27;, &#x27;#ffec9fff&#x27;, &#x27;#ffec9eff&#x27;, &#x27;#ffec9dff&#x27;, &#x27;#ffec9cff&#x27;, &#x27;#ffeb9cff&#x27;, &#x27;#ffeb9bff&#x27;, &#x27;#ffea9bff&#x27;, &#x27;#ffea9aff&#x27;, &#x27;#ffea99ff&#x27;, &#x27;#ffea98ff&#x27;, &#x27;#ffe998ff&#x27;, &#x27;#ffe997ff&#x27;, &#x27;#ffe996ff&#x27;, &#x27;#ffe995ff&#x27;, &#x27;#ffe895ff&#x27;, &#x27;#ffe894ff&#x27;, &#x27;#ffe794ff&#x27;, &#x27;#ffe793ff&#x27;, &#x27;#ffe792ff&#x27;, &#x27;#ffe691ff&#x27;, &#x27;#ffe691ff&#x27;, &#x27;#ffe590ff&#x27;, &#x27;#ffe590ff&#x27;, &#x27;#ffe58fff&#x27;, &#x27;#ffe58eff&#x27;, &#x27;#ffe48dff&#x27;, &#x27;#ffe48dff&#x27;, &#x27;#ffe48cff&#x27;, &#x27;#ffe48cff&#x27;, &#x27;#fee38bff&#x27;, &#x27;#fee38aff&#x27;, &#x27;#fee289ff&#x27;, &#x27;#fee288ff&#x27;, &#x27;#fee288ff&#x27;, &#x27;#fee287ff&#x27;, &#x27;#fee187ff&#x27;, &#x27;#fee186ff&#x27;, &#x27;#fee085ff&#x27;, &#x27;#fee084ff&#x27;, &#x27;#fee084ff&#x27;, &#x27;#fee083ff&#x27;, &#x27;#fedf83ff&#x27;, &#x27;#fedf82ff&#x27;, &#x27;#fede82ff&#x27;, &#x27;#fede81ff&#x27;, &#x27;#fede80ff&#x27;, &#x27;#fede7fff&#x27;, &#x27;#fedd7fff&#x27;, &#x27;#fedd7eff&#x27;, &#x27;#fedd7dff&#x27;, &#x27;#fedd7cff&#x27;, &#x27;#fedc7cff&#x27;, &#x27;#fedc7bff&#x27;, &#x27;#fedb7bff&#x27;, &#x27;#fedb7aff&#x27;, &#x27;#fedb79ff&#x27;, &#x27;#fedb78ff&#x27;, &#x27;#feda78ff&#x27;, &#x27;#fed977ff&#x27;, &#x27;#fed977ff&#x27;, &#x27;#fed976ff&#x27;, &#x27;#fed975ff&#x27;, &#x27;#fed874ff&#x27;, &#x27;#fed774ff&#x27;, &#x27;#fed673ff&#x27;, &#x27;#fed673ff&#x27;, &#x27;#fed572ff&#x27;, &#x27;#fed571ff&#x27;, &#x27;#fed470ff&#x27;, &#x27;#fed46fff&#x27;, &#x27;#fed36fff&#x27;, &#x27;#fed26eff&#x27;, &#x27;#fed16eff&#x27;, &#x27;#fed16dff&#x27;, &#x27;#fed06cff&#x27;, &#x27;#fed06bff&#x27;, &#x27;#fecf6bff&#x27;, &#x27;#fecf6aff&#x27;, &#x27;#fece6aff&#x27;, &#x27;#fecd69ff&#x27;, &#x27;#fecc68ff&#x27;, &#x27;#fecc67ff&#x27;, &#x27;#fecb67ff&#x27;, &#x27;#fecb66ff&#x27;, &#x27;#feca66ff&#x27;, &#x27;#feca65ff&#x27;, &#x27;#fec965ff&#x27;, &#x27;#fec964ff&#x27;, &#x27;#fec863ff&#x27;, &#x27;#fec762ff&#x27;, &#x27;#fec662ff&#x27;, &#x27;#fec661ff&#x27;, &#x27;#fec560ff&#x27;, &#x27;#fec55fff&#x27;, &#x27;#fec45fff&#x27;, &#x27;#fec45eff&#x27;, &#x27;#fec35eff&#x27;, &#x27;#fec25dff&#x27;, &#x27;#fec15cff&#x27;, &#x27;#fec05bff&#x27;, &#x27;#fec05bff&#x27;, &#x27;#febf5aff&#x27;, &#x27;#febf5aff&#x27;, &#x27;#febe59ff&#x27;, &#x27;#febe58ff&#x27;, &#x27;#febd57ff&#x27;, &#x27;#febc56ff&#x27;, &#x27;#febb56ff&#x27;, &#x27;#febb55ff&#x27;, &#x27;#feba55ff&#x27;, &#x27;#feba54ff&#x27;, &#x27;#feb953ff&#x27;, &#x27;#feb952ff&#x27;, &#x27;#feb852ff&#x27;, &#x27;#feb751ff&#x27;, &#x27;#feb651ff&#x27;, &#x27;#feb650ff&#x27;, &#x27;#feb54fff&#x27;, &#x27;#feb54eff&#x27;, &#x27;#feb44eff&#x27;, &#x27;#feb44dff&#x27;, &#x27;#feb34dff&#x27;, &#x27;#feb34cff&#x27;, &#x27;#feb24cff&#x27;, &#x27;#feb14bff&#x27;, &#x27;#feb04bff&#x27;, &#x27;#feb04bff&#x27;, &#x27;#feaf4bff&#x27;, &#x27;#feaf4aff&#x27;, &#x27;#feae4aff&#x27;, &#x27;#feae4aff&#x27;, &#x27;#fead4aff&#x27;, &#x27;#fead49ff&#x27;, &#x27;#feac49ff&#x27;, &#x27;#feab49ff&#x27;, &#x27;#feab49ff&#x27;, &#x27;#feaa48ff&#x27;, &#x27;#fea948ff&#x27;, &#x27;#fea848ff&#x27;, &#x27;#fea848ff&#x27;, &#x27;#fea747ff&#x27;, &#x27;#fea747ff&#x27;, &#x27;#fea647ff&#x27;, &#x27;#fea646ff&#x27;, &#x27;#fea546ff&#x27;, &#x27;#fea546ff&#x27;, &#x27;#fea446ff&#x27;, &#x27;#fea345ff&#x27;, &#x27;#fea245ff&#x27;, &#x27;#fea245ff&#x27;, &#x27;#fea145ff&#x27;, &#x27;#fea144ff&#x27;, &#x27;#fea044ff&#x27;, &#x27;#fea044ff&#x27;, &#x27;#fe9f44ff&#x27;, &#x27;#fd9f43ff&#x27;, &#x27;#fd9e43ff&#x27;, &#x27;#fd9e43ff&#x27;, &#x27;#fd9d43ff&#x27;, &#x27;#fd9d42ff&#x27;, &#x27;#fd9c42ff&#x27;, &#x27;#fd9b42ff&#x27;, &#x27;#fd9a42ff&#x27;, &#x27;#fd9a41ff&#x27;, &#x27;#fd9941ff&#x27;, &#x27;#fd9941ff&#x27;, &#x27;#fd9841ff&#x27;, &#x27;#fd9840ff&#x27;, &#x27;#fd9740ff&#x27;, &#x27;#fd9740ff&#x27;, &#x27;#fd9640ff&#x27;, &#x27;#fd953fff&#x27;, &#x27;#fd953fff&#x27;, &#x27;#fd943fff&#x27;, &#x27;#fd933fff&#x27;, &#x27;#fd923eff&#x27;, &#x27;#fd923eff&#x27;, &#x27;#fd913eff&#x27;, &#x27;#fd913eff&#x27;, &#x27;#fd903dff&#x27;, &#x27;#fd903dff&#x27;, &#x27;#fd8f3dff&#x27;, &#x27;#fd8f3dff&#x27;, &#x27;#fd8e3cff&#x27;, &#x27;#fd8e3cff&#x27;, &#x27;#fd8d3cff&#x27;, &#x27;#fd8c3bff&#x27;, &#x27;#fd8a3bff&#x27;, &#x27;#fd893bff&#x27;, &#x27;#fd883bff&#x27;, &#x27;#fd873aff&#x27;, &#x27;#fd863aff&#x27;, &#x27;#fd8539ff&#x27;, &#x27;#fd8439ff&#x27;, &#x27;#fd8339ff&#x27;, &#x27;#fd8239ff&#x27;, &#x27;#fd8138ff&#x27;, &#x27;#fd8038ff&#x27;, &#x27;#fd7f38ff&#x27;, &#x27;#fd7e38ff&#x27;, &#x27;#fd7d37ff&#x27;, &#x27;#fd7c37ff&#x27;, &#x27;#fd7b37ff&#x27;, &#x27;#fd7a37ff&#x27;, &#x27;#fd7936ff&#x27;, &#x27;#fd7836ff&#x27;, &#x27;#fd7736ff&#x27;, &#x27;#fd7636ff&#x27;, &#x27;#fd7535ff&#x27;, &#x27;#fd7435ff&#x27;, &#x27;#fd7334ff&#x27;, &#x27;#fd7234ff&#x27;, &#x27;#fd7134ff&#x27;, &#x27;#fd7034ff&#x27;, &#x27;#fd6f33ff&#x27;, &#x27;#fd6e33ff&#x27;, &#x27;#fd6d33ff&#x27;, &#x27;#fc6c33ff&#x27;, &#x27;#fc6b32ff&#x27;, &#x27;#fc6a32ff&#x27;, &#x27;#fc6932ff&#x27;, &#x27;#fc6832ff&#x27;, &#x27;#fc6731ff&#x27;, &#x27;#fc6631ff&#x27;, &#x27;#fc6530ff&#x27;, &#x27;#fc6430ff&#x27;, &#x27;#fc6330ff&#x27;, &#x27;#fc622fff&#x27;, &#x27;#fc612fff&#x27;, &#x27;#fc602fff&#x27;, &#x27;#fc5f2fff&#x27;, &#x27;#fc5e2eff&#x27;, &#x27;#fc5d2eff&#x27;, &#x27;#fc5c2eff&#x27;, &#x27;#fc5b2eff&#x27;, &#x27;#fc5a2dff&#x27;, &#x27;#fc592dff&#x27;, &#x27;#fc582cff&#x27;, &#x27;#fc572cff&#x27;, &#x27;#fc562cff&#x27;, &#x27;#fc552cff&#x27;, &#x27;#fc542bff&#x27;, &#x27;#fc532bff&#x27;, &#x27;#fc522bff&#x27;, &#x27;#fc512bff&#x27;, &#x27;#fc502aff&#x27;, &#x27;#fc4f2aff&#x27;, &#x27;#fc4e2aff&#x27;, &#x27;#fc4d2aff&#x27;, &#x27;#fc4c29ff&#x27;, &#x27;#fc4b29ff&#x27;, &#x27;#fb4a29ff&#x27;, &#x27;#fa4a29ff&#x27;, &#x27;#fa4928ff&#x27;, &#x27;#f94828ff&#x27;, &#x27;#f94728ff&#x27;, &#x27;#f84628ff&#x27;, &#x27;#f84528ff&#x27;, &#x27;#f84528ff&#x27;, &#x27;#f84427ff&#x27;, &#x27;#f74327ff&#x27;, &#x27;#f74227ff&#x27;, &#x27;#f64227ff&#x27;, &#x27;#f64126ff&#x27;, &#x27;#f53f26ff&#x27;, &#x27;#f53e26ff&#x27;, &#x27;#f43e26ff&#x27;, &#x27;#f43d25ff&#x27;, &#x27;#f43c25ff&#x27;, &#x27;#f43b25ff&#x27;, &#x27;#f33a24ff&#x27;, &#x27;#f33924ff&#x27;, &#x27;#f23924ff&#x27;, &#x27;#f23824ff&#x27;, &#x27;#f13724ff&#x27;, &#x27;#f13624ff&#x27;, &#x27;#f13523ff&#x27;, &#x27;#f13523ff&#x27;, &#x27;#f03423ff&#x27;, &#x27;#f03323ff&#x27;, &#x27;#ef3222ff&#x27;, &#x27;#ef3122ff&#x27;, &#x27;#ee3022ff&#x27;, &#x27;#ee3022ff&#x27;, &#x27;#ed2f21ff&#x27;, &#x27;#ed2e21ff&#x27;, &#x27;#ed2d21ff&#x27;, &#x27;#ed2c21ff&#x27;, &#x27;#ec2b21ff&#x27;, &#x27;#ec2b21ff&#x27;, &#x27;#eb2a20ff&#x27;, &#x27;#ea2920ff&#x27;, &#x27;#ea2820ff&#x27;, &#x27;#e92720ff&#x27;, &#x27;#e9261fff&#x27;, &#x27;#e9261fff&#x27;, &#x27;#e9251fff&#x27;, &#x27;#e8241fff&#x27;, &#x27;#e8231eff&#x27;, &#x27;#e7231eff&#x27;, &#x27;#e7221eff&#x27;, &#x27;#e6211eff&#x27;, &#x27;#e6201dff&#x27;, &#x27;#e61f1dff&#x27;, &#x27;#e61e1dff&#x27;, &#x27;#e51d1dff&#x27;, &#x27;#e51c1dff&#x27;, &#x27;#e41b1dff&#x27;, &#x27;#e41a1cff&#x27;, &#x27;#e3191cff&#x27;, &#x27;#e3191cff&#x27;, &#x27;#e2191cff&#x27;, &#x27;#e2191cff&#x27;, &#x27;#e1181dff&#x27;, &#x27;#e1181dff&#x27;, &#x27;#e0171dff&#x27;, &#x27;#e0171dff&#x27;, &#x27;#df161dff&#x27;, &#x27;#de161dff&#x27;, &#x27;#dd151dff&#x27;, &#x27;#dd151dff&#x27;, &#x27;#dc141eff&#x27;, &#x27;#dc141eff&#x27;, &#x27;#db141eff&#x27;, &#x27;#db141eff&#x27;, &#x27;#da131eff&#x27;, &#x27;#da131eff&#x27;, &#x27;#d9121fff&#x27;, &#x27;#d8121fff&#x27;, &#x27;#d7111fff&#x27;, &#x27;#d6111fff&#x27;, &#x27;#d6101fff&#x27;, &#x27;#d51020ff&#x27;, &#x27;#d51020ff&#x27;, &#x27;#d41020ff&#x27;, &#x27;#d40f20ff&#x27;, &#x27;#d30f20ff&#x27;, &#x27;#d20e20ff&#x27;, &#x27;#d10e21ff&#x27;, &#x27;#d10d21ff&#x27;, &#x27;#d00d21ff&#x27;, &#x27;#d00c21ff&#x27;, &#x27;#cf0c21ff&#x27;, &#x27;#cf0c21ff&#x27;, &#x27;#ce0c22ff&#x27;, &#x27;#ce0b22ff&#x27;, &#x27;#cd0b22ff&#x27;, &#x27;#cc0a22ff&#x27;, &#x27;#cb0922ff&#x27;, &#x27;#cb0922ff&#x27;, &#x27;#ca0823ff&#x27;, &#x27;#ca0823ff&#x27;, &#x27;#c90723ff&#x27;, &#x27;#c90723ff&#x27;, &#x27;#c80723ff&#x27;, &#x27;#c80723ff&#x27;, &#x27;#c70623ff&#x27;, &#x27;#c60623ff&#x27;, &#x27;#c50524ff&#x27;, &#x27;#c50524ff&#x27;, &#x27;#c40424ff&#x27;, &#x27;#c40424ff&#x27;, &#x27;#c30324ff&#x27;, &#x27;#c30324ff&#x27;, &#x27;#c20325ff&#x27;, &#x27;#c20325ff&#x27;, &#x27;#c10225ff&#x27;, &#x27;#c00225ff&#x27;, &#x27;#c00125ff&#x27;, &#x27;#bf0125ff&#x27;, &#x27;#be0026ff&#x27;, &#x27;#bd0026ff&#x27;, &#x27;#bd0026ff&#x27;, &#x27;#bc0026ff&#x27;, &#x27;#bb0026ff&#x27;, &#x27;#ba0026ff&#x27;, &#x27;#b90026ff&#x27;, &#x27;#b70026ff&#x27;, &#x27;#b70026ff&#x27;, &#x27;#b60026ff&#x27;, &#x27;#b50026ff&#x27;, &#x27;#b40026ff&#x27;, &#x27;#b30026ff&#x27;, &#x27;#b20026ff&#x27;, &#x27;#b10026ff&#x27;, &#x27;#b00026ff&#x27;, &#x27;#af0026ff&#x27;, &#x27;#ae0026ff&#x27;, &#x27;#ad0026ff&#x27;, &#x27;#ac0026ff&#x27;, &#x27;#ab0026ff&#x27;, &#x27;#aa0026ff&#x27;, &#x27;#a90026ff&#x27;, &#x27;#a80026ff&#x27;, &#x27;#a70026ff&#x27;, &#x27;#a60026ff&#x27;, &#x27;#a50026ff&#x27;, &#x27;#a40026ff&#x27;, &#x27;#a30026ff&#x27;, &#x27;#a20026ff&#x27;, &#x27;#a20026ff&#x27;, &#x27;#a10026ff&#x27;, &#x27;#a00026ff&#x27;, &#x27;#9f0026ff&#x27;, &#x27;#9e0026ff&#x27;, &#x27;#9d0026ff&#x27;, &#x27;#9c0026ff&#x27;, &#x27;#9b0026ff&#x27;, &#x27;#9a0026ff&#x27;, &#x27;#990026ff&#x27;, &#x27;#980026ff&#x27;, &#x27;#970026ff&#x27;, &#x27;#960026ff&#x27;, &#x27;#950026ff&#x27;, &#x27;#940026ff&#x27;, &#x27;#920026ff&#x27;, &#x27;#910026ff&#x27;, &#x27;#900026ff&#x27;, &#x27;#8f0026ff&#x27;, &#x27;#8e0026ff&#x27;, &#x27;#8d0026ff&#x27;, &#x27;#8c0026ff&#x27;, &#x27;#8b0026ff&#x27;, &#x27;#8b0026ff&#x27;, &#x27;#8a0026ff&#x27;, &#x27;#890026ff&#x27;, &#x27;#880026ff&#x27;, &#x27;#870026ff&#x27;, &#x27;#860026ff&#x27;, &#x27;#850026ff&#x27;, &#x27;#840026ff&#x27;, &#x27;#830026ff&#x27;, &#x27;#820026ff&#x27;, &#x27;#810026ff&#x27;, &#x27;#800026ff&#x27;]);\n",
       "    \n",
       "\n",
       "    color_map_4a24391100652e9176f5d908ad2ffa71.x = d3.scale.linear()\n",
       "              .domain([54.5065299328, 363998102.1865229])\n",
       "              .range([0, 450 - 50]);\n",
       "\n",
       "    color_map_4a24391100652e9176f5d908ad2ffa71.legend = L.control({position: &#x27;topright&#x27;});\n",
       "    color_map_4a24391100652e9176f5d908ad2ffa71.legend.onAdd = function (map) {var div = L.DomUtil.create(&#x27;div&#x27;, &#x27;legend&#x27;); return div};\n",
       "    color_map_4a24391100652e9176f5d908ad2ffa71.legend.addTo(map_236fdbd289616dda04aec018bbf2a7b6);\n",
       "\n",
       "    color_map_4a24391100652e9176f5d908ad2ffa71.xAxis = d3.svg.axis()\n",
       "        .scale(color_map_4a24391100652e9176f5d908ad2ffa71.x)\n",
       "        .orient(&quot;top&quot;)\n",
       "        .tickSize(1)\n",
       "        .tickValues([54.5065299328, &#x27;&#x27;, &#x27;&#x27;, &#x27;&#x27;, &#x27;&#x27;, &#x27;&#x27;, &#x27;&#x27;, &#x27;&#x27;, &#x27;&#x27;, &#x27;&#x27;, &#x27;&#x27;, &#x27;&#x27;, &#x27;&#x27;, &#x27;&#x27;, &#x27;&#x27;, &#x27;&#x27;, &#x27;&#x27;, &#x27;&#x27;, &#x27;&#x27;, &#x27;&#x27;, &#x27;&#x27;, &#x27;&#x27;, &#x27;&#x27;, &#x27;&#x27;, &#x27;&#x27;, &#x27;&#x27;, 37113580.936646864, &#x27;&#x27;, &#x27;&#x27;, &#x27;&#x27;, &#x27;&#x27;, &#x27;&#x27;, &#x27;&#x27;, &#x27;&#x27;, &#x27;&#x27;, &#x27;&#x27;, &#x27;&#x27;, &#x27;&#x27;, &#x27;&#x27;, &#x27;&#x27;, &#x27;&#x27;, &#x27;&#x27;, &#x27;&#x27;, &#x27;&#x27;, &#x27;&#x27;, &#x27;&#x27;, &#x27;&#x27;, &#x27;&#x27;, &#x27;&#x27;, &#x27;&#x27;, &#x27;&#x27;, &#x27;&#x27;, 74227107.36676379, &#x27;&#x27;, &#x27;&#x27;, &#x27;&#x27;, &#x27;&#x27;, &#x27;&#x27;, &#x27;&#x27;, &#x27;&#x27;, &#x27;&#x27;, &#x27;&#x27;, &#x27;&#x27;, &#x27;&#x27;, &#x27;&#x27;, &#x27;&#x27;, &#x27;&#x27;, &#x27;&#x27;, &#x27;&#x27;, &#x27;&#x27;, &#x27;&#x27;, &#x27;&#x27;, &#x27;&#x27;, &#x27;&#x27;, &#x27;&#x27;, &#x27;&#x27;, &#x27;&#x27;, &#x27;&#x27;, 111340633.79688072, &#x27;&#x27;, &#x27;&#x27;, &#x27;&#x27;, &#x27;&#x27;, &#x27;&#x27;, &#x27;&#x27;, &#x27;&#x27;, &#x27;&#x27;, &#x27;&#x27;, &#x27;&#x27;, &#x27;&#x27;, &#x27;&#x27;, &#x27;&#x27;, &#x27;&#x27;, &#x27;&#x27;, &#x27;&#x27;, &#x27;&#x27;, &#x27;&#x27;, &#x27;&#x27;, &#x27;&#x27;, &#x27;&#x27;, &#x27;&#x27;, &#x27;&#x27;, &#x27;&#x27;, &#x27;&#x27;, 148454160.22699764, &#x27;&#x27;, &#x27;&#x27;, &#x27;&#x27;, &#x27;&#x27;, &#x27;&#x27;, &#x27;&#x27;, &#x27;&#x27;, &#x27;&#x27;, &#x27;&#x27;, &#x27;&#x27;, &#x27;&#x27;, &#x27;&#x27;, &#x27;&#x27;, &#x27;&#x27;, &#x27;&#x27;, &#x27;&#x27;, &#x27;&#x27;, &#x27;&#x27;, &#x27;&#x27;, &#x27;&#x27;, &#x27;&#x27;, &#x27;&#x27;, &#x27;&#x27;, &#x27;&#x27;, &#x27;&#x27;, 185567686.65711457, &#x27;&#x27;, &#x27;&#x27;, &#x27;&#x27;, &#x27;&#x27;, &#x27;&#x27;, &#x27;&#x27;, &#x27;&#x27;, &#x27;&#x27;, &#x27;&#x27;, &#x27;&#x27;, &#x27;&#x27;, &#x27;&#x27;, &#x27;&#x27;, &#x27;&#x27;, &#x27;&#x27;, &#x27;&#x27;, &#x27;&#x27;, &#x27;&#x27;, &#x27;&#x27;, &#x27;&#x27;, &#x27;&#x27;, &#x27;&#x27;, &#x27;&#x27;, &#x27;&#x27;, &#x27;&#x27;, 222681213.08723152, &#x27;&#x27;, &#x27;&#x27;, &#x27;&#x27;, &#x27;&#x27;, &#x27;&#x27;, &#x27;&#x27;, &#x27;&#x27;, &#x27;&#x27;, &#x27;&#x27;, &#x27;&#x27;, &#x27;&#x27;, &#x27;&#x27;, &#x27;&#x27;, &#x27;&#x27;, &#x27;&#x27;, &#x27;&#x27;, &#x27;&#x27;, &#x27;&#x27;, &#x27;&#x27;, &#x27;&#x27;, &#x27;&#x27;, &#x27;&#x27;, &#x27;&#x27;, &#x27;&#x27;, &#x27;&#x27;, 259794739.51734844, &#x27;&#x27;, &#x27;&#x27;, &#x27;&#x27;, &#x27;&#x27;, &#x27;&#x27;, &#x27;&#x27;, &#x27;&#x27;, &#x27;&#x27;, &#x27;&#x27;, &#x27;&#x27;, &#x27;&#x27;, &#x27;&#x27;, &#x27;&#x27;, &#x27;&#x27;, &#x27;&#x27;, &#x27;&#x27;, &#x27;&#x27;, &#x27;&#x27;, &#x27;&#x27;, &#x27;&#x27;, &#x27;&#x27;, &#x27;&#x27;, &#x27;&#x27;, &#x27;&#x27;, &#x27;&#x27;, 296908265.94746536, &#x27;&#x27;, &#x27;&#x27;, &#x27;&#x27;, &#x27;&#x27;, &#x27;&#x27;, &#x27;&#x27;, &#x27;&#x27;, &#x27;&#x27;, &#x27;&#x27;, &#x27;&#x27;, &#x27;&#x27;, &#x27;&#x27;, &#x27;&#x27;, &#x27;&#x27;, &#x27;&#x27;, &#x27;&#x27;, &#x27;&#x27;, &#x27;&#x27;, &#x27;&#x27;, &#x27;&#x27;, &#x27;&#x27;, &#x27;&#x27;, &#x27;&#x27;, &#x27;&#x27;, &#x27;&#x27;, 334021792.3775823, &#x27;&#x27;, &#x27;&#x27;, &#x27;&#x27;, &#x27;&#x27;, &#x27;&#x27;, &#x27;&#x27;, &#x27;&#x27;, &#x27;&#x27;, &#x27;&#x27;, &#x27;&#x27;, &#x27;&#x27;, &#x27;&#x27;, &#x27;&#x27;, &#x27;&#x27;, &#x27;&#x27;, &#x27;&#x27;, &#x27;&#x27;, &#x27;&#x27;, &#x27;&#x27;, &#x27;&#x27;, &#x27;&#x27;, &#x27;&#x27;, &#x27;&#x27;, &#x27;&#x27;, &#x27;&#x27;]);\n",
       "\n",
       "    color_map_4a24391100652e9176f5d908ad2ffa71.svg = d3.select(&quot;.legend.leaflet-control&quot;).append(&quot;svg&quot;)\n",
       "        .attr(&quot;id&quot;, &#x27;legend&#x27;)\n",
       "        .attr(&quot;width&quot;, 450)\n",
       "        .attr(&quot;height&quot;, 40);\n",
       "\n",
       "    color_map_4a24391100652e9176f5d908ad2ffa71.g = color_map_4a24391100652e9176f5d908ad2ffa71.svg.append(&quot;g&quot;)\n",
       "        .attr(&quot;class&quot;, &quot;key&quot;)\n",
       "        .attr(&quot;transform&quot;, &quot;translate(25,16)&quot;);\n",
       "\n",
       "    color_map_4a24391100652e9176f5d908ad2ffa71.g.selectAll(&quot;rect&quot;)\n",
       "        .data(color_map_4a24391100652e9176f5d908ad2ffa71.color.range().map(function(d, i) {\n",
       "          return {\n",
       "            x0: i ? color_map_4a24391100652e9176f5d908ad2ffa71.x(color_map_4a24391100652e9176f5d908ad2ffa71.color.domain()[i - 1]) : color_map_4a24391100652e9176f5d908ad2ffa71.x.range()[0],\n",
       "            x1: i &lt; color_map_4a24391100652e9176f5d908ad2ffa71.color.domain().length ? color_map_4a24391100652e9176f5d908ad2ffa71.x(color_map_4a24391100652e9176f5d908ad2ffa71.color.domain()[i]) : color_map_4a24391100652e9176f5d908ad2ffa71.x.range()[1],\n",
       "            z: d\n",
       "          };\n",
       "        }))\n",
       "      .enter().append(&quot;rect&quot;)\n",
       "        .attr(&quot;height&quot;, 40 - 30)\n",
       "        .attr(&quot;x&quot;, function(d) { return d.x0; })\n",
       "        .attr(&quot;width&quot;, function(d) { return d.x1 - d.x0; })\n",
       "        .style(&quot;fill&quot;, function(d) { return d.z; });\n",
       "\n",
       "    color_map_4a24391100652e9176f5d908ad2ffa71.g.call(color_map_4a24391100652e9176f5d908ad2ffa71.xAxis).append(&quot;text&quot;)\n",
       "        .attr(&quot;class&quot;, &quot;caption&quot;)\n",
       "        .attr(&quot;y&quot;, 21)\n",
       "        .text(&quot;Dominent Landuse per Water Company&quot;);\n",
       "&lt;/script&gt;\n",
       "&lt;/html&gt;\" style=\"position:absolute;width:100%;height:100%;left:0;top:0;border:none !important;\" allowfullscreen webkitallowfullscreen mozallowfullscreen></iframe></div></div>"
      ],
      "text/plain": [
       "<folium.folium.Map at 0x276ac3ed7d0>"
      ]
     },
     "execution_count": 32,
     "metadata": {},
     "output_type": "execute_result"
    }
   ],
   "source": []
  },
  {
   "cell_type": "code",
   "execution_count": null,
   "id": "0c0c0c08",
   "metadata": {},
   "outputs": [],
   "source": []
  }
 ],
 "metadata": {
  "celltoolbar": "Raw Cell Format",
  "kernelspec": {
   "display_name": "Python 3 (ipykernel)",
   "language": "python",
   "name": "python3"
  },
  "language_info": {
   "codemirror_mode": {
    "name": "ipython",
    "version": 3
   },
   "file_extension": ".py",
   "mimetype": "text/x-python",
   "name": "python",
   "nbconvert_exporter": "python",
   "pygments_lexer": "ipython3",
   "version": "3.11.3"
  }
 },
 "nbformat": 4,
 "nbformat_minor": 5
}
