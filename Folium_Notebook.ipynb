{
 "cells": [
  {
   "cell_type": "markdown",
   "id": "11e730a2",
   "metadata": {},
   "source": [
    "# Water Demand Tutorial - Folium map of PCC"
   ]
  },
  {
   "cell_type": "code",
   "execution_count": null,
   "id": "5774da44",
   "metadata": {},
   "outputs": [],
   "source": [
    "import folium\n",
    "from folium_pcc import folium_pcc_map"
   ]
  },
  {
   "cell_type": "code",
   "execution_count": null,
   "id": "43c768c8",
   "metadata": {},
   "outputs": [],
   "source": [
    "pcc_period ='2019-20'\n",
    "folium_pcc_map(pcc_period)"
   ]
  },
  {
   "cell_type": "code",
   "execution_count": null,
   "id": "5fc511de",
   "metadata": {},
   "outputs": [],
   "source": [
    "import os\n",
    "import pandas as pd\n",
    "import numpy as np\n",
    "import geopandas as gpd\n",
    "import matplotlib.pyplot as plt\n",
    "from cartopy.feature import ShapelyFeature\n",
    "import cartopy.crs as ccrs\n",
    "import matplotlib.patches as mpatches\n",
    "import matplotlib.lines as mlines\n",
    "import folium\n",
    "import scipy\n",
    "import seaborn as sns"
   ]
  },
  {
   "cell_type": "code",
   "execution_count": null,
   "id": "cb14e8d3",
   "metadata": {},
   "outputs": [],
   "source": [
    "# Set Seaborn style and color palette\n",
    "sns.set_style(\"darkgrid\")\n",
    "sns.set_palette(\"husl\")\n",
    "\n",
    "# Load water company data as wrz, remove unnecessary columns\n",
    "wrz = gpd.read_file(os.path.abspath('data_files/WaterSupplyAreas_incNAVs v1_4.shp'))\n",
    "    \n",
    "# List of columns to be removed\n",
    "columns_to_remove = ['Disclaimer', 'Disclaim2', 'Disclaim3', 'Provenance', 'Licence', 'WARNINGS', 'Revisions']\n",
    "\n",
    "# Drop the columns from the GeoDataFrame\n",
    "wrz = wrz.drop(columns=columns_to_remove)\n",
    "\n",
    "# Append PCC for 2019 to 2020 to the wrz geodataframe\n",
    "# Load the CSV file\n",
    "pr24_hist_pcc = pd.read_csv('data_files/pr24_hist_pcc.csv')  \n",
    "\n",
    "# Perform the merge\n",
    "merged = wrz.merge(pr24_hist_pcc[['Company', '2019-20']], how='left', left_on='Acronym', right_on='Company')\n",
    "\n",
    "# Drop the unnecessary columns & rename the merged column\n",
    "merged.drop(['Company'], axis=1, inplace=True)\n",
    "merged.rename(columns={'2019-20': '2019-20_from_CSV'}, inplace=True)\n",
    "    \n",
    "# Update the wrz GeoDataFrame with the merged column\n",
    "wrz['2019-20'] = merged['2019-20_from_CSV']\n",
    "\n",
    "legend_kwds={'caption': 'Per Capita Water Consumption'} # set the caption to a␣longer explanation\n",
    "# Create a Folium map using the existing GeoDataFrame\n",
    "    \n",
    "m = folium.Map()\n",
    "\n",
    "m = wrz.explore('2019-20', # show the PCC for this period column\n",
    "                    cmap='YlOrRd', # use the 'plasma' colormap from matplotlib\n",
    "                    legend_kwds={'caption': 'PCC for 2019-20'} # set the caption to a longer explanation\n",
    "                  )\n",
    "\n",
    "airport_args = {\n",
    "    'm': m, # add the markers to the same map we just created\n",
    "    'marker_type': 'marker', # use a marker for the points, instead of a circle\n",
    "    'popup': True, # show the information as a popup when we click on the marker\n",
    "    'legend': False, # don't show a separate legend for the point layer\n",
    "    'marker_kwds': {'icon': folium.Icon(color='red', icon='dot', prefix='fa')}# make the markers red with a dot icon from FA\n",
    "}\n",
    "m\n"
   ]
  },
  {
   "cell_type": "code",
   "execution_count": null,
   "id": "c67d14d6",
   "metadata": {},
   "outputs": [],
   "source": []
  }
 ],
 "metadata": {
  "celltoolbar": "Raw Cell Format",
  "kernelspec": {
   "display_name": "Python 3 (ipykernel)",
   "language": "python",
   "name": "python3"
  },
  "language_info": {
   "codemirror_mode": {
    "name": "ipython",
    "version": 3
   },
   "file_extension": ".py",
   "mimetype": "text/x-python",
   "name": "python",
   "nbconvert_exporter": "python",
   "pygments_lexer": "ipython3",
   "version": "3.11.3"
  }
 },
 "nbformat": 4,
 "nbformat_minor": 5
}
