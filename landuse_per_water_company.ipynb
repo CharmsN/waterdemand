{
 "cells": [
  {
   "cell_type": "code",
   "execution_count": null,
   "id": "b54111b9",
   "metadata": {},
   "outputs": [],
   "source": [
    "%matplotlib inline\n",
    "\n",
    "import os\n",
    "import pandas as pd\n",
    "import geopandas as gpd\n",
    "import pandas as pd\n",
    "import numpy as np\n",
    "from scipy.stats import pearsonr\n",
    "from shapely.ops import unary_union\n",
    "from create_std_chloropleth import create_chloropleth\n",
    "from std_folium_map import folium_map\n",
    "\n",
    "# Load water company data as wrz, remove unnecessary columns\n",
    "wrz = gpd.read_file(os.path.abspath('data_files/WaterSupplyAreas_incNAVs v1_4.shp'))\n",
    "# List of columns to be removed\n",
    "columns_to_remove = ['Disclaimer', 'Disclaim2', 'Disclaim3', 'Provenance', 'Licence', 'WARNINGS', 'Revisions', 'AreaServed']\n",
    "\n",
    "# Drop the columns from the GeoDataFrame\n",
    "wrz = wrz.drop(columns=columns_to_remove)\n",
    "\n",
    "included_area_types = ['regional water and sewerage company', 'regional water only company'] # Filter the GeoDataFrame to select the features with \"Northumbrian Water\"\n",
    "\n",
    "wrz['COMPANY'] = wrz['COMPANY'].replace('Northumbrian Water Limited', 'Northumbrian Water') # fix issue with NES record\n",
    "\n",
    "# Filter out features with the specified area types\n",
    "wrz_ref = wrz[wrz['CoType'].isin(included_area_types)]\n",
    " # len(wrz_ref) # uncomment this to check that all 43 water company areas are included \n",
    "wrz_ref.to_file('data_files/wrz_ref.shp', driver='ESRI Shapefile')"
   ]
  },
  {
   "cell_type": "code",
   "execution_count": null,
   "id": "715ca6bb",
   "metadata": {},
   "outputs": [],
   "source": [
    "from IPython import display\n",
    "\n",
    "data_field = 'COMPANY'  # Example data field name\n",
    "data_file = wrz_ref  # Example path to the data file\n",
    "\n",
    "chloropleth_map = folium_map(data_field,data_file)\n",
    "display.display(chloropleth_map)"
   ]
  },
  {
   "cell_type": "code",
   "execution_count": null,
   "id": "bb6c2c86",
   "metadata": {},
   "outputs": [],
   "source": [
    "data_field = 'COMPANY'  # Example data field name\n",
    "data_file = wrz_ref  # Example path to the data file\n",
    "title = 'Water Company Chloropleth'  # Example title for the map\n",
    "\n",
    "plt = create_chloropleth(data_field, data_file, title)"
   ]
  },
  {
   "cell_type": "code",
   "execution_count": null,
   "id": "c3ecb0c5",
   "metadata": {},
   "outputs": [],
   "source": [
    "specific_company = \"Affinity Water\"  # Replace \"Your Company\" with the desired company name\n",
    "\n",
    "specific_company = wrz[wrz['COMPANY'] == \"Affinity Water\"]\n",
    "specific_company.to_file('data_files/wrz_ref.shp', driver='ESRI Shapefile')"
   ]
  },
  {
   "cell_type": "code",
   "execution_count": null,
   "id": "4e419162",
   "metadata": {},
   "outputs": [],
   "source": [
    "data_field = 'COMPANY'  # Example data field name\n",
    "data_file = specific_company  # Example path to the data file\n",
    "title = ' Chloropleth for selected company'  # Example title for the map\n",
    "\n",
    "plt = create_chloropleth(data_field, data_file, title)"
   ]
  },
  {
   "cell_type": "code",
   "execution_count": null,
   "id": "d981e57d",
   "metadata": {},
   "outputs": [],
   "source": [
    "landuse = gpd.read_file(os.path.abspath('data_files/clc2018_uk.shp')) # load the landuse data\n",
    "landuse"
   ]
  },
  {
   "cell_type": "code",
   "execution_count": null,
   "id": "de8e1818",
   "metadata": {},
   "outputs": [],
   "source": [
    "landuse = landuse[landuse.geometry.is_valid]\n",
    "specific_company = specific_company[specific_company.geometry.is_valid]"
   ]
  },
  {
   "cell_type": "code",
   "execution_count": null,
   "id": "09d36b1d",
   "metadata": {},
   "outputs": [],
   "source": [
    "selected_company_landuse = gpd.sjoin(specific_company, landuse, how ='inner', predicate='intersects')\n",
    "print(selected_company_landuse[['COMPANY', 'CODE_18']])"
   ]
  },
  {
   "cell_type": "code",
   "execution_count": null,
   "id": "a427a556",
   "metadata": {},
   "outputs": [],
   "source": [
    "data_field = 'CODE_18'  # Example data field name\n",
    "data_file = selected_company_landuse  # Example path to the data file\n",
    "title = 'Landuse Chloropleth'  # Example title for the map\n",
    "\n",
    "plt = create_chloropleth(data_field, data_file, title)"
   ]
  },
  {
   "cell_type": "code",
   "execution_count": null,
   "id": "5b625c13",
   "metadata": {},
   "outputs": [],
   "source": [
    "from IPython import display\n",
    "\n",
    "data_field = 'CODE_18' \n",
    "data_file = selected_company_landuse  \n",
    "\n",
    "landuse_map = folium_map(data_field,data_file)\n",
    "display.display(landuse_map)"
   ]
  },
  {
   "cell_type": "code",
   "execution_count": null,
   "id": "e6f68d02",
   "metadata": {},
   "outputs": [],
   "source": [
    "del landuse"
   ]
  },
  {
   "cell_type": "code",
   "execution_count": null,
   "id": "0628e01a",
   "metadata": {},
   "outputs": [],
   "source": []
  }
 ],
 "metadata": {
  "kernelspec": {
   "display_name": "Python 3 (ipykernel)",
   "language": "python",
   "name": "python3"
  },
  "language_info": {
   "codemirror_mode": {
    "name": "ipython",
    "version": 3
   },
   "file_extension": ".py",
   "mimetype": "text/x-python",
   "name": "python",
   "nbconvert_exporter": "python",
   "pygments_lexer": "ipython3",
   "version": "3.11.3"
  }
 },
 "nbformat": 4,
 "nbformat_minor": 5
}
