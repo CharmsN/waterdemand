{
 "cells": [
  {
   "cell_type": "code",
   "execution_count": null,
   "id": "02f5daae",
   "metadata": {},
   "outputs": [],
   "source": [
    "import geopandas as gpd\n",
    "import cartopy.crs as ccrs\n",
    "import matplotlib.patches as mpatches\n",
    "from sentinelsat import SentinelAPI, make_path_filter\n",
    "from IPython import display\n",
    "import shapely\n",
    "import os\n",
    "from PIL import Image\n",
    "\n",
    "# Load water company data as wrz, remove unnecessary columns\n",
    "wrz = gpd.read_file(os.path.abspath('data_files/WaterSupplyAreas_incNAVs v1_4.shp'))\n",
    "    \n",
    "# select water company to review in further detail:\n",
    "selected_company_gdf = wrz[wrz['AreaServed'] == 'Bournemouth']\n",
    "\n",
    "# get the outline of the selected water company:\n",
    "company_outline = selected_company_gdf['geometry']\n",
    "\n",
    "# create a new GeoDataFrame with the outline of the selected water company:\n",
    "outline_gdf = gpd.GeoDataFrame(geometry=company_outline)\n",
    "\n",
    "# print the GeoDataFrame\n",
    "print(outline_gdf)\n",
    "\n",
    "# ensure that the crs for the the gdf of the water company selected is set to epsg 4326\n",
    "outline_gdf = outline_gdf.to_crs(epsg=4326)\n",
    "\n",
    "# convert the MULTIPOLYGON to a valid POLYGON\n",
    "polygon = outline_gdf['geometry'].unary_union\n",
    "#polygon # to visualise polygon\n",
    "\n",
    "# get the minimum rotated angle \n",
    "search_area = polygon.minimum_rotated_rectangle\n",
    "\n",
    "#search_area # to visual rotated rectangle\n",
    "\n"
   ]
  },
  {
   "cell_type": "code",
   "execution_count": null,
   "id": "5b76323c",
   "metadata": {},
   "outputs": [],
   "source": [
    "#connect to SentinelAPI\n",
    "api = SentinelAPI(None, None, api_url='https://scihub.copernicus.eu/dhus') # connect to the SentinelAPi using sign on details on .netrc file\n",
    "\n",
    "#retrieve images for 10% cloud cover, date range 1 April 2019 to 31 March 2020 \n",
    "products = api.query(search_area.wkt, # use the WKT representation of our search area\n",
    "                     date=('20180101','20230101'), # all images from February 2023\n",
    "                     platformname='Sentinel-2', # the platform name is Sentinel-2\n",
    "                     producttype='S2MSI2A', # surface reflectance product (L2A)\n",
    "                     cloudcoverpercentage=(0, 30)) # limit to 30% cloud cover"
   ]
  },
  {
   "cell_type": "code",
   "execution_count": null,
   "id": "c285ecfa",
   "metadata": {},
   "outputs": [],
   "source": [
    "# Determine the number of images retrieved\n",
    "nresults = len(products) # get the number of results found\n",
    "print('Found {} results'.format(nresults)) # show the number of results found \n",
    "\n",
    "if nresults == 0:\n",
    "    print('No images in this range') # this will return a statement if no images are found in the date range"
   ]
  },
  {
   "cell_type": "code",
   "execution_count": null,
   "id": "2695d328",
   "metadata": {},
   "outputs": [],
   "source": [
    "results = next(iter(products)) # gets the second item from the dict\n",
    "products[results] # show the metadata for the second item\n",
    "\n",
    "qlook = api.download_quicklook(results) # download the quicklook image for this first result \n",
    "display.Image(qlook['path']) # display the image "
   ]
  },
  {
   "cell_type": "code",
   "execution_count": null,
   "id": "16ca7ac5",
   "metadata": {},
   "outputs": [],
   "source": [
    "product_geo = SentinelAPI.to_geodataframe(products) # convert the search results to a geodataframe\n",
    "product_geo.head() # show the first 5 rows of the geodataframe\n",
    "\n",
    "    # calculate the % overlay of the image and the rectangle for selection\n",
    "for ind, row in product_geo.iterrows():\n",
    "    intersection = search_area.intersection(row['geometry']) # find the intersection of the two polygons\n",
    "    product_geo.loc[ind, 'overlap'] = intersection.area / search_area.area # get the fractional overlap\n",
    "    \n",
    "print(product_geo.overlap) # show the fractional overlap for each index\n"
   ]
  },
  {
   "cell_type": "code",
   "execution_count": null,
   "id": "3c072892",
   "metadata": {},
   "outputs": [],
   "source": [
    "# work out the max overlap and return the index\n",
    "max_index = product_geo.overlap.argmax() # get the integer location of the largest overlap value\n",
    "print(max_index) "
   ]
  },
  {
   "cell_type": "code",
   "execution_count": null,
   "id": "53b33ae1",
   "metadata": {},
   "outputs": [],
   "source": [
    "best_overlap = product_geo.inbest_overlap = product_geo.index[max_index] # get the actual index (image name) with the largest overlap\n",
    "# download the quicklook image for the best overlap\n",
    "qlook = api.download_quicklook(best_overlap)\n",
    "# create an Image object from the downloaded image file\n",
    "img = Image.open(qlook['path'])\n",
    "\n",
    "# save the Image object as PNG with the desired file name and location\n",
    "img.save('data_files/img.png')"
   ]
  },
  {
   "cell_type": "code",
   "execution_count": null,
   "id": "1a8d7fd7",
   "metadata": {},
   "outputs": [],
   "source": [
    "# download best image\n",
    "    # api.download(best_overlap) # downloads the best result\n",
    "    # api.download(firest_result, \n",
    "    #    nodefilter=make_path_filter(\"*_B*.jp2\")) # only downloads the image bands\n",
    "    "
   ]
  }
 ],
 "metadata": {
  "kernelspec": {
   "display_name": "Python 3 (ipykernel)",
   "language": "python",
   "name": "python3"
  },
  "language_info": {
   "codemirror_mode": {
    "name": "ipython",
    "version": 3
   },
   "file_extension": ".py",
   "mimetype": "text/x-python",
   "name": "python",
   "nbconvert_exporter": "python",
   "pygments_lexer": "ipython3",
   "version": "3.11.3"
  }
 },
 "nbformat": 4,
 "nbformat_minor": 5
}
