{
 "cells": [
  {
   "cell_type": "markdown",
   "id": "11e730a2",
   "metadata": {},
   "source": [
    "## Water Demand Tutorial"
   ]
  },
  {
   "cell_type": "markdown",
   "id": "b355d000",
   "metadata": {},
   "source": [
    "## This section creates a chloropleth map showing PCC for all water companies. "
   ]
  },
  {
   "cell_type": "markdown",
   "id": "9ef2d3a8",
   "metadata": {},
   "source": [
    "Import the function models required to create the maps "
   ]
  },
  {
   "cell_type": "code",
   "execution_count": null,
   "id": "70183f82",
   "metadata": {},
   "outputs": [],
   "source": [
    "#%matplotlib inline\n",
    "\n",
    "import download_sat_image_company\n",
    "from IPython.display import Image\n",
    "from chloropleth import chloropleth_pcc\n",
    "import folium_pcc\n",
    "import folium\n",
    "from IPython.display import HTML"
   ]
  },
  {
   "cell_type": "markdown",
   "id": "c77c7d4e",
   "metadata": {},
   "source": [
    "Select the pcc_period to create the map for "
   ]
  },
  {
   "cell_type": "code",
   "execution_count": null,
   "id": "32e88701",
   "metadata": {
    "scrolled": false
   },
   "outputs": [],
   "source": [
    "pcc_period ='2019-20'\n",
    "chloropleth_pcc(pcc_period)"
   ]
  },
  {
   "cell_type": "code",
   "execution_count": null,
   "id": "8c726279",
   "metadata": {
    "scrolled": false
   },
   "outputs": [],
   "source": [
    "folium_pcc.m"
   ]
  },
  {
   "cell_type": "markdown",
   "id": "0eebdcdc",
   "metadata": {},
   "source": [
    "# Figure 2: Interactive Map PCC Map for Water Companies in England and Wales"
   ]
  },
  {
   "cell_type": "markdown",
   "id": "d2f99250",
   "metadata": {},
   "source": [
    "# This section downloads the sentinel image for the water resource zone with the highest PCC"
   ]
  },
  {
   "cell_type": "code",
   "execution_count": null,
   "id": "43c768c8",
   "metadata": {},
   "outputs": [],
   "source": [
    "# need to fix this so that the sentinel image retrieved is for the right area - I think add the folium map above \n",
    "# install sentinelsat via conda; set up netrc file for api"
   ]
  },
  {
   "cell_type": "code",
   "execution_count": null,
   "id": "632d6a18",
   "metadata": {},
   "outputs": [],
   "source": [
    "# select water company to review in further detail:\n",
    "company_detail ='Bournemouth'\n",
    "download_sat_image_company.download_best_overlap_image(company_detail)\n",
    "Image(filename='data_files/img.png')"
   ]
  },
  {
   "cell_type": "markdown",
   "id": "e8ecf087",
   "metadata": {},
   "source": [
    "To download the images, edit the download_sat_image_company module to uncomment the line to enable download. "
   ]
  },
  {
   "cell_type": "markdown",
   "id": "9b1b25be",
   "metadata": {},
   "source": [
    "# Correlation Checks for water consumption, population and landuse "
   ]
  },
  {
   "cell_type": "code",
   "execution_count": null,
   "id": "0e153636",
   "metadata": {},
   "outputs": [],
   "source": [
    "!python correlation_landuse.py"
   ]
  },
  {
   "cell_type": "code",
   "execution_count": null,
   "id": "b2d6721f",
   "metadata": {},
   "outputs": [],
   "source": []
  }
 ],
 "metadata": {
  "celltoolbar": "Raw Cell Format",
  "kernelspec": {
   "display_name": "Python 3 (ipykernel)",
   "language": "python",
   "name": "python3"
  },
  "language_info": {
   "codemirror_mode": {
    "name": "ipython",
    "version": 3
   },
   "file_extension": ".py",
   "mimetype": "text/x-python",
   "name": "python",
   "nbconvert_exporter": "python",
   "pygments_lexer": "ipython3",
   "version": "3.11.3"
  }
 },
 "nbformat": 4,
 "nbformat_minor": 5
}
