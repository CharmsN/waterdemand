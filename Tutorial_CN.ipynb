{
 "cells": [
  {
   "cell_type": "markdown",
   "id": "11e730a2",
   "metadata": {},
   "source": [
    "## Water Demand Tutorial"
   ]
  },
  {
   "cell_type": "markdown",
   "id": "b355d000",
   "metadata": {},
   "source": [
    "## This section creates a chloropleth map showing PCC for all water companies. "
   ]
  },
  {
   "cell_type": "markdown",
   "id": "9ef2d3a8",
   "metadata": {},
   "source": [
    "Import the function models required to create the maps "
   ]
  },
  {
   "cell_type": "code",
   "execution_count": 10,
   "id": "70183f82",
   "metadata": {},
   "outputs": [
    {
     "ename": "FileNotFoundError",
     "evalue": "[Errno 2] No such file or directory: 'custom.css'",
     "output_type": "error",
     "traceback": [
      "\u001b[1;31m---------------------------------------------------------------------------\u001b[0m",
      "\u001b[1;31mFileNotFoundError\u001b[0m                         Traceback (most recent call last)",
      "Cell \u001b[1;32mIn[10], line 12\u001b[0m\n\u001b[0;32m     10\u001b[0m     styles \u001b[38;5;241m=\u001b[39m \u001b[38;5;28mopen\u001b[39m(\u001b[38;5;124m\"\u001b[39m\u001b[38;5;124mcustom.css\u001b[39m\u001b[38;5;124m\"\u001b[39m, \u001b[38;5;124m\"\u001b[39m\u001b[38;5;124mr\u001b[39m\u001b[38;5;124m\"\u001b[39m)\u001b[38;5;241m.\u001b[39mread()\n\u001b[0;32m     11\u001b[0m     \u001b[38;5;28;01mreturn\u001b[39;00m HTML(\u001b[38;5;124m\"\u001b[39m\u001b[38;5;124m<style>\u001b[39m\u001b[38;5;124m\"\u001b[39m\u001b[38;5;241m+\u001b[39mstyles\u001b[38;5;241m+\u001b[39m\u001b[38;5;124m\"\u001b[39m\u001b[38;5;124m</style>\u001b[39m\u001b[38;5;124m\"\u001b[39m)\n\u001b[1;32m---> 12\u001b[0m \u001b[43mcss_styling\u001b[49m\u001b[43m(\u001b[49m\u001b[43m)\u001b[49m\n",
      "Cell \u001b[1;32mIn[10], line 10\u001b[0m, in \u001b[0;36mcss_styling\u001b[1;34m()\u001b[0m\n\u001b[0;32m      9\u001b[0m \u001b[38;5;28;01mdef\u001b[39;00m \u001b[38;5;21mcss_styling\u001b[39m():\n\u001b[1;32m---> 10\u001b[0m     styles \u001b[38;5;241m=\u001b[39m \u001b[38;5;28;43mopen\u001b[39;49m\u001b[43m(\u001b[49m\u001b[38;5;124;43m\"\u001b[39;49m\u001b[38;5;124;43mcustom.css\u001b[39;49m\u001b[38;5;124;43m\"\u001b[39;49m\u001b[43m,\u001b[49m\u001b[43m \u001b[49m\u001b[38;5;124;43m\"\u001b[39;49m\u001b[38;5;124;43mr\u001b[39;49m\u001b[38;5;124;43m\"\u001b[39;49m\u001b[43m)\u001b[49m\u001b[38;5;241m.\u001b[39mread()\n\u001b[0;32m     11\u001b[0m     \u001b[38;5;28;01mreturn\u001b[39;00m HTML(\u001b[38;5;124m\"\u001b[39m\u001b[38;5;124m<style>\u001b[39m\u001b[38;5;124m\"\u001b[39m\u001b[38;5;241m+\u001b[39mstyles\u001b[38;5;241m+\u001b[39m\u001b[38;5;124m\"\u001b[39m\u001b[38;5;124m</style>\u001b[39m\u001b[38;5;124m\"\u001b[39m)\n",
      "File \u001b[1;32m~\\anaconda3\\envs\\waterdemand\\Lib\\site-packages\\IPython\\core\\interactiveshell.py:284\u001b[0m, in \u001b[0;36m_modified_open\u001b[1;34m(file, *args, **kwargs)\u001b[0m\n\u001b[0;32m    277\u001b[0m \u001b[38;5;28;01mif\u001b[39;00m file \u001b[38;5;129;01min\u001b[39;00m {\u001b[38;5;241m0\u001b[39m, \u001b[38;5;241m1\u001b[39m, \u001b[38;5;241m2\u001b[39m}:\n\u001b[0;32m    278\u001b[0m     \u001b[38;5;28;01mraise\u001b[39;00m \u001b[38;5;167;01mValueError\u001b[39;00m(\n\u001b[0;32m    279\u001b[0m         \u001b[38;5;124mf\u001b[39m\u001b[38;5;124m\"\u001b[39m\u001b[38;5;124mIPython won\u001b[39m\u001b[38;5;124m'\u001b[39m\u001b[38;5;124mt let you open fd=\u001b[39m\u001b[38;5;132;01m{\u001b[39;00mfile\u001b[38;5;132;01m}\u001b[39;00m\u001b[38;5;124m by default \u001b[39m\u001b[38;5;124m\"\u001b[39m\n\u001b[0;32m    280\u001b[0m         \u001b[38;5;124m\"\u001b[39m\u001b[38;5;124mas it is likely to crash IPython. If you know what you are doing, \u001b[39m\u001b[38;5;124m\"\u001b[39m\n\u001b[0;32m    281\u001b[0m         \u001b[38;5;124m\"\u001b[39m\u001b[38;5;124myou can use builtins\u001b[39m\u001b[38;5;124m'\u001b[39m\u001b[38;5;124m open.\u001b[39m\u001b[38;5;124m\"\u001b[39m\n\u001b[0;32m    282\u001b[0m     )\n\u001b[1;32m--> 284\u001b[0m \u001b[38;5;28;01mreturn\u001b[39;00m \u001b[43mio_open\u001b[49m\u001b[43m(\u001b[49m\u001b[43mfile\u001b[49m\u001b[43m,\u001b[49m\u001b[43m \u001b[49m\u001b[38;5;241;43m*\u001b[39;49m\u001b[43margs\u001b[49m\u001b[43m,\u001b[49m\u001b[43m \u001b[49m\u001b[38;5;241;43m*\u001b[39;49m\u001b[38;5;241;43m*\u001b[39;49m\u001b[43mkwargs\u001b[49m\u001b[43m)\u001b[49m\n",
      "\u001b[1;31mFileNotFoundError\u001b[0m: [Errno 2] No such file or directory: 'custom.css'"
     ]
    }
   ],
   "source": [
    "#%matplotlib inline\n",
    "\n",
    "import download_sat_image_company\n",
    "from IPython.display import Image\n",
    "from chloropleth import chloropleth_pcc\n",
    "import folium_pcc\n",
    "import folium\n",
    "from IPython.display import HTML\n",
    "def css_styling():\n",
    "    styles = open(\"custom.css\", \"r\").read()\n",
    "    return HTML(\"<style>\"+styles+\"</style>\")\n",
    "css_styling()"
   ]
  },
  {
   "cell_type": "markdown",
   "id": "c77c7d4e",
   "metadata": {},
   "source": [
    "Select the pcc_period to create the map for "
   ]
  },
  {
   "cell_type": "code",
   "execution_count": null,
   "id": "32e88701",
   "metadata": {
    "scrolled": false
   },
   "outputs": [],
   "source": [
    "pcc_period ='2019-20'\n",
    "chloropleth_pcc(pcc_period)"
   ]
  },
  {
   "cell_type": "code",
   "execution_count": null,
   "id": "8c726279",
   "metadata": {
    "scrolled": false
   },
   "outputs": [],
   "source": [
    "folium_pcc.m"
   ]
  },
  {
   "cell_type": "markdown",
   "id": "0eebdcdc",
   "metadata": {},
   "source": [
    "# Figure 2: Interactive Map PCC Map for Water Companies in England and Wales"
   ]
  },
  {
   "cell_type": "markdown",
   "id": "d2f99250",
   "metadata": {},
   "source": [
    "# This section downloads the sentinel image for the water resource zone with the highest PCC"
   ]
  },
  {
   "cell_type": "code",
   "execution_count": null,
   "id": "43c768c8",
   "metadata": {},
   "outputs": [],
   "source": [
    "# need to fix this so that the sentinel image retrieved is for the right area - I think add the folium map above \n",
    "# install sentinelsat via conda; set up netrc file for api"
   ]
  },
  {
   "cell_type": "code",
   "execution_count": null,
   "id": "632d6a18",
   "metadata": {},
   "outputs": [],
   "source": [
    "# select water company to review in further detail:\n",
    "company_detail ='Bournemouth'\n",
    "download_sat_image_company.download_best_overlap_image(company_detail)\n",
    "Image(filename='data_files/img.png')"
   ]
  },
  {
   "cell_type": "markdown",
   "id": "e8ecf087",
   "metadata": {},
   "source": [
    "To download the images, edit the download_sat_image_company module to uncomment the line to enable download. "
   ]
  },
  {
   "cell_type": "markdown",
   "id": "9b1b25be",
   "metadata": {},
   "source": [
    "# Correlation Checks for water consumption, population and landuse "
   ]
  },
  {
   "cell_type": "code",
   "execution_count": 9,
   "id": "0e153636",
   "metadata": {},
   "outputs": [
    {
     "name": "stdout",
     "output_type": "stream",
     "text": [
      "True\n",
      "Pearsons correlation for Household Water Consumption (Ml/d) and Urban Landuse (Ha): 0.056\n",
      "Pearsons correlation for Household Population (000s) and Urban Landuse (Ha): 0.127\n",
      "\n",
      "Household Water Consumption (Litres per day) per Hectare of Land Classified under Urban Landuse :\n",
      "\n",
      "                     AreaServed   ID  ...    Area_Ha hh_cons_per_Area_Ha\n",
      "0               Hafren Dyfrdwy    8  ...    7350.89          445.587264\n",
      "1                    Cambridge   18  ...   72785.02           65.992161\n",
      "2                   Portsmouth   13  ...   15481.78          819.362191\n",
      "3          South Staffordshire   19  ...   72785.02           65.992161\n",
      "4         Sutton & East Surrey   30  ...  102660.56          117.476324\n",
      "5         Cadley Hill, Walsall  243  ...   72785.02           65.992161\n",
      "6  Tamworth West Centurion Way  208  ...   72785.02           65.992161\n",
      "\n",
      "[7 rows x 14 columns]\n"
     ]
    }
   ],
   "source": [
    "!python correlation_landuse.py"
   ]
  },
  {
   "cell_type": "code",
   "execution_count": null,
   "id": "b2d6721f",
   "metadata": {},
   "outputs": [],
   "source": []
  }
 ],
 "metadata": {
  "celltoolbar": "Raw Cell Format",
  "kernelspec": {
   "display_name": "Python 3 (ipykernel)",
   "language": "python",
   "name": "python3"
  },
  "language_info": {
   "codemirror_mode": {
    "name": "ipython",
    "version": 3
   },
   "file_extension": ".py",
   "mimetype": "text/x-python",
   "name": "python",
   "nbconvert_exporter": "python",
   "pygments_lexer": "ipython3",
   "version": "3.11.3"
  }
 },
 "nbformat": 4,
 "nbformat_minor": 5
}
