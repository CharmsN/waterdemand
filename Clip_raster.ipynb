{
 "cells": [
  {
   "cell_type": "code",
   "execution_count": null,
   "id": "53704f53",
   "metadata": {},
   "outputs": [],
   "source": [
    "%matplotlib inline\n",
    "\n",
    "import rasterio\n",
    "from rasterio.mask import mask\n",
    "import geopandas as gpd\n",
    "import matplotlib.pyplot as plt\n",
    "import rasterio\n",
    "from rasterio.warp import calculate_default_transform, reproject, Resampling"
   ]
  },
  {
   "cell_type": "code",
   "execution_count": null,
   "id": "c2e5828e",
   "metadata": {},
   "outputs": [],
   "source": [
    "# Define the paths to the image and shapefile\n",
    "image_path = 'data_files/R10m/T30UWB_20230121T111351.tif'\n",
    "shapefile_path = 'data_files/WaterSupplyAreas_incNAVs v1_4.shp'\n",
    "reprojected_image ='data_files/R10m/T30UWB_20230121_reproj.tif'\n",
    "output_path ='data_files/R10m/T30UWB_20230121_cropped.tif'"
   ]
  },
  {
   "cell_type": "code",
   "execution_count": null,
   "id": "cba0c8b8",
   "metadata": {},
   "outputs": [],
   "source": [
    "# Define the attribute and value to select the desired area\n",
    "attribute_field = 'AreaServed'\n",
    "attribute_value = 'Bournemouth'\n",
    "\n",
    "# Read the shapefile using geopandas\n",
    "gdf = gpd.read_file(shapefile_path)\n",
    "\n",
    "# Filter the shapefile to select the desired area\n",
    "filtered_gdf = gdf[gdf[attribute_field] == attribute_value]"
   ]
  },
  {
   "cell_type": "code",
   "execution_count": null,
   "id": "de2a0cb8",
   "metadata": {},
   "outputs": [],
   "source": [
    "# Read the shapefile and raster image\n",
    "gdf = gpd.read_file(shapefile_path)\n",
    "with rasterio.open(image_path) as src:\n",
    "    pass  # We only need to open the raster to access its CRS"
   ]
  },
  {
   "cell_type": "code",
   "execution_count": null,
   "id": "0aa28870",
   "metadata": {},
   "outputs": [],
   "source": [
    "# Check the coordinate reference systems (CRS)\n",
    "print(\"Shapefile CRS:\", gdf.crs)\n",
    "print(\"Raster CRS:\", src.crs)"
   ]
  },
  {
   "cell_type": "code",
   "execution_count": null,
   "id": "1968d5dc",
   "metadata": {},
   "outputs": [],
   "source": [
    "# Open the raster image\n",
    "with rasterio.open(image_path) as src:\n",
    "    # Define the target CRS\n",
    "    target_crs = 'EPSG:27700'\n",
    "\n",
    "    # Calculate the transformation parameters for reprojection\n",
    "    transform, width, height = calculate_default_transform(\n",
    "        src.crs, target_crs, src.width, src.height, *src.bounds\n",
    "    )\n",
    "\n",
    "    # Create the reprojected image\n",
    "    reprojected_image_path = reprojected_image\n",
    "    reprojected_image_meta = src.meta.copy()\n",
    "    reprojected_image_meta.update({\n",
    "        'crs': target_crs,\n",
    "        'transform': transform,\n",
    "        'width': width,\n",
    "        'height': height\n",
    "    })\n",
    "\n",
    "    with rasterio.open(reprojected_image_path, 'w', **reprojected_image_meta) as dst:\n",
    "        for i in range(1, src.count + 1):\n",
    "            reproject(\n",
    "                source=rasterio.band(src, i),\n",
    "                destination=rasterio.band(dst, i),\n",
    "                src_transform=src.transform,\n",
    "                src_crs=src.crs,\n",
    "                dst_transform=transform,\n",
    "                dst_crs=target_crs,\n",
    "                resampling=Resampling.nearest\n",
    "            )"
   ]
  },
  {
   "cell_type": "code",
   "execution_count": null,
   "id": "52dd30aa",
   "metadata": {},
   "outputs": [],
   "source": [
    "# Read the raster image\n",
    "with rasterio.open(reprojected_image) as src:\n",
    "    # Crop the image using the shapefile\n",
    "    cropped_image, cropped_transform = mask(src, filtered_gdf.geometry, crop=True)\n",
    "    cropped_meta = src.meta.copy()\n",
    "\n",
    "# Update the metadata of the cropped image\n",
    "cropped_meta.update({\n",
    "    \"height\": cropped_image.shape[1],\n",
    "    \"width\": cropped_image.shape[2],\n",
    "    \"transform\": cropped_transform\n",
    "})"
   ]
  },
  {
   "cell_type": "code",
   "execution_count": null,
   "id": "0060f0d4",
   "metadata": {},
   "outputs": [],
   "source": [
    "# Save the cropped image\n",
    "\n",
    "with rasterio.open(output_path, 'w', **cropped_meta) as dest:\n",
    "    dest.write(cropped_image)\n",
    "\n",
    "# Display the cropped image (optional)\n",
    "plt.imshow(cropped_image[0, :, :])  # Assuming the image is single-band\n",
    "plt.axis('off')\n",
    "plt.show()"
   ]
  },
  {
   "cell_type": "code",
   "execution_count": null,
   "id": "81003893",
   "metadata": {},
   "outputs": [],
   "source": []
  }
 ],
 "metadata": {
  "kernelspec": {
   "display_name": "Python 3 (ipykernel)",
   "language": "python",
   "name": "python3"
  },
  "language_info": {
   "codemirror_mode": {
    "name": "ipython",
    "version": 3
   },
   "file_extension": ".py",
   "mimetype": "text/x-python",
   "name": "python",
   "nbconvert_exporter": "python",
   "pygments_lexer": "ipython3",
   "version": "3.11.3"
  }
 },
 "nbformat": 4,
 "nbformat_minor": 5
}
