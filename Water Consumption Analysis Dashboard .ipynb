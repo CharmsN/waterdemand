{
 "cells": [
  {
   "cell_type": "markdown",
   "id": "5219ced5",
   "metadata": {},
   "source": [
    "# Understanding Water Consumption : Multi-factor Analysis "
   ]
  },
  {
   "cell_type": "markdown",
   "id": "a51d7ddc",
   "metadata": {},
   "source": [
    "# Introduction "
   ]
  },
  {
   "cell_type": "markdown",
   "id": "7459e663",
   "metadata": {},
   "source": [
    "### Background information on water companies in the UK:"
   ]
  },
  {
   "cell_type": "markdown",
   "id": "589783ad",
   "metadata": {},
   "source": [
    "Water companies in the UK were privatised in 1989 and, as most water companies are regional monopolies, household customers cannot select their water company.  Water companies are governed by Ofwat, the economic regulator, and must submit returns as part of a 5-year cycle price review process. The current regulatory period is known as PR19, the next regulatory period will be PR24. \n",
    "\n",
    "https://commonslibrary.parliament.uk/research-briefings/cbp-8931/#:~:text=The%20water%20industry%20in%20England%20and%20Wales%20was,or%20switch%20their%20supplier%20and%20competition%20is%20limited.\n"
   ]
  },
  {
   "cell_type": "markdown",
   "id": "e0126001",
   "metadata": {},
   "source": [
    "Increasing water scarcity due to, amongst other factors, population growth, climate change, and changing weather patterns make understanding of household water consumption drivers critical for water resource management. By understanding the drivers of household water consumption, policymakers and water companies can develop effective strategies to manage water resources, reduce wastage, and ensure sustainable water supplies for the future. \n",
    "\n",
    "Increased abstraction, for both household consumption and non-household use, places pressure on freshwater ecosystems, reduces river flows, and depletes groundwater resources whilst production, treatment and distribution of potable water increases energy consumption, increases carbon emissions all of which come with financial and non-financial costs. Infrastructure planning, policy amendments and behavioural change educational campaigns and initiatives require detailed understanding of the drivers of ever increasing water consumption if  water scarcity, escalating costs and environmental impacts are to be managed so that net zero positions can be reached and behavioural change can be embedded in order to ensure sustainable water management for the future.\n",
    "\n",
    "In March 2023 the scientific journals Water, Environments, Forests and Remote Sensing, called for submission of papers on the topic “Remote Sensing in Water Resources Management Models” (Ref https://www.mdpi.com/topics/Remote_Sensing_Water) indicating that there is a desire for further research focused on water resource management in general. \n",
    "\n",
    "A standard method for tracking water consumption is through calculation of per capita consumption (PCC) (litres of water used per person per day). One of the many performance commitments for water companies, is to reduce their PCC by an agreed number of litres per person per day, the gold standard being 100 litres per person per day. Calculation of PCC relies heavily on accurate population statistics at a district metered area (DMA) level and metering of all households. \n",
    "\n",
    "Not all households within the UK are metered with meter penetration being below 60% in some areas. Where meter data exists, meter reading can prove challenging due to limited access to properties, the high cost of manual and drive by meter readings and reluctance of customers to actively share details of their personal water consumption with water companies.  To date, evidence shared with households on the impact of water consumption on their environment has been restricted mostly to theoretical statements or less than robust statistics. \n",
    "\n",
    "The focus of water companies to reduce household consumption relies heavy on behavioural change interventions to encourage lower water consumption, kickback from consumers is that water companies are not doing their bit in reducing leakage - this results in people being less motivated to reduce their water consumption. \n",
    "\n",
    "A more scientific method of depicting water consumption at a DMA level, without the need to meter every household, would provide evidence to communities of their overall impact on water consumption and provide valuable input into behavioural change campaigns, whilst also providing water companies insight into which areas to target high cost infrastructure spend such as smart metering programmes, as a longer term solution to achieving individual accountability for decreasing household consumption.   \n",
    " \n",
    "This tutorial provide some very basic tools that can be shared with non-technical users whilst also encouraging researchers and  developers to further explore how measurements such as built up indices, landuse classification. correlation of building age with high consumption (the hypothesis being that older households may have unknown customer side leakage) can be be used to understand drivers of PCC. \n",
    "\n",
    "Sharing impirical evidence with consumers may encourage adoption of sustainable water efficient behaviours. \n",
    "\n",
    "Data used is publically available data, the intention being to supplement this further with more advanced python scripting in the future, Google Earth Engine analysis and water company specific data. In addition to exploring drivers of consumption, challenging the hypothesis that increasing household consumption is the root cause of increasing water demand in areas with recorded high PCC by uncovering the relationship between leakage, non-household and household consumption and how this correlates with land use changes over time.  \n",
    "<br>\n",
    "<br>\n",
    "**Literature review:**<br> \n",
    "<br>\n",
    "Prediction of water consumption based on population (https://link.springer.com/article/10.1007/s11356-021-12368-0)\n",
    "\n",
    "https://www.researchgate.net/publication/363059307_Assessing_the_causality_relationship_and_time_series_model_for_electricity_consumption_per_capita_and_human_development_in_Colombia\n",
    "\n",
    "Relationship between urban ecological water demand and land use structure in rapid urbanization area\n",
    "https://www.researchgate.net/publication/289350922_Relationship_between_urban_ecological_water_demand_and_land_use_structure_in_rapid_urbanization_area\n",
    "\n",
    "https://www.researchgate.net/publication/344333563_Land-Use_Change_and_Future_Water_Demand_in_California%27s_Central_Coast"
   ]
  },
  {
   "cell_type": "markdown",
   "id": "5c487153",
   "metadata": {},
   "source": [
    "**Note:**\n",
    "<br>\n",
    "The tools described in this tutorial do not provide an end to end solution for understanding water consumption, they support the process and are intended to stimulate further exploration of  water consumption drives with a view of discovering alternate methods for monitoring and managing household water consumption.  "
   ]
  },
  {
   "cell_type": "markdown",
   "id": "c8106875",
   "metadata": {},
   "source": [
    "<div style=\"display:flex\">\n",
    "    <img src=\"method_image.jpg\" style=\"width:100%\">\n",
    "</div>\n",
    "<br>\n",
    "***Figure 1: Possible components required to support an end to end process*** <br>(reference CNewmarch Assessment)"
   ]
  },
  {
   "cell_type": "markdown",
   "id": "05b78868",
   "metadata": {},
   "source": [
    "## Set-up and Installation "
   ]
  },
  {
   "cell_type": "markdown",
   "id": "57238a03",
   "metadata": {},
   "source": [
    "Clone the repository: \n",
    "How\n",
    "URL to repository\n",
    "Desired director to clone it to \n",
    "\n",
    "Create and activate the conda environment: \n",
    "Separate environement\n",
    "Instructions on how to create and activate it \n",
    "\n",
    "Install dependencies: \n",
    "List dependencies for your code\n",
    "Requirements.txt file in   repository with the necessary packages and versions. install using conda install \n",
    "\n",
    "Data requirements: \n",
    "Details of data required \n",
    "Instructions on where to obtain them, links, sample data\n",
    "\n",
    "Execution instructions: \n",
    "Main entry point / specific script to execute. \n",
    "\n",
    "Examples and tutorials: \n",
    "Example use cases to demonstrate the code. \n",
    "Step-by-step instructions and sample input/output to help\n",
    "\n",
    "Troubleshooting and support: \n",
    "Common issues and guidance on how to resolve them\n"
   ]
  },
  {
   "cell_type": "markdown",
   "id": "fd580adb",
   "metadata": {},
   "source": [
    "<summary>"
   ]
  },
  {
   "cell_type": "markdown",
   "id": "a9740f0a",
   "metadata": {},
   "source": [
    "<summary>"
   ]
  },
  {
   "cell_type": "markdown",
   "id": "d0084b97",
   "metadata": {},
   "source": [
    "## Repository Link"
   ]
  },
  {
   "cell_type": "markdown",
   "id": "91799adf",
   "metadata": {},
   "source": [
    "Tools covered in this tutorial are: \n",
    "Creating a chloropleth map of water company boundaries given a Shapefile\n",
    "Amending the chloropleth map to create a map showing per capita consumption for a selected period given consumption data\n",
    "Creating an interactive folium map showing per capita consumption for a given period for each water company\n",
    "Pearson's correlation analysis to determine whether there is a correlation between household water consumption and land use and population and household consumption\n",
    "Selecting and download a satellite image using the SentinelAPI for a given time period for a given water company area\n",
    "Stacking image bands to create a composite image (3 bands)\n",
    "Principle Component Analysis using two jpeg images"
   ]
  },
  {
   "cell_type": "markdown",
   "id": "4acfe24d",
   "metadata": {},
   "source": []
  },
  {
   "cell_type": "markdown",
   "id": "3f0ce3cd",
   "metadata": {},
   "source": [
    "Data sources: \n"
   ]
  },
  {
   "cell_type": "markdown",
   "id": "54277aea",
   "metadata": {},
   "source": []
  },
  {
   "cell_type": "markdown",
   "id": "9b170d9f",
   "metadata": {},
   "source": [
    "## Creating a chloropleth map of water company boundaries given a shape file"
   ]
  },
  {
   "cell_type": "markdown",
   "id": "cfd65609",
   "metadata": {},
   "source": [
    "***Methodology:***\n",
    "\n",
    "Water company boundaries can be visualised using the function wrz_boundaries within the water_company_boundaries module (data source is xxxx). The number of companies and the chloropleth map are returned.\n",
    "\n",
    "Packages required to run this code include os, geopandas, pyplot from matplotlib and crs from cartopy.\n",
    "\n",
    "The function wrz_boundaries is defined within the water_company_boundaries module. This function generates a plot displaying the boundaries of water companies in England and Wales based on the provided company data. The function reads the company data from a given file (the pathway to the file is hardcoded), creates a GeoDataFrame using GeoPandas, and plots the boundaries of the water companies on a map. Each company is represented by a different color. The resulting plot provides a visual representation of the geographic distribution of water companies. \n",
    "\n",
    "The co-ordinate reference system for the plot is set to Transverse Mercator, British National Grid (27700) using crs from cartopy. Pyplot is used to plot the map. \n",
    "\n",
    "The colour scheme cane be changed, some examples being 'jet' (blue to red through green and yellow) and 'cividis' (best choice for people with color vision deficiencies as it transitions from dark to light and has noticeable variations in brightness and hue). This function is hardcoded to 'viridis'. More detail on selection choices can be found in the matplotlib documentation library. (https://matplotlib.org/stable/tutorials/colors/colormaps.html) \n",
    "     \n",
    "The function plots the company data (COMPANY) which is hardcoded. The data source, however is a variable called company_data. The example data is available in the 'waterdemand' Github repository or can be downloaded from the Commons Library (\n",
    "https://commonslibrary.parliament.uk/constituency-information-water-companies/#watercompanies). The output for the function is a chloropleth plot of the water resource boundaries for all water companies in England and Wales. \n",
    "\n",
    "The Title of the graph is hardcoded within the function. \n",
    "\n",
    "***A refinement to this code would be to create variable for the column to plot and for the title, to add gridlines and to all a scalebar.***\n"
   ]
  },
  {
   "cell_type": "markdown",
   "id": "d7a0c879",
   "metadata": {},
   "source": [
    "**Calling the function module:**"
   ]
  },
  {
   "cell_type": "markdown",
   "id": "4d1c9932",
   "metadata": {},
   "source": [
    "from water_company_boundaries import wrz_boundaries\n",
    "company_data = 'data_files/WaterSupplyAreas_incNAVs v1_4.shp'  \n",
    "wrz_boundaries(company_data)  # calls the function to create a chloropleth map of English and Welsh the Water Supply Areas"
   ]
  },
  {
   "cell_type": "markdown",
   "id": "f83dd8e1",
   "metadata": {},
   "source": [
    "The above code also creates a png image called wrz.png which is written to the data_files folder within the waterdemand directory.\n",
    "\n",
    "<div style=\"display:flex\">\n",
    "    <img src=\"data_files/wrz.png\" style=\"width:60%\">\n",
    "    <div style=\"margin-left:5px\">\n",
    "    \n",
    "     \n",
    "        \n",
    "<br>\n",
    "<br>\n",
    "<br>\n",
    "<br>\n",
    "Images such as this can be used as input into behavioural change campaigns and strategic water resource management, for example,  or to identify areas that require further investigation. \n",
    "        <br>\n",
    "        <br>\n",
    "Although this map is at a water resource zone level, this script can be easily modified to show district metered areas if required. \n",
    "\n",
    "</div>\n"
   ]
  },
  {
   "cell_type": "markdown",
   "id": "789487db",
   "metadata": {},
   "source": [
    "## Amending the chloropleth map to create a map showing per capita consumption for a selected period given consumption data"
   ]
  },
  {
   "cell_type": "markdown",
   "id": "5a26e9f1",
   "metadata": {},
   "source": [
    "***Methodology:***\n",
    "\n",
    "Using the above chloropleth map as a starting point, other data can be merged with the water company shape file to map, for instance, per capita consumption for a selected period.  \n",
    "\n",
    "Packages required to run this code include os, pandas, geopandas, pyplot from matplotlib and crs from cartopy.\n",
    "\n",
    "This function is hard-coded to use the same water resource boundaries as given above. Consumption data is from Ofwat PR24 submission open data available from  https://www.ofwat.gov.uk/publication/historical-performance-trends-for-pr24-v2-0/.\n",
    "\n",
    "***Note: The code can be amended to visualise total household consumption, leakage etc as this information is available within the provided dataset. \n",
    "\n",
    "The function loads geographical (using geopandas) and statistical (using pandas) data, merges them based on water company acronyms, and creates a chloropleth map using the GeoDataFrame created from the merge. The map shows the variation in PCC across different areas, helping to visualize the differences in water consumption patterns and to identify areas of high consumption which can then be looked at in further detail. \n",
    "\n",
    "The input for this function is a string called pcc_period which gives the time period for which the PCC data is being visualized. The format for the data is YYYY-YY, for example '2019-20' or '2011-12'.\n",
    "\n",
    "The function returns the chloropleth map, which displays the average per capita consumption per water company area for the selected period. \n",
    "\n",
    "The title is hardcoded into the function. \n",
    "\n",
    "***Further enhancements to this code would be to create a template which could be populated with the required data to allow visualisation pf a district metered area (DMA) within a water company boundary and to create a variable for the title.***\n",
    "\n",
    "**Caution:** \n",
    "<br>\n",
    "If an image has been generated and amendments are required to the image, the image must be deleted from the directory prior to rerunning to code if the name of the output image is to remain the same.\n",
    "\n",
    "The function module is called as follows: \n"
   ]
  },
  {
   "cell_type": "raw",
   "id": "bc0eca7b",
   "metadata": {},
   "source": [
    "from chloropleth import chloropleth_pcc \n",
    "\n",
    "pcc_period = '2019-20'\n",
    "chloropleth_pcc(pcc_period)"
   ]
  },
  {
   "cell_type": "markdown",
   "id": "2357c828",
   "metadata": {},
   "source": [
    "Below are examples of two periods showing the change in PCC."
   ]
  },
  {
   "cell_type": "markdown",
   "id": "8019855d",
   "metadata": {},
   "source": [
    "<div style=\"display:flex\">\n",
    "    <img src=\"data_files/2011_12pcc.jpg\" style=\"width:50%\">\n",
    "    <img src=\"data_files/2019_20pcc .jpg\" style=\"width:50%\">\n",
    "</div>"
   ]
  },
  {
   "cell_type": "markdown",
   "id": "f25fa6db",
   "metadata": {},
   "source": [
    "An interactive view of the above can be created using a Folium map as displayed in Figure z. This map view is valuable to behavioural change experts as they are able to zoom into areas of high consumption to identify environmental areas of interest to use as strategic nudges (reference nudging and choice architecture) to influence individuals to adopt desired behaviours without feeling coerced.   "
   ]
  },
  {
   "cell_type": "markdown",
   "id": "dddc7ef2",
   "metadata": {},
   "source": [
    "## Creating an interactive folium map showing per capita consumption for a given period for each water company"
   ]
  },
  {
   "cell_type": "markdown",
   "id": "0c5c936f",
   "metadata": {},
   "source": [
    "***Methodology:***\n",
    "\n",
    "Using the above chloropleth map as a starting point, other data can be merged with the water company shape file to map, for instance, per capita consumption for a selected period.  \n",
    "\n",
    "Packages required to run this code include os, pandas, geopandas, pyplot from matplotlib and crs from cartopy.\n",
    "\n",
    "This function is hard-coded to use the same water resource boundaries as given above. Consumption data is from Ofwat PR24 submission open data available from  https://www.ofwat.gov.uk/publication/historical-performance-trends-for-pr24-v2-0/.\n",
    "\n",
    "***Note: The code can be amended to visualise total household consumption, leakage etc as this information is available within the provided dataset. \n",
    "\n",
    "The function loads geographical (using geopandas) and statistical (using pandas) data, merges them based on water company acronyms, and creates a chloropleth map using the GeoDataFrame created from the merge. The map shows the variation in PCC across different areas, helping to visualize the differences in water consumption patterns and to identify areas of high consumption which can then be looked at in further detail. \n",
    "\n",
    "The input for this function is a string called pcc_period which gives the time period for which the PCC data is being visualized. The format for the data is YYYY-YY, for example '2019-20' or '2011-12'.\n",
    "\n",
    "The function returns the chloropleth map, which displays the average per capita consumption per water company area for the selected period. \n",
    "\n",
    "The title is hardcoded into the function. \n",
    "\n",
    "***Further enhancements to this code would be to create a template which could be populated with the required data to allow visualisation pf a district metered area (DMA) within a water company boundary and to create a variable for the title.***\n",
    "\n",
    "**Caution:** \n",
    "<br>\n",
    "If an image has been generated and amendments are required to the image, the image must be deleted from the directory prior to rerunning to code if the name of the output image is to remain the same.\n",
    "\n",
    "The function module is called as follows: \n"
   ]
  },
  {
   "cell_type": "markdown",
   "id": "9810de1c",
   "metadata": {},
   "source": [
    "The code snippet below creates an interactive map showing PCC for each water company area. The code can be amended to show different periods or data as required."
   ]
  },
  {
   "cell_type": "code",
   "execution_count": null,
   "id": "a1226c31",
   "metadata": {},
   "outputs": [],
   "source": [
    "from folium_pcc import folium_pcc_map\n",
    "from IPython import display\n",
    "\n",
    "pcc_map = folium_pcc_map()\n",
    "display.display(pcc_map)"
   ]
  },
  {
   "cell_type": "markdown",
   "id": "676f47cd",
   "metadata": {},
   "source": [
    "### Figure v:  Interactive Folium map of per capita water consumption per water company area. "
   ]
  },
  {
   "cell_type": "markdown",
   "id": "17bffa83",
   "metadata": {},
   "source": [
    "Once an area has been selected for further review, the sentinel satelite image can be downloaded. This image can be used to review landuse, calculate built up indices etc. "
   ]
  },
  {
   "cell_type": "markdown",
   "id": "173bbc65",
   "metadata": {},
   "source": [
    "First, we need to import the required packages and functions required to retrive the image:"
   ]
  },
  {
   "cell_type": "code",
   "execution_count": null,
   "id": "19068b0a",
   "metadata": {},
   "outputs": [],
   "source": [
    "#%matplotlib inline\n",
    "\n",
    "import download_sat_image_company\n",
    "from IPython.display import Image\n",
    "from chloropleth import chloropleth_pcc\n",
    "import folium_pcc\n",
    "import folium\n",
    "from IPython.display import HTML"
   ]
  },
  {
   "cell_type": "markdown",
   "id": "e7bcc6b7",
   "metadata": {},
   "source": [
    "Then we select the water company area to review. The water company name can be selected from the interactive map by looking at the AreaServed field. For this example, Bournemouth is selected as it has a high PCC. "
   ]
  },
  {
   "cell_type": "code",
   "execution_count": null,
   "id": "ca63046b",
   "metadata": {},
   "outputs": [],
   "source": [
    "# select water company to review in further detail:\n",
    "company_detail ='Bournemouth'\n",
    "date_start='20200601'\n",
    "date_end='20230101'\n",
    "download_sat_image_company.download_best_overlap_image(company_detail,date_start,date_end)"
   ]
  },
  {
   "cell_type": "markdown",
   "id": "377fed87",
   "metadata": {},
   "source": [
    "This image can be used to ...."
   ]
  },
  {
   "cell_type": "markdown",
   "id": "a089f1b0",
   "metadata": {},
   "source": [
    "For now, the Corine data from xxx will be used to understand the correlation between water consumption and landuse"
   ]
  },
  {
   "cell_type": "code",
   "execution_count": null,
   "id": "1ea9d52d",
   "metadata": {},
   "outputs": [],
   "source": [
    "#correlation analysis "
   ]
  },
  {
   "cell_type": "code",
   "execution_count": null,
   "id": "08d1cb7d",
   "metadata": {},
   "outputs": [],
   "source": [
    "#pca analysis "
   ]
  },
  {
   "cell_type": "code",
   "execution_count": null,
   "id": "6203e258",
   "metadata": {},
   "outputs": [],
   "source": [
    "import cv2\n",
    "import numpy as np\n",
    "from sklearn.cluster import KMeans\n",
    "from sklearn.decomposition import PCA\n",
    "from collections import Counter\n",
    "from PIL import Image\n",
    "import imageio.v2 as imageio\n",
    "import os\n",
    "import math"
   ]
  },
  {
   "cell_type": "code",
   "execution_count": null,
   "id": "e4bf780f",
   "metadata": {},
   "outputs": [],
   "source": [
    "def find_PCAKmeans(imagepath1, imagepath2):\n",
    "    print('Operating')\n",
    "\n",
    "    image1 = cv2.imread(imagepath1)\n",
    "    image2 = cv2.imread(imagepath2)\n",
    "    print(image1.shape, image2.shape)\n",
    "\n",
    "    new_size = np.ceil(np.asarray(image1.shape) / 5) * 5  # Round up to the nearest multiple of 5\n",
    "    new_size = new_size.astype(int)\n",
    "    image1 = cv2.resize(image1, (new_size[1], new_size[0])).astype(np.int16)\n",
    "    image2 = cv2.resize(image2, (new_size[1], new_size[0])).astype(np.int16)\n",
    "\n",
    "    \n",
    "    diff_image = np.abs(image1 - image2)\n",
    "    cv2.imwrite('diff.jpg', diff_image)\n",
    "    print('\\nBoth images resized to', new_size)\n",
    "\n",
    "    vector_set, mean_vec = find_vector_set(diff_image, new_size)\n",
    "\n",
    "    pca = PCA()\n",
    "    pca.fit(vector_set)\n",
    "    EVS = pca.components_\n",
    "\n",
    "    FVS = find_FVS(EVS, diff_image, mean_vec, new_size)\n",
    "\n",
    "    print('\\ncomputing k means')\n",
    "\n",
    "    components = 3\n",
    "    least_index, change_map = clustering(FVS, components, new_size)\n",
    "\n",
    "    change_map[change_map == least_index] = 255\n",
    "    change_map[change_map != 255] = 0\n",
    "\n",
    "    change_map = change_map.astype(np.uint8)\n",
    "    kernel = np.asarray(((0, 0, 1, 0, 0),\n",
    "                         (0, 1, 1, 1, 0),\n",
    "                         (1, 1, 1, 1, 1),\n",
    "                         (0, 1, 1, 1, 0),\n",
    "                         (0, 0, 1, 0, 0)), dtype=np.uint8)\n",
    "    cleanChangeMap = cv2.erode(change_map, kernel)\n",
    "    cv2.imwrite(\"data_files/test_data/changemap.jpg\", change_map)\n",
    "    cv2.imwrite(\"data_files/test_data/cleanchangemap.jpg\", cleanChangeMap)"
   ]
  },
  {
   "cell_type": "code",
   "execution_count": null,
   "id": "9b9a008d",
   "metadata": {},
   "outputs": [],
   "source": [
    "def find_vector_set(diff_image, new_size):\n",
    "    block_size = 5\n",
    "    num_blocks = (new_size[0] // block_size) * (new_size[1] // block_size)\n",
    "\n",
    "    vector_set = np.empty((num_blocks, block_size * block_size), dtype=np.int16)\n",
    "    idx = 0\n",
    "\n",
    "    for i in range(new_size[0] // block_size):\n",
    "        for j in range(new_size[1] // block_size):\n",
    "            block = diff_image[i * block_size:(i + 1) * block_size, j * block_size:(j + 1) * block_size]\n",
    "            feature = block.flatten()\n",
    "            vector_set[idx, :] = feature[:vector_set.shape[1]]\n",
    "            idx += 1\n",
    "\n",
    "    mean_vec = np.mean(vector_set, axis=0)\n",
    "    return vector_set, mean_vec"
   ]
  },
  {
   "cell_type": "code",
   "execution_count": null,
   "id": "7a85fe48",
   "metadata": {},
   "outputs": [],
   "source": [
    "def find_FVS(EVS, diff_image, mean_vec, new):\n",
    "    \n",
    "    i = 2 \n",
    "    feature_vector_set = []\n",
    "    \n",
    "    while i < new[0] - 2:\n",
    "        j = 2\n",
    "        while j < new[1] - 2:\n",
    "            block = diff_image[i-2:i+3, j-2:j+3]\n",
    "            feature = block.flatten()\n",
    "            feature_vector_set.append(feature)\n",
    "            j = j+1\n",
    "        i = i+1\n",
    "\n",
    "    feature_vector_set = np.array(feature_vector_set)\n",
    "    feature_vector_set = feature_vector_set.reshape((-1, 25))\n",
    "    FVS = np.dot(feature_vector_set, EVS)\n",
    "    FVS = FVS - mean_vec\n",
    "    print(\"\\nfeature vector space size\",FVS.shape)\n",
    "    return FVS"
   ]
  },
  {
   "cell_type": "code",
   "execution_count": null,
   "id": "033f0bae",
   "metadata": {},
   "outputs": [],
   "source": [
    "\n",
    "def clustering(FVS, components, new):\n",
    "    \n",
    "    kmeans = KMeans(components, verbose = 0)\n",
    "    kmeans.fit(FVS)\n",
    "    output = kmeans.predict(FVS)\n",
    "    count  = Counter(output)\n",
    "\n",
    "    least_index = min(count, key = count.get)            \n",
    "    print(new[0],new[1])\n",
    "    change_map = np.reshape(output, (new[0] - 4, new[1] - 4, -1)) #this has been changed and should be checked\n",
    "    \n",
    "    return least_index, change_map"
   ]
  },
  {
   "cell_type": "code",
   "execution_count": null,
   "id": "2dcd2503",
   "metadata": {},
   "outputs": [],
   "source": [
    "# Get the absolute path to the directory containing the image files, the values \n",
    "directory = os.path.abspath('data_files/test_data')\n",
    "\n",
    "if __name__ == \"__main__\":\n",
    "    imagepath1 = os.path.join(directory, 'img1a.jpg')     # Construct the absolute paths to the image files\n",
    "    imagepath2 = os.path.join(directory, 'img2a.jpg')     # Construct the absolute paths to the image files\n",
    "    find_PCAKmeans(imagepath1, imagepath2)"
   ]
  },
  {
   "cell_type": "code",
   "execution_count": null,
   "id": "bc50f9fc",
   "metadata": {},
   "outputs": [],
   "source": []
  },
  {
   "cell_type": "code",
   "execution_count": null,
   "id": "99315732",
   "metadata": {},
   "outputs": [],
   "source": []
  },
  {
   "cell_type": "code",
   "execution_count": null,
   "id": "1730a81a",
   "metadata": {},
   "outputs": [],
   "source": [
    "from stack_bands import band_stacking_three_bands\n",
    "\n",
    "band_files = ('data_files/R10m/T30UWB_20221207T111339_B03_10m.jp2', 'data_files/R10m/T30UWB_20221207T111339_B04_10m.jp2', 'data_files/R10m/T30UWB_20221207T111339_B08_10m.jp2')\n",
    "output_tiff = 'data_files/R10m/T30UWB_20221207T111339.tif'\n",
    "output_jpg = 'data_files/test_data/Img2a.jpg'\n",
    "\n",
    "band_stacking_three_bands(band_files, output_tiff, output_jpg)"
   ]
  },
  {
   "cell_type": "code",
   "execution_count": null,
   "id": "0c73f58d",
   "metadata": {},
   "outputs": [],
   "source": [
    "# this works and also converts the tiff to a jpeg\n",
    "import rasterio\n",
    "import numpy as np\n",
    "\n",
    "band_files = ('data_files/R10m/T30UWB_20221207T111339_B03_10m.jp2', 'data_files/R10m/T30UWB_20221207T111339_B04_10m.jp2', 'data_files/R10m/T30UWB_20221207T111339_B08_10m.jp2')\n",
    "output_tiff = 'data_files/test_data/Img2a.tif'\n",
    "output_jpg = 'data_files/test_data/Img2a.jpg'\n",
    "\n",
    "# Create an empty array to store the band data\n",
    "stacked_data = []\n",
    "\n",
    "# Read each band file and stack the data\n",
    "for i, band_file in enumerate(band_files):\n",
    "    with rasterio.open(band_file) as band_src:\n",
    "        band_data = band_src.read(1)  # Read the band data\n",
    "        stacked_data.append(band_data)\n",
    "\n",
    "# Open one of the band files to get the metadata\n",
    "with rasterio.open(band_files[0]) as src:\n",
    "    # Read the metadata\n",
    "    meta = src.meta\n",
    "\n",
    "# Update the metadata for the output TIFF file\n",
    "meta.update(count=len(stacked_data))\n",
    "\n",
    "# Write the stacked data to the output TIFF file\n",
    "with rasterio.open(output_tiff, 'w', **meta) as dst:\n",
    "    dst.write(np.array(stacked_data))\n",
    "\n",
    "# Convert the GeoTIFF to JPEG\n",
    "with rasterio.open(output_tiff) as src:\n",
    "    profile = src.profile\n",
    "    # Read the data from the GeoTIFF\n",
    "    data = src.read()\n",
    "\n",
    "# Convert the data to the 0-255 range\n",
    "data = (data * 255 / data.max()).astype(np.uint8)\n",
    "\n",
    "# Write the data to the JPEG file\n",
    "with rasterio.open(output_jpg, 'w', driver='JPEG', width=profile['width'], height=profile['height'], count=profile['count'], dtype='uint8') as dst:\n",
    "    dst.write(data)\n"
   ]
  },
  {
   "cell_type": "code",
   "execution_count": null,
   "id": "eeb0885c",
   "metadata": {},
   "outputs": [],
   "source": []
  },
  {
   "cell_type": "markdown",
   "id": "1643a3b9",
   "metadata": {},
   "source": [
    "### Looking at the correlation between water consumption and land use: "
   ]
  },
  {
   "cell_type": "code",
   "execution_count": null,
   "id": "f9559dc5",
   "metadata": {},
   "outputs": [],
   "source": [
    "import correlation_landuse\n",
    "\n",
    "!python correlation_landuse.py"
   ]
  },
  {
   "cell_type": "markdown",
   "id": "4400b4db",
   "metadata": {},
   "source": [
    "The results indicate that there is a very strong correlation between population and household water consumption. There is also a good correlation, though not as strong, between the area for urban landuse and household water consumption. The next step would be to check the correlation between household populations as reported by water companies and that reported by Ordinance Survey. If granular water consumption data can be obtained (for instance logger data for inflows and outflows of water at a district metered area) this can be analysed in conjunction with built up and vegetative health indices to see if these can be used as a predictor of higher than average water consumption volumes. "
   ]
  },
  {
   "cell_type": "markdown",
   "id": "2cd50a39",
   "metadata": {},
   "source": [
    "**Next Steps**: These statistics can also be calculated for non-household water consumption to see if there is a variation between non-household and household correlation co-efficients. "
   ]
  },
  {
   "cell_type": "markdown",
   "id": "64c23344",
   "metadata": {},
   "source": [
    "plot the population statistics from census data to see if they show the same pattern as pcc"
   ]
  }
 ],
 "metadata": {
  "kernelspec": {
   "display_name": "Python 3 (ipykernel)",
   "language": "python",
   "name": "python3"
  },
  "language_info": {
   "codemirror_mode": {
    "name": "ipython",
    "version": 3
   },
   "file_extension": ".py",
   "mimetype": "text/x-python",
   "name": "python",
   "nbconvert_exporter": "python",
   "pygments_lexer": "ipython3",
   "version": "3.11.3"
  }
 },
 "nbformat": 4,
 "nbformat_minor": 5
}
